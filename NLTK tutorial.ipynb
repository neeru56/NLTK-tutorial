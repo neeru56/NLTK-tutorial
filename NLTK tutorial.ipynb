{
 "cells": [
  {
   "cell_type": "markdown",
   "metadata": {},
   "source": [
    "# NLTK - Natural Language Toolkit\n",
    "\n",
    "NLTK is a leading platform for building Python programs to work with human language data. It provides easy-to-use interfaces to over 50 corpora and lexical resources such as WordNet, along with a suite of text processing libraries for classification, tokenization, stemming, tagging, parsing, and semantic reasoning, wrappers for industrial-strength NLP libraries.\n",
    "Here we will be covering the below topics related to NLTK. <br/>\n",
    "<br/>\n",
    " Part 1 - Basics of Python Programming   <br/>\n",
    " Part 2 - Basic operations with NLTK library  <br/>\n",
    " Part 3 - Text Corpora available in NLTK library <br/>\n",
    " Part 4 - Text Pre-Processing and Cleansing <br/>\n",
    " Part 5 - POS tagging <br/>\n",
    " Part 6 - Accessing raw text <br/>\n",
    " Part 7 - Parsing and NER <br/>\n",
    " Part 8 - Feature vector generation <br/>\n"
   ]
  },
  {
   "cell_type": "markdown",
   "metadata": {},
   "source": [
    "# Part 1 -  Basics of Python Programming\n",
    "Very quick introduction to operations on list and string, creation of function and dictonaries and regular expressions.\n"
   ]
  },
  {
   "cell_type": "code",
   "execution_count": 3,
   "metadata": {},
   "outputs": [
    {
     "name": "stdout",
     "output_type": "stream",
     "text": [
      "7\n",
      "['Hello', 'world']\n",
      "First element :the\n",
      "\n",
      "['the', 'family', 'of', 'Dashwood', 'had', 'long', '.', 'Some']\n",
      "\n",
      "Hello Python\n",
      "['Hello', 'Python']\n",
      "\n",
      "{'is', 'all', 'and', 'done', 'than', 'more', 'said', 'After'}\n",
      "['all', 'is', 'and', 'is']\n",
      "\n",
      "['After', 'all', 'is', 'said', 'and', 'done', 'more', 'is', 'said']\n"
     ]
    },
    {
     "data": {
      "text/plain": [
       "0.7272727272727273"
      ]
     },
     "execution_count": 3,
     "metadata": {},
     "output_type": "execute_result"
    }
   ],
   "source": [
    "lst=['the', 'family', 'of', 'Dashwood', 'had', 'long', '.']    # creating a list\n",
    "print(len(lst))                                                # length of a list \n",
    "print(['Hello'] + ['world'])                                   # combining 2 list\n",
    "                                                               # You cannot concatenate 'str' and 'int' objects\n",
    "print('First element :' +str(lst[0]))                          # way to concatenate string and list object\n",
    "print()\n",
    "\n",
    "lst.append(\"Some\")                                             # add an item to the list\n",
    "print(lst)\n",
    "print()\n",
    "\n",
    "print(' '.join(['Hello', 'Python']))                           # Converting List to string\n",
    "print('Hello Python'.split())                                  # Converting String to list\n",
    "print()\n",
    "\n",
    "saying = ['After', 'all', 'is', 'said', 'and', 'done','more', 'is', 'said', 'than', 'done']\n",
    "tokens = set(saying)                                           # extract unique elemants using set\n",
    "print(tokens)\n",
    "print([w for w in saying if len(w) < 4])                       # conditional loop\n",
    "print()\n",
    "print(saying[:-2])                                             # indexing\n",
    "\n",
    "\n",
    "def lexical_diversity(my_text_data):                           # creating a simple function which we can reuse\n",
    "    word_count = len(my_text_data)\n",
    "    vocab_size = len(set(my_text_data))\n",
    "    diversity_score = vocab_size / word_count\n",
    "    return diversity_score\n",
    "lexical_diversity(saying)"
   ]
  },
  {
   "cell_type": "markdown",
   "metadata": {},
   "source": [
    "Split:This is a method to split the string based on some delimiters.If no argument is provided,it takes whitespace as delimiter.<br/>\n",
    "Strip: This is a method that can remove trailing whitespace, like '\\n', '\\n\\r' from the string. \n",
    "rstrip() and lstrip() to strip trailing whitespaces to the right and left of the string.\n",
    "Upper/Lower: We can change the case of the string using these methods. <br/>\n",
    "Replace: This will help you substitute a substring from the string."
   ]
  },
  {
   "cell_type": "code",
   "execution_count": 6,
   "metadata": {},
   "outputs": [
    {
     "name": "stdout",
     "output_type": "stream",
     "text": [
      "['Monty', 'Python', '!', 'And', 'the', 'holy', 'Grail', '!']\n",
      "\n",
      "Monty Python ! And the holy Grail !\n",
      "\n",
      "MONTY PYTHON ! AND THE HOLY GRAIL ! \n",
      "\n",
      "Monty Python ? And the holy Grail ? \n",
      "\n"
     ]
    }
   ],
   "source": [
    "mystring=\"Monty Python ! And the holy Grail ! \\n\"\n",
    "print(mystring.split())\n",
    "print()\n",
    "print(mystring.strip())\n",
    "print()\n",
    "print (mystring.upper())\n",
    "print(mystring.replace('!',\"?\"))"
   ]
  },
  {
   "cell_type": "markdown",
   "metadata": {},
   "source": [
    "Dictionaries\n",
    "The most commonly used data structure is dictionaries, also known as associative arrays/memories in other programming languages. Dictionaries are data structures that are indexed by keys, which can be any immutable type; such as strings and numbers can always be keys. Dictionaries are handy data structure that used widely across programming languages to implement many algorithms. Python dictionaries are one of the most elegant implementations of hash tables in any programming language. It's so easy to work around dictionary, and the great thing is that with few nuggets of code you can build a very complex data structure, while the same task can take so much time and coding effort in other languages."
   ]
  },
  {
   "cell_type": "code",
   "execution_count": 7,
   "metadata": {},
   "outputs": [
    {
     "name": "stdout",
     "output_type": "stream",
     "text": [
      "{'Monty': 1, 'Python': 1, '!': 2, 'And': 1, 'the': 1, 'holy': 1, 'Grail': 1}\n"
     ]
    }
   ],
   "source": [
    "# Declare a dictionary\n",
    "word_freq={}\n",
    "for tok in mystring.split():\n",
    "    if tok in word_freq:\n",
    "        word_freq [tok]+=1\n",
    "    else:\n",
    "        word_freq [tok]=1\n",
    "print(word_freq)"
   ]
  },
  {
   "cell_type": "markdown",
   "metadata": {},
   "source": [
    "Regular expressions\n",
    "We have to import re module to use regular expression.\n",
    "We can do pattern finding using regular expressions. One of the common functions that is used in finding all the patterns in a string is findall. It will look for the given patterns in the string, and will give you a list of all the matched objects.\n",
    "Operator\tBehavior\n",
    "1. \\w: This expression will match a character or a digit equivalent to [a-z A-Z 0-9]\n",
    "2. \\W (upper case W) matches any non-word character.\n",
    "3. \\s: This expression (lowercase s) matches a single whitespace character -space, newline, return, tab, form [\\n\\r\\t\\f].\n",
    "4. \\S: This expression matches any non-whitespace character.\n",
    "5. \\t: This expression performs a tab operation.\n",
    "6. \\n: This expression is used for a newline character.\n",
    "7. \\r: This expression is used for a return character.\n",
    "8. \\d: Decimal digit [0-9].\n",
    "9. ^: This expression is used at the start of the string.\n",
    "10. $: This expression is used at the end of the string.\n",
    "11. \\: This expression is used to nullify the specialness of the special character.\n"
   ]
  },
  {
   "cell_type": "code",
   "execution_count": 62,
   "metadata": {},
   "outputs": [
    {
     "name": "stdout",
     "output_type": "stream",
     "text": [
      "['u', 'e', 'a', 'i', 'a', 'i', 'i', 'i', 'e', 'i', 'a', 'i', 'o', 'i', 'o', 'u']\n"
     ]
    },
    {
     "data": {
      "text/plain": [
       "16"
      ]
     },
     "execution_count": 62,
     "metadata": {},
     "output_type": "execute_result"
    }
   ],
   "source": [
    "import re\n",
    "word = 'supercalifragilisticexpialidocious'\n",
    "print(re.findall(r'[aeiou]', word))\n",
    "len(re.findall(r'[aeiou]', word))"
   ]
  },
  {
   "cell_type": "markdown",
   "metadata": {},
   "source": [
    "# Part 2 - Basic operations with NLTK library "
   ]
  },
  {
   "cell_type": "markdown",
   "metadata": {},
   "source": [
    "Browse the available packages using nltk.download()"
   ]
  },
  {
   "cell_type": "code",
   "execution_count": null,
   "metadata": {},
   "outputs": [
    {
     "name": "stdout",
     "output_type": "stream",
     "text": [
      "showing info https://raw.githubusercontent.com/nltk/nltk_data/gh-pages/index.xml\n"
     ]
    }
   ],
   "source": [
    "import nltk\n",
    "nltk.download()"
   ]
  },
  {
   "cell_type": "markdown",
   "metadata": {},
   "source": [
    "A dialog box appears and we can download different collection present in the package. After downloading the data  we can load the required data."
   ]
  },
  {
   "cell_type": "code",
   "execution_count": 1,
   "metadata": {},
   "outputs": [
    {
     "name": "stdout",
     "output_type": "stream",
     "text": [
      "*** Introductory Examples for the NLTK Book ***\n",
      "Loading text1, ..., text9 and sent1, ..., sent9\n",
      "Type the name of the text or sentence to view it.\n",
      "Type: 'texts()' or 'sents()' to list the materials.\n",
      "text1: Moby Dick by Herman Melville 1851\n",
      "text2: Sense and Sensibility by Jane Austen 1811\n",
      "text3: The Book of Genesis\n",
      "text4: Inaugural Address Corpus\n",
      "text5: Chat Corpus\n",
      "text6: Monty Python and the Holy Grail\n",
      "text7: Wall Street Journal\n",
      "text8: Personals Corpus\n",
      "text9: The Man Who Was Thursday by G . K . Chesterton 1908\n"
     ]
    }
   ],
   "source": [
    "from nltk.book import *"
   ]
  },
  {
   "cell_type": "markdown",
   "metadata": {},
   "source": [
    "###  >\tSearch text\n",
    "We can search for a word in the text using 'concordance'. It will allow us to see words in context.We can use 'similar', to search relevant word in the text. 'common_context' allows us to examine the context that is shared by two or more words."
   ]
  },
  {
   "cell_type": "code",
   "execution_count": 3,
   "metadata": {},
   "outputs": [
    {
     "name": "stdout",
     "output_type": "stream",
     "text": [
      "Displaying 9 of 9 matches:\n",
      "h , and she became his wife ; and he loved h and Isaac was comforted after his \n",
      " man , dwelling in tents . And Isaac loved Esau , because he did eat of his ven\n",
      "did eat of his venison : but Rebekah loved Jacob . And Jacob sod pottage : and \n",
      "de savoury meat , such as his father loved . And Rebekah took goodly raiment of\n",
      "utiful and well favoured . And Jacob loved Rachel ; and said , I will serve the\n",
      "he went in also unto Rachel , and he loved also Rachel more than Leah , and ser\n",
      "Dinah the daughter of Jacob , and he loved the damsel , and spake kindly unto t\n",
      "ather their evil report . Now Israel loved Joseph more than all his children , \n",
      "n his brethren saw that their father loved him more than all his brethren , the\n"
     ]
    }
   ],
   "source": [
    "text3.concordance(\"loved\")"
   ]
  },
  {
   "cell_type": "code",
   "execution_count": 9,
   "metadata": {},
   "outputs": [
    {
     "name": "stdout",
     "output_type": "stream",
     "text": [
      "attention time regard mother love heart opinion sister wishes wife\n",
      "arrival marianne kindness family it marriage sisters sake conduct mind\n"
     ]
    }
   ],
   "source": [
    "text2.similar('affection')"
   ]
  },
  {
   "cell_type": "code",
   "execution_count": 10,
   "metadata": {},
   "outputs": [
    {
     "name": "stdout",
     "output_type": "stream",
     "text": [
      "a_pretty am_glad a_lucky is_pretty be_glad\n"
     ]
    }
   ],
   "source": [
    "text2.common_contexts(['monstrous','very'])"
   ]
  },
  {
   "cell_type": "markdown",
   "metadata": {},
   "source": [
    "### > Dispersion plot\n",
    "1. Location of words\n",
    "2. patterns of word usage\n",
    "3. occurence of the words , \n",
    "can be found out by dispersion plot. Row shows the text and columns gives instance of the word."
   ]
  },
  {
   "cell_type": "code",
   "execution_count": 5,
   "metadata": {},
   "outputs": [
    {
     "data": {
      "image/png": "[encoded data removed]",
      "text/plain": [
       "<Figure size 432x288 with 1 Axes>"
      ]
     },
     "metadata": {},
     "output_type": "display_data"
    }
   ],
   "source": [
    "text4.dispersion_plot([\"democracy\",\"freedom\",\"America\"])"
   ]
  },
  {
   "cell_type": "markdown",
   "metadata": {},
   "source": [
    "### > Counting Vocabulary"
   ]
  },
  {
   "cell_type": "code",
   "execution_count": 10,
   "metadata": {},
   "outputs": [
    {
     "data": {
      "text/plain": [
       "(704, 1.5640968673628082, 0.13477005109975562)"
      ]
     },
     "execution_count": 10,
     "metadata": {},
     "output_type": "execute_result"
    }
   ],
   "source": [
    "def lexical_diversity(text,word):\n",
    "    a=text.count(word)                 # Number of time the word appear\n",
    "    per=100 * a / len(text)            # percentage of the total number of words in this text\n",
    "    unique=len(set(text)) / len(text)  # Number of distinct words\n",
    "    return a,per,unique\n",
    "\n",
    "lexical_diversity(text5,\"lol\")\n"
   ]
  },
  {
   "cell_type": "markdown",
   "metadata": {},
   "source": [
    "Number of distinct words is 13% of the total number of words. Number of times the word lol appear in text5 is 704 and this word constitutes  1.56%  of the total number of words in this text."
   ]
  },
  {
   "cell_type": "markdown",
   "metadata": {},
   "source": [
    "### > Frequency Distributions\n",
    "we can automatically identify the words of a text that are most informative about the topic and genre of the text. What proportion of the text is taken up with such words? We can generate a cumulative frequency plot for these words. "
   ]
  },
  {
   "cell_type": "code",
   "execution_count": 13,
   "metadata": {},
   "outputs": [
    {
     "name": "stdout",
     "output_type": "stream",
     "text": [
      "<FreqDist with 6833 samples and 141576 outcomes>\n",
      "[(',', 9397), ('to', 4063), ('.', 3975), ('the', 3861), ('of', 3565), ('and', 3350), ('her', 2436), ('a', 2043), ('I', 2004), ('in', 1904), ('was', 1846), ('it', 1568), ('\"', 1506), (';', 1419), ('she', 1333)]\n"
     ]
    },
    {
     "data": {
      "image/png": "[encoded data removed]",
      "text/plain": [
       "<Figure size 432x288 with 1 Axes>"
      ]
     },
     "metadata": {},
     "output_type": "display_data"
    }
   ],
   "source": [
    "fdist1 = FreqDist(text2) \n",
    "print(fdist1)\n",
    "first_20=fdist1.most_common(15)\n",
    "print(first_20)\n",
    "fdist1.plot(20, cumulative=True)"
   ]
  },
  {
   "cell_type": "markdown",
   "metadata": {},
   "source": [
    "### > Collocations and Bigrams\n",
    "A collocation is a sequence of words that occur together unusually often. Thus red wine is a collocation, whereas the wine is not. A characteristic of collocations is that they are resistant to substitution with words that have similar senses; for example, maroon wine sounds definitely odd.\n",
    "\n",
    "To get a handle on collocations, we start off by extracting from a text a list of word pairs, also known as bigrams. This is easily accomplished with the function  bigrams():"
   ]
  },
  {
   "cell_type": "code",
   "execution_count": 20,
   "metadata": {},
   "outputs": [
    {
     "name": "stdout",
     "output_type": "stream",
     "text": [
      "[('more', 'is'), ('is', 'said'), ('said', 'than'), ('than', 'done')]\n",
      "\n",
      "BLACK KNIGHT; clop clop; HEAD KNIGHT; mumble mumble; Holy Grail;\n",
      "squeak squeak; FRENCH GUARD; saw saw; Sir Robin; Run away; CARTOON\n",
      "CHARACTER; King Arthur; Iesu domine; Pie Iesu; DEAD PERSON; Round\n",
      "Table; clap clap; OLD MAN; dramatic chord; dona eis\n"
     ]
    }
   ],
   "source": [
    "print(list(bigrams(['more', 'is', 'said', 'than', 'done'])))\n",
    "print()\n",
    "text6.collocations()"
   ]
  },
  {
   "cell_type": "markdown",
   "metadata": {},
   "source": [
    "### > Word Sense Disambiguaton\n",
    "In word sense disambiguation we want to work out which sense of a word was intended in a given context. Consider the ambiguous words serve and dish:\n",
    "\t\n",
    "a.\t\tserve: help with food or drink; hold an office; put ball into play\n",
    "\n",
    "b.\t\tdish: plate; course of a meal; communications device\n"
   ]
  },
  {
   "cell_type": "markdown",
   "metadata": {},
   "source": [
    "# Part 3 - Text Corpora available in NLTK library "
   ]
  },
  {
   "cell_type": "markdown",
   "metadata": {},
   "source": [
    "\n",
    "A text corpus is a large, structured collection of texts. NLTK comes with many corpora, e.g., \n",
    "1. Brown Corpus - contains text from 500 sources, and the sources have been categorized by genre, such as news, editorial, and so on\n",
    "2. Gutenberg Corpus- contains 25,000 free electronic books\n",
    "3. Web text - content from a Firefox discussion forum, conversations overheard in New York, the movie script of Pirates of the Carribean, personal advertisements, and wine reviews\n",
    "4. Reuters Corpus - contains 10,788 news documents totaling 1.3 million words. The documents have been classified into 90 topics, and grouped into two sets, called \"training\" and \"test\"\n",
    "5. Inaugural Address Corpus - a collection of 55 texts, one for each american presidential speech...etc There are Corpora in Other Languages as well. "
   ]
  },
  {
   "cell_type": "code",
   "execution_count": 42,
   "metadata": {},
   "outputs": [
    {
     "data": {
      "text/plain": [
       "['austen-emma.txt',\n",
       " 'austen-persuasion.txt',\n",
       " 'austen-sense.txt',\n",
       " 'bible-kjv.txt',\n",
       " 'blake-poems.txt',\n",
       " 'bryant-stories.txt',\n",
       " 'burgess-busterbrown.txt',\n",
       " 'carroll-alice.txt',\n",
       " 'chesterton-ball.txt',\n",
       " 'chesterton-brown.txt',\n",
       " 'chesterton-thursday.txt',\n",
       " 'edgeworth-parents.txt',\n",
       " 'melville-moby_dick.txt',\n",
       " 'milton-paradise.txt',\n",
       " 'shakespeare-caesar.txt',\n",
       " 'shakespeare-hamlet.txt',\n",
       " 'shakespeare-macbeth.txt',\n",
       " 'whitman-leaves.txt']"
      ]
     },
     "execution_count": 42,
     "metadata": {},
     "output_type": "execute_result"
    }
   ],
   "source": [
    "from nltk.corpus import gutenberg\n",
    "gutenberg.fileids()\n",
    "#or\n",
    "nltk.corpus.gutenberg.fileids()  #  files of the corpus"
   ]
  },
  {
   "cell_type": "markdown",
   "metadata": {},
   "source": [
    "A short program to display some information about each text by looping over all the values of fileid corresponding to the gutenberg file identifiers and then computing statistics for each text. The output gives average word length, average sentence length, and the number of times each vocabulary item appears in the text on average ( lexical diversity score).\n"
   ]
  },
  {
   "cell_type": "code",
   "execution_count": 2,
   "metadata": {},
   "outputs": [
    {
     "name": "stdout",
     "output_type": "stream",
     "text": [
      "5 25 26 austen-emma.txt\n",
      "5 26 17 austen-persuasion.txt\n",
      "5 28 22 austen-sense.txt\n",
      "4 34 79 bible-kjv.txt\n",
      "5 19 5 blake-poems.txt\n",
      "4 19 14 bryant-stories.txt\n",
      "4 18 12 burgess-busterbrown.txt\n",
      "4 20 13 carroll-alice.txt\n",
      "5 20 12 chesterton-ball.txt\n",
      "5 23 11 chesterton-brown.txt\n",
      "5 18 11 chesterton-thursday.txt\n",
      "4 21 25 edgeworth-parents.txt\n",
      "5 26 15 melville-moby_dick.txt\n",
      "5 52 11 milton-paradise.txt\n",
      "4 12 9 shakespeare-caesar.txt\n",
      "4 12 8 shakespeare-hamlet.txt\n",
      "4 12 7 shakespeare-macbeth.txt\n",
      "5 36 12 whitman-leaves.txt\n"
     ]
    }
   ],
   "source": [
    "for fileid in gutenberg.fileids():\n",
    "    num_chars = len(gutenberg.raw(fileid))\n",
    "    num_words = len(gutenberg.words(fileid))\n",
    "    num_sents = len(gutenberg.sents(fileid))\n",
    "    num_vocab = len(set(w.lower() for w in gutenberg.words(fileid)))\n",
    "    print(round(num_chars/num_words), round(num_words/num_sents), round(num_words/num_vocab), fileid)"
   ]
  },
  {
   "cell_type": "markdown",
   "metadata": {},
   "source": [
    "The raw() function gives us the contents of the file without any linguistic processing. So, for example, len(gutenberg.raw('blake-poems.txt')) tells us how many letters occur in the text, including the spaces between words. The sents() function divides the text up into its sentences, where each sentence is a list of words."
   ]
  },
  {
   "cell_type": "code",
   "execution_count": 28,
   "metadata": {},
   "outputs": [
    {
     "data": {
      "text/plain": [
       "[['[', 'The', 'Tragedie', 'of', 'Macbeth', 'by', 'William', 'Shakespeare', '1603', ']'], ['Actus', 'Primus', '.'], ...]"
      ]
     },
     "execution_count": 28,
     "metadata": {},
     "output_type": "execute_result"
    }
   ],
   "source": [
    "macbeth_sentences = gutenberg.sents('shakespeare-macbeth.txt')\n",
    "macbeth_sentences"
   ]
  },
  {
   "cell_type": "markdown",
   "metadata": {},
   "source": [
    "We can access the corpus as a list of words, or a list of sentences (where each sentence is itself just a list of words). We can optionally specify particular categories or files to read"
   ]
  },
  {
   "cell_type": "code",
   "execution_count": 67,
   "metadata": {},
   "outputs": [
    {
     "name": "stdout",
     "output_type": "stream",
     "text": [
      "['adventure', 'belles_lettres', 'editorial', 'fiction', 'government', 'hobbies', 'humor', 'learned', 'lore', 'mystery', 'news', 'religion', 'reviews', 'romance', 'science_fiction']\n",
      "\n",
      "['The', 'Fulton', 'County', 'Grand', 'Jury', 'said', ...]\n",
      "\n",
      "['Does', 'our', 'society', 'have', 'a', 'runaway', ',', ...]\n"
     ]
    }
   ],
   "source": [
    "from nltk.corpus import brown\n",
    "print(brown.categories())\n",
    "print()\n",
    "news_text=brown.words(categories='news')\n",
    "print(news)\n",
    "print()\n",
    "print(brown.words(fileids=['cg22']))"
   ]
  },
  {
   "cell_type": "markdown",
   "metadata": {},
   "source": [
    "A conditional frequency distribution is a collection of frequency distributions, each one for a different condition. They can be used for counting word frequencies, given a context or a genre."
   ]
  },
  {
   "cell_type": "code",
   "execution_count": 68,
   "metadata": {},
   "outputs": [
    {
     "name": "stdout",
     "output_type": "stream",
     "text": [
      "can: 94 could: 87 may: 93 might: 38 must: 53 will: 389 \n",
      "                  can could   may might  must  will \n",
      "           news    93    86    66    38    50   389 \n",
      "       religion    82    59    78    12    54    71 \n",
      "        hobbies   268    58   131    22    83   264 \n",
      "science_fiction    16    49     4    12     8    16 \n",
      "        romance    74   193    11    51    45    43 \n",
      "          humor    16    30     8     8     9    13 \n"
     ]
    },
    {
     "data": {
      "image/png": "[encoded data removed]",
      "text/plain": [
       "<Figure size 432x288 with 1 Axes>"
      ]
     },
     "metadata": {},
     "output_type": "display_data"
    }
   ],
   "source": [
    "fdist = nltk.FreqDist(w.lower() for w in news_text)\n",
    "modals = ['can', 'could', 'may', 'might', 'must', 'will']\n",
    "for m in modals:\n",
    "    print(m + ':', fdist[m], end=' ')\n",
    "print()\n",
    "\n",
    "cfd = nltk.ConditionalFreqDist(\n",
    "    (genre, word)\n",
    "    for genre in brown.categories()\n",
    "    for word in brown.words(categories=genre))\n",
    "genres = ['news', 'religion', 'hobbies', 'science_fiction', 'romance', 'humor']\n",
    "modals = ['can', 'could', 'may', 'might', 'must', 'will']\n",
    "cfd.tabulate(conditions=genres, samples=modals)\n",
    "cfd.plot()"
   ]
  },
  {
   "cell_type": "markdown",
   "metadata": {},
   "source": [
    "### > Corpora in Other Languages"
   ]
  },
  {
   "cell_type": "code",
   "execution_count": 34,
   "metadata": {},
   "outputs": [
    {
     "name": "stdout",
     "output_type": "stream",
     "text": [
      "[nltk_data] Downloading package indian to\n",
      "[nltk_data]     C:\\Users\\honey\\AppData\\Roaming\\nltk_data...\n",
      "[nltk_data]   Unzipping corpora\\indian.zip.\n"
     ]
    },
    {
     "data": {
      "text/plain": [
       "['पूर्ण', 'प्रतिबंध', 'हटाओ', ':', 'इराक', 'संयुक्त', ...]"
      ]
     },
     "execution_count": 34,
     "metadata": {},
     "output_type": "execute_result"
    }
   ],
   "source": [
    "nltk.download('indian')\n",
    "nltk.corpus.indian.words('hindi.pos')"
   ]
  },
  {
   "cell_type": "markdown",
   "metadata": {},
   "source": [
    "### > Loading your own Corpus"
   ]
  },
  {
   "cell_type": "code",
   "execution_count": 41,
   "metadata": {},
   "outputs": [
    {
     "data": {
      "text/plain": [
       "['Datasets_Attributions.docx',\n",
       " 'Setup_Anaconda.docx',\n",
       " 'Week1_Introduction to Machine Learning and Toolkit.pdf',\n",
       " 'Week1_Introduction_to_Machine_Learning_and_Toolkit_HW.ipynb',\n",
       " 'data/Ames_Housing_Sales.csv',\n",
       " 'data/Human_Activity_Recognition_Using_Smartphones_Data.csv',\n",
       " 'data/Human_Resources_Employee_Attrition.csv',\n",
       " 'data/Iris_Data.csv',\n",
       " 'data/Orange_Telecom_Churn_Data.csv',\n",
       " 'data/Wholesale_Customers_Data.csv',\n",
       " 'data/Wine_Quality_Data.csv',\n",
       " 'data/X_Y_Sinusoid_Data.csv']"
      ]
     },
     "execution_count": 41,
     "metadata": {},
     "output_type": "execute_result"
    }
   ],
   "source": [
    "from nltk.corpus import PlaintextCorpusReader\n",
    "corpus_root = 'D:/UCC notes/machine learning/Intel-ML101_Class1' \n",
    "wordlists = PlaintextCorpusReader(corpus_root, '.*') \n",
    "wordlists.fileids()"
   ]
  },
  {
   "cell_type": "markdown",
   "metadata": {},
   "source": [
    "###  > WordNet\n",
    "WordNet is a semantically-oriented dictionary of English, similar to a traditional thesaurus but with a richer structure. NLTK includes the English WordNet, with 155,287 words and 117,659 synonym sets. We'll begin by looking at synonyms and how they are accessed in WordNet. A synset, or \"synonym set\", a collection of synonymous words (or \"lemmas\")"
   ]
  },
  {
   "cell_type": "code",
   "execution_count": 78,
   "metadata": {},
   "outputs": [
    {
     "data": {
      "text/plain": [
       "[Synset('mouse.n.01'),\n",
       " Synset('shiner.n.01'),\n",
       " Synset('mouse.n.03'),\n",
       " Synset('mouse.n.04'),\n",
       " Synset('sneak.v.01'),\n",
       " Synset('mouse.v.02')]"
      ]
     },
     "execution_count": 78,
     "metadata": {},
     "output_type": "execute_result"
    }
   ],
   "source": [
    "from nltk.corpus import wordnet as wn\n",
    "wn.synsets('mouse')"
   ]
  },
  {
   "cell_type": "markdown",
   "metadata": {},
   "source": [
    "# Part  4 - Text Pre-Processing and Cleansing"
   ]
  },
  {
   "cell_type": "markdown",
   "metadata": {},
   "source": [
    "### > Sentence splitter <br/>\n",
    "Some of the NLP applications require splitting a large raw text into sentences to get more meaningful information out.  Intuitively, a sentence is an acceptable unit of conversation. The function, sent_tokenize, internally uses a sentence boundary detection algorithm that comes pre-built into NLTK. If your application requires a custom sentence splitter, there are ways that we can train a sentence splitter of our own:<br/>\n",
    "> import nltk.tokenize.punkt <br/>\n",
    "> tokenizer = nltk.tokenize.punkt.PunktSentenceTokenizer()"
   ]
  },
  {
   "cell_type": "code",
   "execution_count": 3,
   "metadata": {},
   "outputs": [
    {
     "name": "stdout",
     "output_type": "stream",
     "text": [
      "[' This is an example sent.', 'The sentence splitter will split on sent markers.', 'Ohh really !', '!']\n",
      "\n"
     ]
    }
   ],
   "source": [
    "inputstring = ' This is an example sent. The sentence splitter will split on sent markers. Ohh really !!'\n",
    "from nltk.tokenize import sent_tokenize\n",
    "all_sent = sent_tokenize(inputstring)\n",
    "print(all_sent)\n",
    "print()"
   ]
  },
  {
   "cell_type": "markdown",
   "metadata": {},
   "source": [
    "### > Tokenization \n",
    "A word (Token) is the minimal unit that a machine can understand and process. So any text string cannot be further processed without going through tokenization. Tokenization is the process of splitting the raw string into meaningful tokens. The complexity of tokenization varies according to the need of the NLP application, and the complexity of the language itself. There are two most commonly used tokenizers. The first is word_tokenize, which is the default one, and will work in most cases. The other is regex_tokenize, which is more of a customized tokenizer for the specific needs of the user. Most of the other\n",
    "tokenizers can be derived from regex tokenizers. You can also build a very specific tokenizer using a different pattern.\n"
   ]
  },
  {
   "cell_type": "code",
   "execution_count": 4,
   "metadata": {},
   "outputs": [
    {
     "name": "stdout",
     "output_type": "stream",
     "text": [
      "['This', 'is', 'an', 'example', 'sent', '.', 'The', 'sentence', 'splitter', 'will', 'split', 'on', 'sent', 'markers', '.', 'Ohh', 'really', '!', '!']\n",
      "['This', 'is', 'an', 'example', 'sent', 'The', 'sentence', 'splitter', 'will', 'split', 'on', 'sent', 'markers', 'Ohh', 'really']\n",
      "\n"
     ]
    }
   ],
   "source": [
    "from nltk.tokenize import word_tokenize\n",
    "print(word_tokenize(inputstring))\n",
    "from nltk.tokenize import regexp_tokenize, wordpunct_tokenize,blankline_tokenize\n",
    "print(regexp_tokenize(inputstring, pattern='\\w+'))\n",
    "print()"
   ]
  },
  {
   "cell_type": "markdown",
   "metadata": {},
   "source": [
    "### > Stemming\n",
    "Stemming, in literal terms, is the process of cutting down the branches of a tree to its stem. So effectively, with the use of some basic rules, any token can be cut down to its stem. Stemming is more of a crude rule-based process by which we want to\n",
    "club together different variations of the token. For example, the word eat will have variations like eating, eaten, eats, and so on. \n"
   ]
  },
  {
   "cell_type": "code",
   "execution_count": 5,
   "metadata": {},
   "outputs": [
    {
     "name": "stdout",
     "output_type": "stream",
     "text": [
      "talk\n",
      "dream\n"
     ]
    }
   ],
   "source": [
    "from nltk.stem import PorterStemmer # import Porter stemmer\n",
    "from nltk.stem.lancaster import LancasterStemmer\n",
    "pst = PorterStemmer() # create obj of the PorterStemmer\n",
    "lst = LancasterStemmer() # create obj of LancasterStemmer\n",
    "print(lst.stem(\"talking\"))\n",
    "print(pst.stem(\"dreaming\"))"
   ]
  },
  {
   "cell_type": "markdown",
   "metadata": {},
   "source": [
    "### > Lemmatization \n",
    "Lemmatization is a more methodical way of converting all the grammatical/inflected forms of the root of the word. Lemmatization uses context and part of speech to determine the inflected form of the word and applies different normalization rules for each part of speech to get the root word (lemma).\n"
   ]
  },
  {
   "cell_type": "code",
   "execution_count": 6,
   "metadata": {},
   "outputs": [
    {
     "name": "stdout",
     "output_type": "stream",
     "text": [
      "ran\n"
     ]
    }
   ],
   "source": [
    "from nltk.stem import WordNetLemmatizer\n",
    "wlem = WordNetLemmatizer()\n",
    "print(wlem.lemmatize(\"ran\"))"
   ]
  },
  {
   "cell_type": "markdown",
   "metadata": {},
   "source": [
    "### > Stop word removal \n",
    "There is also a corpus of stopwords, that is, high-frequency words like the, to and also that we sometimes want to filter out of a document before further processing. Stopwords usually have little lexical content, and their presence in a text fails to distinguish it from other texts.\n"
   ]
  },
  {
   "cell_type": "code",
   "execution_count": 7,
   "metadata": {},
   "outputs": [
    {
     "name": "stdout",
     "output_type": "stream",
     "text": [
      "['This', 'test']\n"
     ]
    }
   ],
   "source": [
    "from nltk.corpus import stopwords\n",
    "a=stopwords.words('english')  # NLTK supports 22 languages for removing the stop words\n",
    "text = \"This is just a test\"\n",
    "cleanwordlist = [word for word in text.split() if word not in a]\n",
    "print(cleanwordlist)"
   ]
  },
  {
   "cell_type": "markdown",
   "metadata": {},
   "source": [
    "### >  Rare word removal \n",
    "This is very intuitive, as some of the words that are very unique in nature like names, brands, product names, and some of the noise characters, such as html leftouts, also need to be removed for different NLP tasks."
   ]
  },
  {
   "cell_type": "markdown",
   "metadata": {},
   "source": [
    "# Part 5 - POS tagging\n"
   ]
  },
  {
   "cell_type": "code",
   "execution_count": null,
   "metadata": {},
   "outputs": [],
   "source": []
  },
  {
   "cell_type": "markdown",
   "metadata": {},
   "source": [
    "You must be wondering what could be a typical use of POS in a real application.\n",
    "In a typical preprocessing, we might want to look for all the nouns. Now this code\n",
    "snippet will give us all the nouns in the given sentence:\n",
    ">tagged = nltk.pos_tag(word_tokenize(s))  <br/>\n",
    ">allnoun = [word for word,pos in tagged if pos in ['NN','NNP'] ]\n",
    "\n",
    "### > N-gram tagger\n",
    "N-gram tagger is a subclass of SequentialTagger, where the tagger takes previous n\n",
    "words in the context, to predict the POS tag for the given token. There are variations\n",
    "of these taggers where people have tried it with UnigramsTagger, BigramsTagger,\n",
    "and TrigramTagger:"
   ]
  },
  {
   "cell_type": "code",
   "execution_count": null,
   "metadata": {},
   "outputs": [],
   "source": [
    "from nltk.tag import UnigramTagger\n",
    "from nltk.tag import DefaultTagger\n",
    "from nltk.tag import BigramTagger\n",
    "from nltk.tag import TrigramTagger\n",
    "\n",
    "\n",
    "brown_tagged_sents = brown.tagged_sents(categories='news')\n",
    "default_tagger = nltk.DefaultTagger('NN')\n",
    "print (default_tagger.evaluate(brown_tagged_sents))\n",
    "\n",
    "# we are dividing the data into a test and train to evaluate our taggers.\n",
    "train_data = brown_tagged_sents[:int(len(brown_tagged_sents) * 0.9)]\n",
    "test_data = brown_tagged_sents[int(len(brown_tagged_sents) * 0.9):]\n",
    "unigram_tagger = UnigramTagger(train_data,backoff=default_tagger)\n",
    "print (unigram_tagger.evaluate(test_data))\n",
    "\n",
    "bigram_tagger = BigramTagger(train_data, backoff=unigram_tagger)\n",
    "print(bigram_tagger.evaluate(test_data))\n",
    "\n",
    "trigram_tagger = TrigramTagger(train_data,backoff=bigram_tagger)\n",
    "print(trigram_tagger.evaluate(test_data))\n"
   ]
  },
  {
   "cell_type": "markdown",
   "metadata": {},
   "source": [
    "Unigram just considers the conditional frequency of tags and predicts the most frequent tag for the every given token. The bigram_tagger parameter will consider the tags of the given word and the previous word, and tag as tuple to get the given\n",
    "tag for the test word. The TrigramTagger parameter looks for the previous two words with a similar process. It's very evident that coverage of the TrigramTagger parameter will be less and the accuracy of that instance will be high. On the other hand, UnigramTagger will have better coverage. To deal with this tradeoff between precision/recall, we combine the three taggers in the preceding snippet. First it will look for the trigram of the given word sequence for predicting the tag; if not found it Backoff to BigramTagger parameter and to a UnigramTagger parameter and in end to a NN tag.\n",
    "###  > Regex tagger\n",
    "There is one more class of sequential tagger that is a regular expression based taggers. Here, instead of looking for the exact word, we can define a regular expression, and at the same time we can define the corresponding tag for the given expressions. The regular expression tagger assigns tags to tokens on the basis of matching patterns. For instance, we might guess that any word ending in ed is the past participle of a verb, and any word ending with 's is a possessive noun. We can express these as a list of regular expressions: "
   ]
  },
  {
   "cell_type": "code",
   "execution_count": null,
   "metadata": {},
   "outputs": [],
   "source": [
    "patterns = [ (r'.*ing$', 'VBG'),               # gerunds\n",
    "    (r'.*ed$', 'VBD'),                # simple past\n",
    "    (r'.*es$', 'VBZ'),                # 3rd singular present\n",
    "    (r'.*ould$', 'MD'),               # modals\n",
    "    (r'.*\\'s$', 'NN$'),               # possessive nouns\n",
    "    (r'.*s$', 'NNS'),                 # plural nouns\n",
    "    (r'^-?[0-9]+(.[0-9]+)?$', 'CD'),  # cardinal numbers\n",
    "    (r'.*', 'NN')                     # nouns (default) \n",
    "           ]\n",
    "brown_sents = brown.sents(categories='news')\n",
    "regexp_tagger = nltk.RegexpTagger(patterns)\n",
    "print(regexp_tagger.tag(brown_sents[3]))\n",
    "regexp_tagger.evaluate(brown_tagged_sents)"
   ]
  },
  {
   "cell_type": "markdown",
   "metadata": {},
   "source": [
    "We can see that by just using some of the obvious patterns for POS we are able to reach approximately 30 percent in terms of accuracy. If we combine regex taggers, such as the BackoffTagger, we might improve the performance."
   ]
  },
  {
   "cell_type": "markdown",
   "metadata": {},
   "source": [
    "# Part 6 - Processing Raw Text\n",
    "The goal of this section is to answer the following questions:\n",
    "\n",
    "1. How can we write programs to access text from local files and from the web, in order to get hold of an unlimited range of language material?\n",
    "2. How can we split documents up into individual words and punctuation symbols, so we can carry out the same kinds of analysis we did with text corpora in earlier chapters?\n",
    "3. How can we write programs to produce formatted output and save it in a file?"
   ]
  },
  {
   "cell_type": "markdown",
   "metadata": {},
   "source": [
    "### > Accessing Text from MS Word, plain text files"
   ]
  },
  {
   "cell_type": "code",
   "execution_count": 14,
   "metadata": {},
   "outputs": [
    {
     "name": "stdout",
     "output_type": "stream",
     "text": [
      "<class 'str'>\n",
      "1176965\n",
      "﻿The Project Gutenberg EBook of Crime and Punishment, by Fyodor Dostoevsky\r\n",
      "\r\n",
      "This eBook is for the use of anyone anywhere at no cost and with\r\n",
      "almost no restrictions whatsoever.  You may copy it, giv\n"
     ]
    }
   ],
   "source": [
    "from urllib import request\n",
    "url = \"https://www.gutenberg.org/files/2554/2554-0.txt\"\n",
    "response = request.urlopen(url)\n",
    "raw = response.read().decode('utf8')\n",
    "print(type(raw))\n",
    "print(len(raw))\n",
    "print(raw[:200])"
   ]
  },
  {
   "cell_type": "markdown",
   "metadata": {},
   "source": [
    "### > Accessing text from pdf file\n",
    "1. PyPDF2 (To convert simple, text-based PDF files into text readable by Python)\n",
    "2. textract (To convert non-trivial, scanned PDF files into text readable by Python)\n",
    "3. nltk (To clean and convert phrases into keywords)\n"
   ]
  },
  {
   "cell_type": "code",
   "execution_count": 31,
   "metadata": {},
   "outputs": [
    {
     "name": "stdout",
     "output_type": "stream",
     "text": [
      "['University', 'Nebraska', '-', 'LincolnDigitalCommons', '@', 'University', 'Nebraska', '-', 'Lincoln866=72', '<', '.02875*7727:80', '*6', '#', '<', '=-.7:83.', '.', '866=72', '<', '.02875*7727:80', '*6', '#', '=66.˘˘˘ˇ˛20', '@', '*,86ˇ8558', '--', '2', '<', '2878:4', '<', '1E202', '<', '*5,86687', '=75.', ',1', ':9', '<', '1.', '.', '!', '*', '%', '+*866=72', '<', '.02875*772786687', 'D2', '<', '8=01', '.', ',.', '866=72', '<', '.02875*7727:80', '*02', '<', '8668772', '>', '.', '2', '<', '˜.+', '*', '427,857.', ',.9', '<', '.866=72', '<', '.02875*7727:80', '*6', '<', '=-.7:83.', '.=', '<', '18:2A.-*-6272', '<', '*', '<', '02', '<', '8668772', '>', '.', '2', '<', '.+', '*', '427,857˛2*8˛', '#', '#', '˜', '#', '%', '˚', '!', '#', '#', '#', '˜', '$', '˙˝', '$', '˛˜˛˝', '˝ˇ˘ˇ˙˝ˇ˘˙ˆˆ1E202', '<', '*5,86687', '=75.', ',1', ':9', '<', '1.', '.', 'ANALYSIS', 'OF', 'URBAN', 'WATER', 'USE', 'AND', 'URBAN', 'CONSUMPTIVE', 'WATER', 'USE', 'IN', 'NEBRASKA', '-', 'CASE', 'STUDY', 'IN', 'THE', 'CITY', 'OF', 'LINCOLN', 'GRAND', 'ISLAND', 'AND', 'SIDNEY', 'Yao', 'Li', 'A', 'THESIS', 'Presented', 'Faculty', 'The', 'Graduate', 'College', 'University', 'Nebraska', 'In', 'Partial', 'Fulfillment', 'Requirements', 'For', 'degree', 'Master', 'Community', 'Regional', 'Planning', 'Major', 'Community', 'Regional', 'Planning', 'Under', 'Supervision', 'Professor', 'Zhenghong', 'Tang', 'Lincoln', 'Nebraska', 'Ju', 'ly', '2013', 'ANALYSIS', 'OF', 'URBAN', 'WATER', 'USE', 'AND', 'URBAN', 'CONSUMPTIVE', 'WATER', 'USE', 'IN', 'NEBRASKA', '-', 'CASE', 'STUDY', 'IN', 'THE', 'CITY', 'OF', 'LINCOLN', 'GRAND', 'ISLAND', 'AND', 'SIDNEY', 'Yao', 'Li', 'M.C.R.P', 'University', 'Nebraska', '2013', 'Advis', 'e', 'r', 'Zhenghong', 'Tang', 'The', 'trend', 'increasing', 'water', 'demand', 'drought', 'occurrence', 'Nebraska', 'urban', 'area', 'pose', 'new', 'crucial', 'issue', 'water', 'resource', 'management', '.', 'Former', 'studies', 'Nebraska', 'mainly', 'focus', 'ed', 'rural', 'water', 'demand', 'caused', 'intensive', 'agricultural', 'irrigation', 'largely', 'ignoring', 'growing', 'municipal', 'water', 'use', '.', 'Therefore', 'thesis', 'aims', 'investigate', 'total', 'water', 'use', 'consumptive', 'water', 'use', 'three', 'major', 'urban', 'land', 'use', 'categories', 'residential', 'CIO', 'commercial', 'industrial', 'others', 'open', 'space', '.', 'Three', 'case', 'cities', 'City', 'Lincol', 'n', 'Grand', 'Island', 'Sidney', '.', 'First', 'reliable', 'feasible', 'methodology', 'estimating', 'consumptive', 'water', 'use', 'developed', 'based', 'analysis', 'end', 'water', 'use', 'activities', '.', 'Then', 'possible', 'influential', 'factors', 'e.g', '.', 'population', 'total', 'landscape', 'area', 'statis', 'tically', 'examined', 'evaluate', 'effects', 'amount', 'total', 'consumptive', 'water', 'use', '.', 'Afterwards', 'quantity', 'classification', 'spatial', 'autocorrelation', 'analyses', 'used', 'visually', 'assess', 'quantify', 'spatial', 'patterns', 'total', 'consumptive', 'water', 'use', 'census', 'block', 'level', '2010', '.', 'In', 'three', 'case', 'cities', 'residential', 'consumptive', 'water', 'use', 'var', 'ies', '31', '%', '57', '%', 'total', 'water', 'use', 'positive', 'relationship', 'precipitation', 'aridity', 'identified', '.', 'CIO', 'consumptive', 'water', 'use', 'percentag', 'e', 'range', '19', '%', '27', '%', '.', 'O', 'pen', 'space', 'consumptive', 'water', 'use', 'nearly', 'equal', 'open', 'space', 'total', 'water', 'use', '.', 'C', 'ensus', 'block', 'level', 'linear', 'models', 'identified', 'influential', 'factors', 'amount', 'water', 'use', 'rarely', 'applied', 'previous', 'res', 'earch', '.', 'First', 'best', 'predictors', 'residential', 'total', 'water', 'use', 'area', 'population', 'total', 'landscape', 'area', 'three', 'case', 'cities', '.', 'A', 'positive', 'correlatio', 'n', 'r', 'esidential', 'consumptive', 'water', 'use', 'total', 'landscape', 'area', 'identified', 'Sidney', 'similar', 'relationship', 'found', 'n', 'two', 'cities', '.', 'Second', 'linear', 'regression', 'relationship', 'identified', 'CIO', 'total', 'water', 'use/', 'consumptive', 'water', 'use', 'available', 'independent', 'variables', 'study', '.', 'Third', 'open', 'space', 'total', 'wate', 'r', 'use', 'consumptive', 'water', 'use', 'positively', 'related', 'total', 'landscape', 'area', '.', 'Spatially', 'high', 'water', 'use', 'blocks', 'commonly', 'clustered', 'suburban', 'area', 'larger', 'lots', 'lower', 'population', 'densit', 'ies', '.', 'L', 'ow', 'water', 'use', 'blocks', 'commonly', 'locate', 'near', 'dow', 'ntown', 'living', 'area', 'less', 'yard', 'area', 'higher', 'population', 'densit', 'ies', '.', 'Overall', 'methodology', 'statistical', 'outcome', 'c', 'improve', 'understanding', 'urban', 'water', 'supplies', 'uses', 'dissimilar', 'urban', 'areas', 'across', 'Nebraska', 'providing', 'foundati', 'furt', 'urban', 'water', 'studies', 'integrated', 'water', 'management', '.', 'Acknowledgement', 'This', 'work', 'would', 'possible', 'without', 'adviser', 'Dr.', 'Zhenghong', 'Tang', 'Nebraska', 'Department', 'Natural', 'Resources', 'NDNR', '.', 'During', 'study', 'U', 'niversity', 'N', 'ebraska', 'L', 'incoln', 'I', 'always', 'supported', 'encouraged', 'Dr.', 'Tang', 'study', 'life', '.', 'I', 'really', 'appreciate', 'great', 'advice', 'continuous', 'patience', '.', 'Thanks', 'also', 'go', 'NDNR', 'funding', 'project', 'trusting', 'research', 'capability', '.', 'I', 'never', 'fo', 'rget', 'wonderful', 'experience', 'working', 'supervisors', 'colleagues', 'Jennifer', 'Schellpeper', 'Douglas', 'Hallum', 'Amy', 'Wright', 'Mahesh', 'Pun', 'Brandi', 'Flyr', 'James', 'Gilbert', 'Ruopu', 'Li', 'etc', '.', 'Thank', 'nice', 'numerous', 'constructional', 'advices', '.', 'I', 'would', 'also', 'like', 'thank', 'two', 'committee', 'members', 'Dr.', 'Yunwoo', 'Nam', 'provide', 'solid', 'foundation', 'r', 'esearch', '.', 'Dr.', 'Kilic', 'e', 'vapotranspiration', 'help', 'e', 'improve', 'methodology', 'significantly', '.', 'Many', 'thanks', 'Mr.', 'Arnold', 'J.', 'Radloff', 'City', 'Lincoln', 'Department', 'Public', 'Work', 'Utilities', 'Mr.', 'Kurt', 'W.', 'Spiehs', 'Grand', 'Island', 'Utilities', 'Department', 'Mr.', 'Bill', 'Taylor', 'Sidney', 'Water', 'Department', 'staff', 'fro', 'departments', '.', 'It', 'would', 'impossible', 'conduct', 'research', 'without', 'fundamental', 'data', 'provided', '.', 'Additionally', 'I', 'grateful', 'help', 'offered', 'GIS', 'planning', 'departments', 'three', 'cities', '.', 'Their', 'well', '-', 'maintained', 'GIS', 'lan', 'use', 'database', 'indispensable', 'project', '.', 'Thanks', 'grammar', 'writing', 'advices', 'friends', 'Kevin', 'McMillan', 'Jeff', 'Polkowski', 'Junyi', 'Yang', 'Xinyu', 'Fu', '.', 'Finally', 'Thanks', 'parents', 'Hongmei', 'Yao', 'Qunli', 'Li', 'fiancée', 'Can', 'Liu', '.', 'Your', 'en', 'dless', 'love', 'accompanying', 'every', 'moment', 'everywhere', '.', 'Abstract', 'Acknowledgement', 'Table', 'Contents', 'Chapter', '1', 'Introduction', '...', '...', '...', '...', '...', '...', '...', '...', '...', '...', '..', '...', '...', '...', '...', '...', '...', '...', '...', '...', '...', '..', '...', '...', '...', '...', '...', '...', '...', '...', '...', '...', '..', '...', '..', '1', '1.1', 'Total', 'water', 'use', 'consumptive', 'water', 'use', '...', '...', '...', '...', '...', '...', '...', '...', '...', '...', '..', '...', '...', '...', '...', '...', '...', '...', '...', '...', '.', '1', '1.2', 'Research', 'importance', '...', '...', '...', '...', '...', '...', '...', '...', '...', '...', '..', '...', '...', '...', '...', '...', '...', '...', '...', '...', '...', '..', '...', '...', '...', '...', '...', '...', '...', '...', '...', '...', '1', '1.3', 'Research', 'questions', 'objectives', '...', '...', '...', '...', '...', '...', '...', '...', '...', '...', '..', '...', '...', '...', '...', '...', '...', '...', '...', '...', '...', '..', '...', '...', '...', '.', '2', '1.4', 'Thesis', 'structure', '...', '...', '...', '...', '...', '...', '...', '...', '...', '...', '..', '...', '...', '...', '...', '...', '...', '...', '...', '...', '...', '..', '...', '...', '...', '...', '...', '...', '...', '...', '...', '...', '..', '...', '...', '3', 'Chapter', '2', 'Literature', 'review', '...', '...', '...', '...', '...', '...', '...', '...', '...', '...', '..', '...', '...', '...', '...', '...', '...', '...', '...', '...', '...', '..', '...', '...', '...', '...', '...', '...', '...', '...', '...', '..', '6', '2', '.', '1', 'Urban', 'total', 'water', 'use', '...', '...', '...', '...', '...', '...', '...', '...', '...', '...', '..', '...', '...', '...', '...', '...', '...', '...', '...', '...', '...', '..', '...', '...', '...', '...', '...', '...', '...', '...', '...', '..', '6', '2.1.1', 'Total', 'urban', 'water', 'supply', '...', '...', '...', '...', '...', '...', '...', '...', '...', '...', '..', '...', '...', '...', '...', '...', '...', '...', '...', '...', '...', '..', '...', '...', '...', '...', '...', '..', '6', '2.1.2', 'Residential', 'total', 'water', 'use', '...', '...', '...', '...', '...', '...', '...', '...', '...', '...', '..', '...', '...', '...', '...', '...', '...', '...', '...', '...', '...', '..', '...', '...', '...', '...', '...', '7', '2.1.3', 'Commercial', 'industrial', 'total', 'water', 'use', '...', '...', '...', '...', '...', '...', '...', '...', '...', '...', '..', '...', '...', '...', '...', '...', '...', '...', '..', '8', '2.1.4', 'Open', 'space', 'total', 'water', 'use', '...', '...', '...', '...', '...', '...', '...', '...', '...', '...', '..', '...', '...', '...', '...', '...', '...', '...', '...', '...', '...', '..', '...', '...', '...', '...', '..', '9', '2.2', 'Urban', 'consumptive', 'water', 'use', '...', '...', '...', '...', '...', '...', '...', '...', '...', '...', '..', '...', '...', '...', '...', '...', '...', '...', '...', '...', '...', '..', '...', '...', '...', '...', '...', '.', '9', '2.2.1', 'Urban', 'water', 'use', 'investigations', 'government', 'agencies', '.', '...', '...', '...', '...', '...', '...', '...', '...', '...', '...', '.', '11', 'Chapter', '3', 'Methodology', '...', '...', '...', '...', '...', '...', '...', '...', '...', '...', '..', '...', '...', '...', '...', '...', '...', '...', '...', '...', '...', '..', '...', '...', '...', '...', '...', '...', '...', '...', '...', '...', '..', '.', '15', '3.1', 'Research', 'framework', '...', '...', '...', '...', '...', '...', '...', '...', '...', '...', '..', '...', '...', '...', '...', '...', '...', '...', '...', '...', '...', '..', '...', '...', '...', '...', '...', '...', '...', '...', '...', '.', '15', '3.2', 'Study', 'area', '...', '...', '...', '...', '...', '...', '...', '...', '...', '...', '..', '...', '...', '...', '...', '...', '...', '...', '...', '...', '...', '..', '...', '...', '...', '...', '...', '...', '...', '...', '...', '...', '..', '...', '...', '...', '...', '17', '3.3', 'Data', 'collection', 'sources', '...', '...', '...', '...', '...', '...', '...', '...', '...', '...', '..', '...', '...', '...', '...', '...', '...', '...', '...', '...', '...', '..', '...', '...', '...', '...', '...', '...', '18', '3.4', 'Data', 'analyses', '...', '...', '...', '...', '...', '...', '...', '...', '...', '...', '..', '...', '...', '...', '...', '...', '...', '...', '...', '...', '...', '..', '...', '...', '...', '...', '...', '...', '...', '...', '...', '...', '..', '...', '...', '.', '22', '3.4.1', 'Research', 'unit', '...', '...', '...', '...', '...', '...', '...', '...', '...', '...', '..', '...', '...', '...', '...', '...', '...', '...', '...', '...', '...', '..', '...', '...', '...', '...', '...', '...', '...', '...', '...', '...', '..', '.', '22', '3.4.2', 'GI', 'S', 'process', '...', '...', '...', '...', '...', '...', '...', '...', '...', '...', '..', '...', '...', '...', '...', '...', '...', '...', '...', '...', '...', '..', '...', '...', '...', '...', '...', '...', '...', '...', '...', '...', '..', '...', '24', '3.4.3', 'Analytical', 'criteria', '...', '...', '...', '...', '...', '...', '...', '...', '...', '...', '..', '...', '...', '...', '...', '...', '...', '...', '...', '...', '...', '..', '...', '...', '...', '...', '...', '...', '...', '...', '..', '26', '3.4.4', 'Consumptive', 'water', 'use', 'calculation', '...', '...', '...', '...', '...', '...', '...', '...', '...', '...', '..', '...', '...', '...', '...', '...', '...', '...', '...', '...', '...', '..', '27', '3.4.4.1', 'Residential', 'consumptive', 'water', 'use', 'calculation', '...', '...', '...', '...', '...', '...', '...', '...', '...', '...', '..', '...', '...', '..', '27', '3.4.4.2', 'Commercial', 'industrial', 'others', 'CIO', 'consumptive', 'water', 'use', 'calculation', '...', '...', '...', '...', '...', '...', '...', '...', '...', '...', '..', '...', '...', '...', '...', '...', '...', '...', '...', '...', '...', '..', '...', '...', '...', '...', '...', '...', '...', '...', '...', '...', '..', '...', '...', '...', '.', '33', '3.4.4.3', 'Open', 'space', 'consumptive', 'water', 'use', 'calculation', '...', '...', '...', '...', '...', '...', '...', '...', '...', '...', '..', '...', '...', '.', '35', '3.4.5', 'Statistical', 'analyses', '...', '...', '...', '...', '...', '...', '...', '...', '...', '...', '..', '...', '...', '...', '...', '...', '...', '...', '...', '...', '...', '..', '...', '...', '...', '...', '...', '...', '...', '...', '37', '3.4.5.1', 'Residential', 'water', 'use', '...', '...', '...', '...', '...', '...', '...', '...', '...', '...', '..', '...', '...', '...', '...', '...', '...', '...', '...', '...', '...', '..', '...', '...', '...', '...', '..', '38', '3.4.5.2', 'Commercial', 'industrial', 'others', 'CIO', 'water', 'use', '...', '...', '...', '...', '...', '...', '...', '...', '...', '...', '..', '.', '39', '3.4.5.3', 'Open', 'space', 'water', 'use', '...', '...', '...', '...', '...', '...', '...', '...', '...', '...', '..', '...', '...', '...', '...', '...', '...', '...', '...', '...', '...', '..', '...', '...', '...', '...', '.', '39', '3.4.6', 'Spatial', 'analyses', '...', '...', '...', '...', '...', '...', '...', '...', '...', '...', '..', '...', '...', '...', '...', '...', '...', '...', '...', '...', '...', '..', '...', '...', '...', '...', '...', '...', '...', '...', '...', '..', '40', 'Chapter', '4', 'Results', '...', '...', '...', '...', '...', '...', '...', '...', '...', '...', '..', '...', '...', '...', '...', '...', '...', '...', '...', '...', '...', '..', '...', '...', '...', '...', '...', '...', '...', '...', '...', '...', '..', '...', '...', '...', '..', '41', '4.1', 'Statistical', 'results', '...', '...', '...', '...', '...', '...', '...', '...', '...', '...', '..', '...', '...', '...', '...', '...', '...', '...', '...', '...', '...', '..', '...', '...', '...', '...', '...', '...', '...', '...', '...', '...', '..', '..', '41', '4.1.1', 'Statistics', '...', '...', '...', '...', '...', '...', '...', '...', '...', '...', '..', '...', '...', '...', '...', '...', '...', '...', '...', '...', '...', '..', '...', '...', '...', '...', '...', '...', '...', '...', '...', '...', '..', '...', '...', '..', '41', '4.1.1.1', 'Total', 'water', 'use', 'consumptive', 'water', 'use', 'three', 'categories', '...', '...', '...', '...', '...', '41', '4.1.1.2', 'Per', 'capita', 'total', 'water', 'use', 'nd', 'consumptive', 'water', 'use', '...', '...', '...', '...', '...', '...', '...', '...', '...', '..', '42', '4.1.2', 'Linear', 'regression', 'models', '...', '...', '...', '...', '...', '...', '...', '...', '...', '...', '..', '...', '...', '...', '...', '...', '...', '...', '...', '...', '...', '..', '...', '...', '...', '...', '...', '43', '4.1.2.1', 'Residential', 'water', 'use', '...', '...', '...', '...', '...', '...', '...', '...', '...', '...', '..', '...', '...', '...', '...', '...', '...', '...', '...', '...', '...', '..', '...', '...', '...', '...', '..', '43', '4.1.2.2', 'Commercial', 'industrial', 'others', 'CIO', 'water', 'use', '...', '...', '...', '...', '...', '...', '...', '...', '...', '...', '..', '.', '46', '4.1.2.3', 'Open', 'space', 'water', 'use', '...', '...', '...', '...', '...', '...', '...', '...', '...', '...', '..', '...', '...', '...', '...', '...', '...', '...', '...', '...', '...', '..', '...', '...', '...', '...', '.', '47', '4.2', 'Spatial', 'analysis', 'results', '...', '...', '...', '...', '...', '...', '...', '...', '...', '...', '..', '...', '...', '...', '...', '...', '...', '...', '...', '...', '...', '..', '...', '...', '...', '...', '...', '...', '...', '...', '.', '48', '4.2.1', 'City', 'Lincoln', '...', '...', '...', '...', '...', '...', '...', '...', '...', '...', '..', '...', '...', '...', '...', '...', '...', '...', '...', '...', '...', '..', '...', '...', '...', '...', '...', '...', '...', '...', '...', '...', '48', '4.2.2', 'Grand', 'Island', '...', '...', '...', '...', '...', '...', '...', '...', '...', '...', '..', '...', '...', '...', '...', '...', '...', '...', '...', '...', '...', '..', '...', '...', '...', '...', '...', '...', '...', '...', '...', '...', '..', '..', '60', '4.2.3', 'Sidney', '...', '...', '...', '...', '...', '...', '...', '...', '...', '...', '..', '...', '...', '...', '...', '...', '...', '...', '...', '...', '...', '..', '...', '...', '...', '...', '...', '...', '...', '...', '...', '...', '..', '...', '...', '...', '..', '69', 'Chapter', '5', 'Conclusions', 'Discussions', '...', '...', '...', '...', '...', '...', '...', '...', '...', '...', '..', '...', '...', '...', '...', '...', '...', '...', '...', '...', '...', '..', '...', '...', '...', '76', '5.1', 'Key', 'findings', 'discussions', '...', '...', '...', '...', '...', '...', '...', '...', '...', '...', '..', '...', '...', '...', '...', '...', '...', '...', '...', '...', '...', '..', '...', '...', '...', '...', '...', '76', '5.1.1', 'Consumptive', 'water', 'use', 'calculation', '...', '...', '...', '...', '...', '...', '...', '...', '...', '...', '..', '...', '...', '...', '...', '...', '...', '...', '...', '...', '...', '..', '76', '5.1.2', 'Statistical', 'analyses', '...', '...', '...', '...', '...', '...', '...', '...', '...', '...', '..', '...', '...', '...', '...', '...', '...', '...', '...', '...', '...', '..', '...', '...', '...', '...', '...', '...', '...', '...', '76', '5.1.3', 'Spatial', 'analyses', '...', '...', '...', '...', '...', '...', '...', '...', '...', '...', '..', '...', '...', '...', '...', '...', '...', '...', '...', '...', '...', '..', '...', '...', '...', '...', '...', '...', '...', '...', '...', '..', '78', '5.2', 'Limitations', 'future', 'studies', '...', '...', '...', '...', '...', '...', '...', '...', '...', '...', '..', '...', '...', '...', '...', '...', '...', '...', '...', '...', '...', '..', '...', '...', '...', '...', '..', '79', 'References', '...', '...', '...', '...', '...', '...', '...', '...', '...', '...', '..', '...', '...', '...', '...', '...', '...', '...', '...', '...', '...', '..', '...', '...', '...', '...', '...', '...', '...', '...', '...', '...', '..', '...', '...', '...', '...', '...', '...', '...', '81', 'Appendix', '1', 'Pearson', 'Correlation', 'Coefficients', 'Residential', 'Water', 'Use', '...', '...', '...', '...', '...', '...', '...', '...', '.', '85', 'Appendix', '2', 'Pearson', 'Correlation', 'Coefficients', 'Commercial', 'Industrial', 'Others', 'CIO', 'Water', 'Use', '...', '...', '...', '...', '...', '...', '...', '...', '...', '...', '..', '...', '...', '...', '...', '...', '...', '...', '...', '...', '...', '..', '...', '...', '...', '...', '...', '...', '...', '...', '...', '...', '..', '...', '...', '...', '...', '...', '...', '...', '.', '87', 'Appendix', '3', 'Pearson', 'Correlation', 'Coefficients', 'Open', 'Space', 'Water', 'Use', '...', '...', '...', '...', '...', '...', '...', '...', '89', 'Appendix', '4', '...', '...', '...', '...', '...', '...', '...', '...', '...', '...', '..', '...', '...', '...', '.', '90', 'List', 'Tables', 'Table', '2.1', 'Comparison', 'f', 'methods', 'estimating', 'consumptive', 'water', 'use', '...', '...', '...', '...', '...', '...', '...', '...', '11', 'Table', '2.2', 'Review', 'urban', 'water', 'use', 'management', 'state', 'agencies', 'USGS', '...', '...', '...', '...', '.', '13', 'Table', '3.1', 'Data', 'resources', 'list', '...', '...', '...', '...', '...', '...', '...', '...', '...', '...', '..', '...', '...', '...', '...', '...', '...', '...', '...', '...', '...', '..', '...', '...', '...', '...', '...', '...', '...', '...', '..', '19', 'Table', '3.2', 'Water', 'meter', 'records', 'geocoding', 'result', 'three', 'case', 'cities', '...', '...', '...', '...', '...', '...', '...', '...', '.', '26', 'Table', '3.3', 'Analysis', 'c', 'riteria', '...', '...', '...', '...', '...', '...', '...', '...', '...', '...', '..', '...', '...', '...', '...', '...', '...', '...', '...', '...', '...', '..', '...', '...', '...', '...', '...', '...', '...', '...', '...', '..', '27', 'Table', '3.4', 'Evapotranspiration', 'calculation', 'result', '...', '...', '...', '...', '...', '...', '...', '...', '...', '...', '..', '...', '...', '...', '...', '...', '...', '...', '...', '...', '...', '32', 'Table', '3.5', 'Influential', 'factors', 'residential', 'water', 'use', '...', '...', '...', '...', '...', '...', '...', '...', '...', '...', '..', '...', '...', '...', '...', '...', '...', '...', '38', 'Table', '3.6', 'CIO', 'influential', 'factors', '...', '...', '...', '...', '...', '...', '...', '...', '...', '...', '..', '...', '...', '...', '...', '...', '...', '...', '...', '...', '...', '..', '...', '...', '...', '...', '...', '...', '..', '39', 'Table', '3.7', 'Open', 'space', 'influential', 'factors', '...', '...', '...', '...', '...', '...', '...', '...', '...', '...', '..', '...', '...', '...', '...', '...', '...', '...', '...', '...', '...', '..', '...', '...', '..', '39', 'Table', '4.1', 'Total', 'water', 'use', 'consumptive', 'water', 'use', 'three', 'categories', '...', '...', '...', '...', '...', '...', '...', '..', '42', 'Table', '4.2', 'Per', 'capita', 'total', 'water', 'use', 'consumptive', 'water', 'use', '...', '...', '...', '...', '...', '...', '...', '...', '...', '...', '..', '...', '..', '43', '...', '...', '...', '...', '...', '...', '...', '...', '...', '...', '..', '...', '...', '...', '...', '..', '50', '...', '...', '...', '...', '...', '...', '...', '...', '...', '...', '..', '...', '...', '...', '...', '...', '...', '60', 'ney', '...', '...', '...', '...', '...', '...', '...', '...', '...', '...', '..', '...', '...', '...', '...', '...', '...', '...', '...', '...', '69', 'List', 'Figure', 'Figure', '3.1', 'Conceptual', 'illustration', 'research', 'process', '...', '...', '...', '...', '...', '...', '...', '...', '...', '...', '..', '...', '...', '...', '...', '...', '...', '..', '16', 'Figure', '3.2', 'Location', 'case', 'cites', '...', '...', '...', '...', '...', '...', '...', '...', '...', '...', '..', '...', '...', '...', '...', '...', '...', '...', '...', '...', '...', '..', '...', '...', '...', '...', '...', '...', '..', '18', 'Figure', '3.3', 'Examples', 'census', 'blocks', 'block', 'group', '...', '...', '...', '...', '...', '...', '...', '...', '...', '...', '..', '...', '...', '...', '...', '...', '22', 'Figure', '3.4', 'Procedure', 'build', 'water', 'use', 'GIS', 'dataset', '...', '...', '...', '...', '...', '...', '...', '...', '...', '...', '..', '...', '...', '...', '...', '...', '..', '24', 'Figure', '3.5', 'City', 'Lincoln', 'geocoding', 'process', '...', '...', '...', '...', '...', '...', '...', '...', '...', '...', '..', '...', '...', '...', '...', '...', '...', '...', '...', '...', '...', '..', '25', 'Figure', '3.6', 'Residential', 'consumptive', 'water', 'use', 'determination', 'process', '...', '...', '...', '...', '...', '...', '...', '...', '...', '..', '29', 'Figure', '3.7', 'CIO', 'Outdoor', 'consumptive', 'water', 'use', 'determination', 'process', '...', '...', '...', '...', '...', '...', '...', '...', '..', '34', 'Figure', '3.8', 'Open', 'space', 'consumptive', 'water', 'use', 'determination', 'process', '...', '...', '...', '...', '...', '...', '...', '...', '...', '.', '36', '...', '...', '...', '...', '...', '...', '...', '...', '...', '...', '..', '...', '...', '...', '...', '...', '...', '...', '..', '50', 'Figure', '4.2', 'City', 'Lincoln', 'residential', 'total', 'water', 'use', 'distribution', 'census', 'block', '...', '...', '.', '51', 'Figure', '4.3', 'City', 'Lincoln', 'residential', 'total', 'water', 'use', 'clusters', 'distribution', 'census', 'block', '...', '...', '...', '...', '...', '...', '...', '...', '...', '...', '..', '...', '...', '...', '...', '...', '...', '...', '...', '...', '...', '..', '...', '...', '...', '...', '...', '...', '...', '...', '...', '...', '..', '...', '...', '...', '...', '...', '...', '...', '...', '...', '..', '52', 'Figure', '4.4', 'City', 'Lincoln', 'residential', 'consumptive', 'water', 'use', 'distribution', 'census', 'block', '...', '...', '...', '...', '...', '...', '...', '...', '...', '...', '..', '...', '...', '...', '...', '...', '...', '...', '...', '...', '...', '..', '...', '...', '...', '...', '...', '...', '...', '...', '...', '...', '..', '...', '...', '...', '...', '...', '...', '...', '...', '...', '..', '53', 'Figure', '4.5', 'City', 'Lincoln', 'residential', 'consumptive', 'water', 'use', 'clusters', 'distribution', 'census', 'block', '...', '...', '...', '...', '...', '...', '...', '...', '...', '...', '..', '...', '...', '...', '...', '...', '...', '...', '...', '...', '...', '..', '...', '...', '...', '...', '...', '...', '...', '...', '...', '...', '..', '...', '...', '...', '...', '...', '...', '54', 'Figure', '4.6', 'City', 'Lincoln', 'CIO', 'total', 'water', 'use', 'distribution', 'census', 'block', '...', '...', '...', '...', '...', '.', '55', 'Figure', '4.7', 'City', 'Lincoln', 'CIO', 'consumptiv', 'e', 'water', 'use', 'distribution', 'census', 'block', '...', '56', 'Figure', '4.8', 'City', 'Lincoln', 'CIO', 'consumptive', 'water', 'use', 'clusters', 'distribution', 'cens', 'us', 'block', '...', '...', '...', '...', '...', '...', '...', '...', '...', '...', '..', '...', '...', '...', '...', '...', '...', '...', '...', '...', '...', '..', '...', '...', '...', '...', '...', '...', '...', '...', '...', '...', '..', '...', '...', '...', '...', '...', '...', '...', '...', '...', '..', '57', 'Figure', '4.9', 'City', 'Lincoln', 'open', 'space', 'total', 'water', 'use', 'distribution', 'census', 'block', '...', '...', '58', 'Figure', '4.10', 'City', 'Lincoln', 'open', 'space', 'consumptive', 'water', 'use', 'distribution', 'census', 'block', '...', '...', '...', '...', '...', '...', '...', '...', '...', '...', '..', '...', '...', '...', '...', '...', '...', '...', '...', '...', '...', '..', '...', '...', '...', '...', '...', '...', '...', '...', '...', '...', '..', '...', '...', '...', '...', '...', '...', '...', '...', '...', '..', '59', 'Figure', '4.11', 'Grand', 'Island', 'residential', 'total', 'water', 'use', 'distribution', 'census', 'block', '...', '...', '...', '61', 'Figure', '4.12', 'Grand', 'Island', 'residential', 'total', 'water', 'use', 'clusters', 'distribution', 'census', 'block', '...', '...', '...', '...', '...', '...', '...', '...', '...', '...', '..', '...', '...', '...', '...', '...', '...', '...', '...', '...', '...', '..', '...', '...', '...', '...', '...', '...', '...', '...', '...', '...', '..', '...', '...', '...', '...', '...', '...', '...', '...', '...', '...', '..', '...', '...', '62', 'Figure', '4.13', 'Grand', 'Island', 'residential', 'consumptive', 'water', 'use', 'distribution', 'census', 'block', '...', '...', '...', '...', '...', '...', '...', '...', '...', '...', '..', '...', '...', '...', '...', '...', '...', '...', '...', '...', '...', '..', '...', '...', '...', '...', '...', '...', '...', '...', '...', '...', '..', '...', '...', '...', '...', '...', '...', '...', '...', '...', '...', '..', '...', '...', '63', 'Figure', '4.14', 'Grand', 'Island', 'residential', 'consumptive', 'water', 'use', 'clusters', 'distribution', 'census', 'block', '...', '...', '...', '...', '...', '...', '...', '...', '...', '...', '..', '...', '...', '...', '...', '...', '...', '...', '...', '...', '...', '..', '...', '...', '...', '...', '...', '...', '...', '...', '...', '...', '..', '...', '...', '...', '...', '...', '...', '64', 'Figure', '4.15', 'Grand', 'Island', 'CIO', 'total', 'water', 'use', 'distribution', 'cen', 'sus', 'block', '...', '...', '...', '...', '...', '...', '65', 'Figure', '4.16', 'Grand', 'Island', 'CIO', 'consumptive', 'water', 'use', 'distribution', 'census', 'block', '...', '..', '66', 'Figure', '4.17', 'Grand', 'Island', 'open', 'space', 'total', 'water', 'use', 'distribution', 'census', 'block', '...', '...', '..', '67', 'Figure', '4.18', 'Grand', 'Island', 'open', 'space', 'consumptive', 'water', 'use', 'distribution', 'census', 'block', '...', '...', '...', '...', '...', '...', '...', '...', '...', '...', '..', '...', '...', '...', '...', '...', '...', '...', '...', '...', '...', '..', '...', '...', '...', '...', '...', '...', '...', '...', '...', '...', '..', '...', '...', '...', '...', '...', '...', '...', '...', '...', '..', '68', 'Figure', '4.19', 'Sidney', 'residential', 'total', 'water', 'use', 'distribution', 'census', 'block', '...', '...', '...', '...', '...', '...', '70', 'Figure', '4.20', 'Sidney', 'residential', 'consumptive', 'water', 'use', 'distribution', 'census', 'block', '...', '..', '71', 'Figure', '4.21', 'Sidney', 'CIO', 'total', 'water', 'use', 'distribution', 'census', 'block', '...', '...', '...', '...', '...', '...', '...', '...', '...', '72', 'Figure', '4.22', 'Sidney', 'CIO', 'consumptive', 'water', 'use', 'di', 'stribution', 'census', 'block', '...', '...', '...', '...', '...', '73', 'Figure', '4.23', 'Sidney', 'open', 'space', 'total', 'water', 'use', 'distribution', 'census', 'block', '...', '...', '...', '...', '...', '..', '74', 'Figure', '4.24', 'Sidney', 'open', 'space', 'consumptive', 'water', 'use', 'distribution', 'census', 'block', '...', '.', '75', '1', 'Chapter', '1', 'Introduction', '1', '.', '1', 'Total', 'water', 'use', 'consumptive', 'water', 'use', 'Urban', 'municipal', 'total', 'water', 'use', 'urban', 'municipal', 'consumptive', 'water', 'use', 'two', 'concepts', 'reflect', 'water', 'supplies', 'use', 'within', 'urban', 'environment', '.', 'Urban', 'total', 'water', 'use', 'consumptive', 'water', 'use', 'functions', 'climate', 'economics', 'culture', 'Sha', 'ffer', 'et', 'al.', '2008', '.', 'In', 'study', 'total', 'w', 'ater', 'use', 'defined', 'gross', 'water', 'use', 'amount', 'stream', 'pumped', 'city', 'water', 'supply', 'system', 'within', 'specific', 'time', 'period', 'months', 'calendar', 'year', 'National', 'Research', 'Council', '2002', 'Wilson', '2000', '.', 'Urban', 'c', 'onsumptive', 'water', 'use', 'water', 'use', 'amount', 'removed', 'urban', 'water', 'supply', 'system', 'without', 'return', 'ing', 'urban', 'water', 'environment', 'caused', 'evaporation', 'plant', 'transpiration', 'product', 'consumption', 'USGS', '2008', 'Canada', 'US', 'EPA', '1995', 'Shaffer', 'et', 'al.', '2008', '.', 'W', 'ater', 'losses', 'leakages', 'process', 'transportation', 'uses', 'excluded', '.', '1', '.', '2', 'Research', 'mportance', 'Nebraska', 'population', '1,826,341', '2010', 'census', '6.7', 'percent', 'increase', '2000', '.', 'T', 'growth', 'rate', 'population', '13.7', '%', 'metropolitan', 'area', 'Deichert', '2011', '.', 'U', 'rban', 'expansion', 'population', 'growth', 'triggered', 'u', 'rban', 'water', 'demand', 'growing', 'Nebraska', 'USGS', 'circular', '1980', '2005', '.', 'G', 'uarantee', 'water', 'supply', 'water', 'quality', 'needed', 'ensure', 'economy', 'development', 'quality', 'residential', 'life', '.', 'The', 'optimum', 'supply', 'water', 'one', 'top', 'concerns', 'citizens', 'firms', 'leads', 'fragile', 'nature', 'urban', 'water', 'supplies', 'uses', 'Day', '2003', '.', '73', '%', 'percent', 'Nebraskans', 'live', 'n', 'urban', 'area', '.', 'T', 'ir', 'specific', 'water', 'use', 'activities', 'residents', '2', 'determine', 'much', 'water', 'would', 'cons', 'umed', 'wasted', 'Mike', '2012', '.', 'T', 'activit', 'ies', 'lawn', 'watering', 'would', 'significantly', 'affect', 'quantity', 'residential', 'water', 'supply', 'summer', 'months', 'Balling', 'Gober', '2007', '.', 'Urban', 'water', 'use', 'closely', 'related', 'daily', 'li', 'f', 'e', 'oth', 'er', 'human', 'activities', 'e.g', '.', 'manufacturing', 'entertainment', 'etc', '.', '.', 'An', 'investigation', 'total', 'consumptive', 'amount', 'water', 'within', 'urban', 'boundary', 'crucial', 'water', 'resource', 'management', '.', 'Finally', 'study', 'help', 'decision', 'makers', 'compl', 'ete', 'understanding', 'f', 'urban', 'water', 'usage', 'Nebraska', 'piece', 'overall', 'water', 'use', 'state', '.', 'W', 'ater', 'use', 'supplies', 'balanced', 'objective', 'integrated', 'water', 'management', 'Nebraska', 'Groundwater', 'Management', 'Protection', 'Act', '2007', 'LB962', '2004', '.', 'Well', '-', 'balanced', 'urban', 'water', 'supplies', 'uses', 'essential', 'ensure', 'well', '-', 'economic', 'viability', 'social', 'environmental', 'health', 'safety', 'welfare', 'cities', 'especially', 'w', 'hen', 'taking', 'growing', 'urban', 'water', 'demand', 'population', 'consideration', '.', 'This', 'study', 'quantif', 'ies', 'much', 'water', 'needed', 'lost', 'cities', 'investigate', 'statistical', 'relationship', 'amount', 'water', 'use', 'determinants', 'current', 'potentially', 'future', 'conditions', 'Falkenmark', '2005', 'Fanning', '2007', '.', 'The', 'study', 'also', 'provide', 'information', 'municipal', 'water', 'use', 'could', 'asset', 'future', 'decision', 'making', 'plann', 'ing', 'Nebraska', '.', '1', '.', '3', 'Research', 'q', 'uestions', 'bjectives', 'In', 'United', 'States', 'f', 'ew', 'analyses', 'conducted', 'calculate', 'total', 'water', 'use', 'consumptive', 'water', 'use', 'census', 'block', 'scale', '.', 'In', 'Nebraska', 'considerable', 'research', 'focused', 'water', 'use', 'agricultural', 'irrigation', 'crop', 'evapotranspiration', '.', 'A', 'lesser', 'known', 'area', 'urban', 'water', 'use', 'determinant', 'factors', 'e.g', '.', 'population', 'total', '3', 'landscape', 'area', '.', 'Though', 'major', 'water', 'resource', 'ar', 'e', 'utilized', 'agricultural', 'irrigation', 'Nebraska', 'additional', 'research', 'urban', 'water', 'use', 'essential', 'seventy', 'percent', 'Nebraska', 'residents', 'live', 'cities', '.', 'Therefore', 'study', 'aims', 'provide', 'pioneer', 'exploration', 'understanding', 'urban', 'total', 'water', 'use', 'consumptive', 'water', 'use', 'three', 'Nebraska', 'case', 'cities', 'refined', 'level', 'detail', 'census', 'block', 'unit', '.', 'The', 'specific', 'earch', 'objectives', 'follow', '1', '.', 'Develop', 'method', 'estimating', 'urban', 'consumptive', 'water', 'use', 'census', 'block', 'level', 'Nebraska', '.', '2', '.', 'Investigate', 'statistical', 'relationship', 'influential', 'factors', 'e.g', '.', 'population', 'building', 'footprints', 'total', 'landscape', 'area', 'etc', '.', 'urban', 'water', 'use/', 'urban', 'consumptive', 'water', 'use', '.', '3', '.', 'Analyz', 'e', 'spatial', 'patterns', 'urban', 'total', 'water', 'us', 'e', 'consumptive', 'water', 'use', 'comprehensively', 'City', 'Lin', 'coln', 'Grand', 'Island', 'Sidney', '.', '1.4', 'Thesis', 'structure', 'This', 'thesis', 'investigate', 'urban', 'total', 'water', 'use', 'consumptive', 'water', 'use', 'five', 'chapters', 'follows', 'Chapter', 'one', 'provides', 'intr', 'oduction', 'research', 'topic', '.', 'T', 'definition', 'background', 'total', 'water', 'use', 'consumptive', 'water', 'use', 'demonstrated', 'understand', 'importance', 'urban', 'water', 'use', 'issue', '.', 'Additionally', 'reason', 'research', 'conducted', 'objectives', 'high', 'lighted', '.', 'Chapter', 'two', 'reviews', 'diverse', 'literature', 'state', 'government', 'concern', 'regarding', 'urban', 'water', 'use', '.', 'Papers', 'previous', 'scholars', 'provided', 'definitions', 'research', 'strategies', 'methods', 'u', 'rban', 'water', 'use', '.', 'A', 'systematic', 'review', 'provided', '4', 'major', 'categories', 'residential', 'CIO', 'commercial', 'industrial', 'others', 'open', 'space', '.', 'In', 'addition', 'chapter', 'highlights', 'urban', 'w', 'ater', 'use', '.', 'The', 'website', 'review', 'provide', 'mainstream', 'awareness', 'urban', 'water', 'use', 'importance', 'state', 'agencies', '.', 'Chapter', 'three', 'demonstrate', 'research', 'methodology', '.', 'The', 'research', 'objects', 'total', 'water', 'use', 'consumptive', 'water', 'use', 'within', 'urban', 'area', '.', 'They', 'analyzed', 'three', 'categories', 'residential', 'CIO', 'commercial', 'industrial', 'others', 'open', 'space', '.', 'The', 'first', 'step', 'calculate', 'amount', 'total', 'water', 'use', 'consumptive', 'water', 'use', '.', 'T', 'hen', 'statistical', 'relationship', 'water', 'use', 'amoun', 'influential', 'factors', 'e.g', '.', 'population', 'examined', 'linear', 'regression', 'models', '.', 'Finally', 'pa', 'tial', 'clustering', 'analysis', 'I', 'Getis', '-', 'Ord', 'Gi*', '.', 'Chapter', 'four', 'describes', 'r', 'esult', 'statistical', 'spatial', 'analysis', 'p', 'revious', 'chapter', '.', 'Linear', 'regression', 'models', 'result', 'presented', 'chapt', 'er', '.', 'S', 'ignificant', 'linear', 'relationship', 'found', 'amount', 'water', 'use', 'influential', 'factors', 'e.g', '.', 'population', 'total', 'landscape', 'area', 'within', 'categories', 'residen', 'tial', 'open', 'space', '.', 'Additionally', 'spatial', 'distribution', 'cluster', 'condition', 'high', 'low', 'water', 'consumers', 'total', 'water', 'use', 'consumptive', 'water', 'use', 'category', 'demonstrated', 'Getis', '-', 'Ord', 'Gi*', '.', 'Chapter', 'five', 'highlights', 'ajor', 'findings', 'study', 'implication', 'potential', 'utilization', 'water', 'resources', 'planning', 'management', '.', 'This', 'study', 'proposed', 'pioneer', 'exploration', 'urban', 'water', 'study', 'Nebraska', 'help', 'planners', '5', 'decision', 'makers', 'better', 'understanding', 'urban', 'water', 'suppl', 'ies', 'use', '.', 'Lastly', 'limitations', 'fu', 'ture', 'study', 'directions', 'identified', '.', '6', 'Chapter', '2', 'Literature', 'review', '2', '.', '1', 'Urban', 'total', 'w', 'ater', 'u', 'se', '2', '.1', '.1', 'Total', 'urban', 'water', 'supply', 'An', 'understanding', 'multi', '-', 'scalar', 'relationship', 'human', 'activity', 'natural', 'systems', 'needed', 'integrate', 'forecast', 'urban', 'water', 'demand', 'Hill', 'Polsky', '2007', 'House', '-', 'Peters', '2010', '.', 'To', 'ensure', 'municipal', 'water', 'supply', 'various', 'statistical', 'models', 'methods', 'employed', 'estimate', 'well', 'current', 'water', 'supply', 'systems', 'meet', 'demand', 'peak', 'time', 'future', 'city', 'expansion', '.', 'Back', 'n', '1972', 'Hoppel', 'Viseeman', 'established', 'linear', 'model', 'predict', 'peak', 'urban', 'water', 'use', 'recommended', 'develop', 'ment', 'two', 'water', 'supply', 'wells', 'meet', 'hi', 'gh', 'water', 'demand', 'near', 'future', 'C', 'ity', 'Lincoln', 'Nebraska', 'Hoppel', '1973', '.', 'A', 'ime', 'series', 'model', 'applied', 'forecast', 'hourly', 'water', 'consumption', 'Zhou', 'et', 'al.', '2002', '.', 'An', 'Ordinary', 'L', 'east', 'S', 'quare', 'O', 'L', 'S', 'r', 'egression', 'model', 'employed', 'using', 'monthly', 'water', 'use', 'dependent', 'variable', 'climate', 'variables', 'independent', 'input', 'Morgan', '1976', '.', 'However', 'studies', 'mainly', 'based', 'historical', 'water', 'use', 'records', 'rather', 'current', 'condition', 'analysis', '.', 'Identifying', 'synchronous', 'determinants', 'present', 'water', 'consumption', 'needed', 'indicate', 'conservation', 'potential', 'decision', '-', 'making', 'Cassuto', 'Ryan', '1979', 'Morales', '2009', '.', 'Therefore', 'study', 'investigate', 'determinant', 'factors', 'within', 'major', 'water', 'use', 'categories', 'residential', 'CIO', 'commercial', 'industrial', 'others', 'open', 'space', '.', '7', '2', '.', '1.2', 'Residential', 'total', 'water', 'use', 'Residential', 'water', 'consumption', 'affected', 'various', 'factors', 'climat', 'e', 'economy', 'demographic', 'condition', 'spatial', 'structures', 'culture', 'techniques', 'policy', 'relationship', 'c', 'limate', 'variation', 'residential', 'water', 'consumption', 'investigated', 'widely', 'Balling', 'Gober', '2007', 'Balling', 'et', 'al.', '2008', 'Bougadis', 'et', 'al.', '2005', 'Foster', 'Beattie', '1979', 'Franczyk', 'Chang', '2009', 'Wentz', 'Gober', '2007', '.', 'For', 'example', 'h', 'igher', 'temperature', 'lower', 'precipitation', 'drought', 'cause', 'amount', 'water', 'use', 'rise', 'Balling', 'Gober', '2007', 'Campbell', '2004', '.', 'However', 'r', 'esidential', 'water', 'use', 'always', 'sensitive', 'climate', 'condition', '.', 'Balling', 'et', 'al', '.', '2008', 'found', 'water', 'consumption', 'higher', 'neighborhood', 'density', 'little', 'sensitivity', 'climate', 'census', 'tract', 'level', '.', 'Recently', 'drought', 'condition', 'disturbing', 'urban', 'water', 'supply', 'across', 'U.S', '.', 'Evaluating', 'water', 'consumption', 'drought', 'condition', 'necessary', 'assist', 'water', 'resources', 'planners', 'managers', 'develop', 'ing', 'effective', 'countermeasure', 'extreme', 'climate', 'situation', 'House', '-', 'Peters', '2010', '.', 'Residential', 'l', 'awn', 'watering', 'also', 'attracts', 'attention', 'scholars', 'residential', 'outdoor', 'irrigation', 'could', 'account', 'fifty', 'percent', 'total', 'water', 'use', 'Hilaire', '2008', 'Mayer', '1999', '.', 'A', 'sample', 'survey', 'accomplished', 'Las', 'Cruces', 'New', 'Mexico', 'w', 'hich', 'conclude', '40', '65', 'percent', 'metered', 'water', 'used', 'intaining', 'plants', 'landscape', 'Chavez', '1973', '.', 'Scholars', 'also', 'found', 'garden', 'size', 'species', 'planted', 'determinants', 'water', 'use', 'Domene', 'Saurí', '2006', 'Wentz', 'Gober', '2007', '.', 'However', 'barriers', 'understand', 'ing', 'lawn', 'effects', 'total', 'water', 'use', 'rare', 'fine', 'resolution', 'raster', 'image', 'high', 'cost', 'producing', 'accurate', 'total', 'lawn', 'area', 'Milesi', 'et', 'al.', '2009', 'Milesi', 'et', 'al.', '2005', '.', '8', 'Residential', 'w', 'ater', 'use', 'amount', 'also', 'correlate', 'urban', 'development', 'patterns', 'socioeconomic', 'factors', '.', 'Accompanying', 'growing', 'lot', 'size', 'building', 'size', 'average', 'water', 'use', 'n', 'block', 'group', 'increasing', 'building', 'age', 'building', 'density', 'show', 'opposite', 'relationship', 'Chang', '2010', '.', 'In', 'review', 'eighteen', 'factors', 'identified', 'explain', 'relationship', 'structure', 'patterns', 'economic', 'indicators', 'residential', 'water', 'use', 'Chang', '2010', '.', 'Income', 'education', 'level', 'housing', 'values', 'also', 'found', 'positively', 'related', 'household', 'water', 'consumption', 'Domene', 'Saurí', '2006', 'Franczy', 'k', 'Chang', '2009', 'House', '-', 'Peters', '2010', '.', 'Additionally', 'factors', 'land', 'use', 'Day', '2003', 'Durga', 'Rao', '2005', 'human', 'behavior', 'Wentz', 'Gober', '2007', 'prices', 'policies', 'Foster', 'Beattie', '1979', 'Olmstead', 'et', 'al.', '2007', 'analyzed', 'forecast', 'peak', 'demand', 'order', 'ensure', 'adequate', 'residential', 'water', 'supply', 'formulate', 'planning', 'strategy', 'residential', 'water', 'resources', '.', '2', '.', '1', '.', '3', 'Commercial', 'industrial', 'total', 'water', 'use', 'For', 'commercial', 'industrial', 'water', 'consumers', 'water', 'consumption', 'varies', 'significantly', 'regard', 'purpose', 'water', 'use', 'Dziegielewski', '2000', '.', 'Th', 'us', 'statistical', 'models', 'based', 'historical', 'water', 'usage', 'reliable', 'resources', 'forecast', 'analyze', 'present', 'future', 'water', 'usage', 'IWR', '-', 'MAIN', 'Institute', 'Water', 'Resources', 'Municipal', 'Industrial', 'Needs', 'model', 'WEAP', 'Water', 'Evaluation', 'Plannin', 'g', 'model', 'Opitz', 'et', 'al.', '1998', 'Sawyer', '2004', 'SEI', '2009', 'SWFWMD', '2006', '.', 'However', 'researchers', 'keep', 'making', 'progress', 'understanding', 'various', 'water', 'use', 'ctivities', 'driving', 'force', 'behind', '.', 'End', 'use', 'water', 'clear', 'way', 'analyze', 'determinant', 'factors', 'water', 'consumptio', 'n', 'EPA', '2007', 'Maddaus', '2004', '.', 'The', 'inputs', 'model', 'based', 'end', 'uses', 'number', 'employees', 'price', 'water', 'sewer', 'services', '9', 'presence', 'conservation', 'program', 'industrial', 'groups', 'Morales', '2009', '.', 'Also', 'relationship', 'exists', 'total', 'number', 'customers', 'total', 'number', 'employees', 'total', 'water', 'output', 'Dziegielewski', '2000', 'Mercer', 'Morgan', '1974', 'acreage', 'gross', 'area', 'sales', 'area', 'Kim', 'McCuen', '1979', 'Mercer', 'Morgan', '1974', '.', '2', '.', '1.4', 'Open', 'space', 'total', 'water', 'use', 'Urban', 'vegetation', 'land', 'cover', 'actually', 'everywhere', 'residential', 'lawn', 'comme', 'rcial', 'industrial', 'landscape', 'public', 'open', 'space', 'Costello', '2000', '.', 'Scholars', 'sometimes', 'analyze', 'importance', 'l', 'awn', 'landscape', 'water', 'use', 'within', 'residential', 'water', 'use', 'st', 'udies', 'th', 'ose', 'research', 'questions', 'sparked', 'awareness', 'large', 'amount', 'water', 'use', 'contributed', 'urban', 'landscape', 'irrigation', 'Ferguson', '1987', 'Pittenger', 'et', 'al.', '2001', '.', 'P', 'ositive', 'relationship', 'found', 'total', 'landscape', 'area', 'total', 'water', 'use', 'Sovocool', 'et', 'al.', '2006', 'Wentz', 'Gober', '2007', '.', 'Additionally', 'research', 'turf', 'grass', 'evapotranspiration', 'landscape', 'water', 'management', 'becoming', 'extensive', 'Harivandi', '2009', 'Romero', '2', '009', '.', 'Hilaire', 'et', 'al', '.', '2008', 'proposed', 'landscape', 'water', 'use', 'one', 'important', 'urban', 'water', 'conservation', 'components', '.', 'Mos', 'elements', 'affect', 'landscape', 'water', 'requirement', 'addressed', 'p', 'l', 'ant', 'species', 'landscape', 'design', 'irrigation', 'strategies', 'human', 'activities', 'reuse', 'water', 'resources', 'economic', 'noneconomic', 'incentives', 'policy', 'ordinances', 'Bennett', 'Doss', '1960', 'Hilaire', '2008', 'Zazueta', '2000', '.', '2.2', 'Urban', 'c', 'onsumptive', 'w', 'ater', 'u', 'se', 'Generally', 'c', 'onsumptive', 'water', 'use', 'defined', 'water', 'evaporated', 'transpired', 'consumed', 'humans', 'livestock', 'otherwise', 'removed', 'immediate', 'water', 'environment', 'Shaffer', 'et', 'al.', '2008', '.', 'In', 'agricultural', 'area', 'consumptive', 'water', 'use', '10', 'approximately', 'equal', 'evapotranspiration', 'since', 'water', 'use', 'mostly', 'used', 'plant', 'transpiration', 'growth', 'inevitable', 'evaporation', 'http', '//www.idwr.idaho.gov/', 'GeographicInfo/METRIC/et.htm', '.', 'In', 'urban', 'environment', 'water', 'use', 'activities', 'complicated', 'th', 'ose', 'agricultural', 'area', 'evapotranspiration', 'consumptive', 'water', 'use', 'interchangeable', '.', 'Therefore', 'calculation', 'consumptive', 'water', 'use', 'amount', 'considers', 'elements', 'con', 'dition', 'agriculture', '.', 'There', 'two', 'main', 'algorithms', 'estimate', 'consumptive', 'water', 'use', 'measurement', '-', 'based', 'method', 'coefficient', '-', 'based', 'method', 'Shaffer', 'et', 'al.', '2008', '.', 'As', 'table', '2.1', 'display', 'c', 'oefficient', '-', 'based', 'method', 'could', 'directly', 'estimate', 'volume', 'consumptive', 'water', 'use', 'Great', 'L', 'ake', 'B', 'asin', 'climate', 'similar', '.', 'However', 'state', 'Nebraska', 'located', '500', 'miles', 'west', 'Great', 'L', 'ake', 'B', 'asin', 'included', '.', 'T', 'monitor', 'input', 'flow', 'output', 'flow', 'facilities', 'buildings', 'accurate', 'method', 'require', 'much', 'higher', 'technique', 'complexity', 'infrastructure', 'design', 'much', 'costly', 'Shaffer', 'et', 'al.', '2007', '.', 'Researchers', 'Col', 'orado', 'estimated', 'return', 'flow', 'lawn', 'irrigation', 'based', 'lawn', 'evapotranspiration', 'calculation', 'Oad', 'et', 'al.', '1997', '.', 'Overall', 'still', 'lack', 'concept', 'research', 'urban', 'consumptive', 'water', 'use', 'Falkenmark', '2005', '.', 'This', 'study', 'estimate', 'urban', 'consumptive', 'water', 'use', 'end', 'use', 'water', 'rarely', 'used', 'scholars', '.', 'End', 'use', 'water', 'refer', 'specific', 'destinations', 'water', 'used', 'faucets', 'lawn', 'irrigation', 'machines', 'product', 'produ', 'ction', 'toilets', 'etc', 'Dziegielewski', '2000', 'Mayer', '1999', '.', 'Therefore', 'study', 'estima', 'tes', 'consumptive', 'water', 'use', 'analyzing', 'end', 'use', 'water', 'measurement', '-', 'based', 'methodology', '.', '11', 'Table', '2.1', 'Comparison', 'methods', 'estimating', 'consumptive', 'water', 'use', 'Methods', 'estimate', 'consumptive', 'water', 'use', 'Pros', 'Cons', '1', 'withdrawal', '-', 'return', 'flow', 'Measurement', '-', 'based', 'Leaks', 'conveyance', 'losses', 'Difficult', 'measure', '2', 'withdrawal*', 'coefficient', 'Widely', 'adopted', 'Great', 'Lake', 'Basin', 'Mostly', 'empirical', 'References', 'Shaffer', 'et', 'al.', '2008', 'Shaffer', 'et', 'al.', '2007', '2', '.', '2.1', 'Urban', 'w', 'ater', 'u', 'se', 'nvestigations', 'g', 'overnment', 'gencies', '.', 'N', 'atural', 'resources', 'management', 'agencies', 'state', 'government', 'paid', 'different', 'attention', 'urban', 'water', 'uses', 'Table', '2.2', '.', 'The', 'State', 'California', 'advanced', 'explorer', 'urban', 'water', 'research', 'methods', '.', 'The', 'Urban', 'Water', 'Management', 'Planning', 'UWMP', 'Act', 'California', 'provides', 'support', 'long', '-', 'term', 'resource', 'planning', 'adequate', 'water', 'supplies', 'metropolitan', 'areas', '.', 'The', 'also', 'developed', 'methodologies', 'calculate', 'urban', 'water', 'consumption', 'includes', 'common', '-', 'acc', 'e', 'pted', 'methods', 'per', 'capita', 'water', 'use', 'estimation', 'land', 'use', 'oriented', 'algorithms', 'California', 'Department', 'Water', 'Resources', '2009', '.', 'The', 'Colorado', 'Water', 'Conservation', 'Board', 'le', 'development', 'Municipal', 'Water', 'Efficiency', 'Guidance', 'Document', 'establish', 'integrated', 'water', 'resources', 'planning', 'process', 'sustainable', 'urban', 'water', 'supply', 'Colorado', '.', 'Arizona', 'ha', 'similar', 'ongoing', 'program', '.', 'The', 'natural', 'resources', 'management', 'agencies', 'three', 'states', 'value', 'importance', 'municipal', 'water', 'resources', 'significantly', '.', 'With', 'awareness', 'water', 'consumed', 'need', 'conserve', 'water', 'municipalities', 'State', 'Arizona', 'California', 'lready', 'facilitated', 'water', '-', 'saving', 'techniques', 'low', '-', 'flow', 'devices', 'pricing', 'structures', 'well', 'tried', 'achieve', 'goal', 'increase', 'total', 'water', 'use', 'amount', 'even', 'growing', 'population', 'given', 'time', 'period', 'Campbell', '2004', '.', '12', 'S', 'tate', 'governments', 'Georgia', 'Oklahoma', 'developed', 'urban', 'water', 'reuse', 'plans', 'aim', 'ed', 'improve', 'municipal', 'water', 'use', 'efficiency', '.', 'Texas', 'Louisiana', 'Utah', 'paid', 'attention', 'different', 'aspects', 'urban', 'wate', 'r', 'use', 'lawn', 'watering', 'water', 'conservation', 'techniques', '.', 'However', 'state', 'level', 'agencies', 'conducted', 'much', 'res', 'earch', 'programs', 'municipal', 'water', 'uses', 'published', 'official', 'website', '.', 'Around', 'Great', 'Lakes', 'Basin', 'United', 'States', 'Geological', 'Survey', 'USGS', 'developed', 'consumptive', 'water', 'use', 'coefficients', '20', 'states', 'estimate', 'consumptive', 'water', 'use', 'similar', 'climate', 'scenario', '.', 'Thus', 'study', 'review', 'wat', 'er', 'management', 'resources', 'states', 'extra', 'information', 'abundant', 'urban', 'water', 'use', 'consumptive', 'water', 'use', 'studies', 'cooperated', 'based', 'USGS', 'research', '.', 'F', 'example', 'r', 'elying', 'comprehensive', 'dataset', 'provided', 'National', 'Pollutant', 'Discharge', 'Elimination', 'System', 'NPDES', 'State', 'New', 'Hemisphere', 'aims', 'use', 'equation', 'method', 'measure', 'consumptive', 'water', 'use', 'monitoring', 'th', 'e', 'inflow', 'outflow', 'withi', 'n', 'census', 'block', 'Hayes', '2009', '.', '13', 'Table', '2.2', 'Review', 'urban', 'water', 'use', 'management', 'state', 'agencies', 'USGS', 'Region', 'States', 'Attention', 'level*', 'Highlight', 'URL', 'California', 'High', 'Urban', 'Water', 'Management', 'Planning', 'UWMP', 'Act', 'http', '//www.water.ca.gov/urb', 'anwatermanagement/', 'Colorado', 'High', 'Municipal', 'w', 'ater', 'e', 'fficiency', 'p', 'lan', 'http', '//dnr.state.co.us/Pages/D', 'NRDefault.aspx', 'Arizona', 'High', 'Municipal', 'conservation', 'program', 'Arizona', 'municipal', 'water', 'uses', 'association', 'http', '//', 'www.zawater.gov', '/', 'AzD', 'WR/', 'http', '//www.amwua.org/', 'Georgia', 'High', 'Urban', 'water', 'reuse', 'urban', 'water', 'use', 'efficiency', 'analysis', 'http', '//www.gadnr.org/', 'Oklahoma', 'High', 'Urban', 'water', 'reuse', 'Oklahoma', 'city', 'Tulsa', 'water', 'supply', 'analysis', 'http', '//www.owrb.ok.gov/', 'Texas', 'Mid', 'Texas', 'water', 'matters', 'municipal', 'water', 'conservation', 'http', '//www.tpwd.state.tx.us/l', 'andwater/', 'Utah', 'Mid', 'Lawn', 'water', 'use', 'monitoring', 'http', '//www.water.utah.gov/', '#', 'Louisiana', 'Mid', 'U', 'rban', 'storm', 'water', 'runoff', 'pollution', 'http', '//dnr.louisiana.gov/', 'Great', 'lake', 'Basin', '24', 'States', 'High', 'Consumptive', 'water', 'use', 'coefficient', 'e', 'stimate', 'water', 'use', 'report', 'pubs.usgs.gov/fs', '/2008/3032/', 'pdf/fs2008', '-', '3032.pdf', 'Other', 'States', 'No', 'Attention', 'level*', 'High', 'stands', 'high', 'attention', 'relative', 'legislation', 'research', 'report', 'found', 'state', 'agency', 'website', 'Mid', 'stands', 'mid', 'attention', 'specific', 'urban', 'water', 'related', 'concern', 'conservation', 'highlighted', 'state', 'agency', 'website', 'No', 'stands', 'relative', 'information', 'found', 'online', 'review', '.', 'Cooperation', 'state', 'agencies', 'research', 'institute', 'exists', 'another', 'way', 'reflecting', 'government', 'concern', 'urban', 'water', 'use', '.', 'In', 'Florida', 'researchers', 'developed', 'water', 'use', 'coefficient', 'based', 'different', 'urban', 'land', 'use', 'via', 'statistical', 'models', 'Morales', '2011', '.', 'Specifically', 'landscaped', 'area', 'within', 'urban', 'boundary', 'many', 'researchers', 'State', 'Utah', 'conducted', 'ET', 'calculation', 'method', 'utilizing', 'Lysimeter', 'Bowen', 'ratio', 'facilities', 'commonly', 'used', 'ag', 'ricultural', 'natural', 'land', '.', 'Ad', 'ditionally', 'information', 'data', 'sharing', 'network', 'also', 'exists', 'state', '14', 'Oregon', '.', 'Its', 'website', 'shares', 'link', 'urban', 'water', 'research', 'program', 'conducted', 'Portland', 'State', 'University', 'Chang', '2010', '.', 'In', 'summary', 'municipal', 'water', 'use', 'attract', 'ed', 'attention', 'tate', 'agencies', 'highly', 'urbanized', 'states', 'California', '.', 'In', 'states', 'Nebraska', 'u', 'rban', 'water', 'use', 'researched', 'detail', '.', 'Variable', 'c', 'limate', 'accompan', 'ied', 'frequent', 'occurrences', 'drought', 'condition', 'severe', 'drought', 'places', 'municipal', 'water', 'infrastructure', 'vulnerable', 'condition', '.', 'H', 'ence', 'study', 'fill', 'gap', 'urban', 'water', 'research', 'state', 'Nebraska', 'propose', 'pioneer', 'estimation', 'method', 'urban', 'consumptive', 'water', 'use', '.', 'This', 'study', 'help', 'ate', 'decision', 'makers', 'better', 'understanding', 'water', 'suppl', 'ies', 'uses', 'urban', 'area', 'state', '.', '15', 'Chapter', '3', 'Methodology', '3', '.', '1', 'Research', 'f', 'r', 'amework', 'A', 'three', '-', 'phase', 'methodology', 'employed', 'analy', 'ze', 'urban', 'total', 'water', 'use', 'consumptive', 'water', 'u', 'se', 'Figure', '3.1', '.', 'Case', 'study', 'cities', 'City', 'Lincoln', 'Grand', 'Island', 'Sidney', '.', 'The', 'first', 'phase', 'develop', 'use', 'estimation', 'method', 'urban', 'consumptive', 'water', 'based', 'three', 'major', 'land', 'use', 'categories', 'residential', 'CIO', 'commercial', 'industrial', 'others', 'open', 'space', '.', 'Amount', 'c', 'onsumptive', 'water', 'use', 'subtraction', 'amount', 'discharge', 'water', 'use', 'amount', 'total', 'water', 'use', '.', 'Total', 'water', 'use', 'bimonthly', 'monthly', 'water', 'meter', 'sale', 'data', 'aggregated', 'research', 'unit', 'census', 'block', '.', 'Amount', 'discharge', 'depends', 'concept', 'end', 'u', 'se', 'water', 'refers', 'th', 'e', 'specific', 'places', 'water', 'used', 'given', 'area', 'Mayer', '1999', '.', 'For', 'water', 'end', 'user', 'ratio', 'discharge', 'amount', 'determined', 'previous', 'research', 'subjective', 'understanding', 'specific', 'water', 'use', 'activities', '.', 'For', 'example', 'faucets', 'bathroom', 'water', 'use', 'houses', 'considered', '100', 'percent', 'discharge', '0', '10', 'percent', 'outdoo', 'r', 'water', 'use', 'considered', 'discharged', '.', 'To', 'aggregate', 'water', 'meter', 'data', 'research', 'unit', 'records', 'projected', 'geographic', 'layers', 'based', 'street', 'network', 'function', 'Geocoding', 'ArcGIS', 'classified', 'three', 'major', 'categories', 'determined', 'land', 'use', 'types', '.', '16', 'Figure', '3.1', 'Conceptual', 'illustration', 'research', 'process', 'The', 'second', 'phase', 'conduct', 'statistical', 'analysis', 'wi', 'thin', 'major', 'category', 'Microsoft', 'Excel', 'Statistical', 'Package', 'Social', 'Sciences', 'SPSS', '.', 'As', 'Figure', '3.1', 'displays', 'major', 'land', 'use', 'types', 'residential', 'commercial', 'industrial', 'agricultural', 'open', 'space', 'combined', 'three', 'categories', '.', 'The', 'objective', 'explore', 'linear', 'regression', 'relationship', 'possible', 'influential', 'factors', 'e.g', '.', 'population', 'building', 'footprints', 'etc', '.', 'total', 'water', 'usage', 'consumptive', 'water', 'usage', 'census', 'block', 'level', 'Ordinary', 'least', 'square', 'r', 'egression', 'model', '.', 'Dependent', 'variables', 'amount', 'total', 'water', 'use', 'consumptive', 'water', 'use', '.', 'Most', 'independent', 'variables', 'retrieved', '2010', 'census', 'population', 'housing', 'units', 'et', 'cetera', 'pecific', 'information', 'explained', 'data', 'sources', 'section', '.', 'Block', 'group', 'analysis', 'included', 'project', 'units', 'readily', 'available', 'data', 'potential', 'influential', 'factors', '.', 'However', 'significant', 'relationship', 'census', 'block', 'group', 'level', '.', 'There', 'fore', 'block', 'gro', 'data', 'eliminated', 'result', 'chapters', '.', 'With', 'total', 'water', 'use', 'consumptive', 'water', 'use', 'data', 'block', 'last', 'phase', 'analyze', 'spatial', 'pattern', 'within', 'case', 'cities', '.', 'First', 'urban', 'water', 'use', 'consumptive', 'water', 'use', 'could', 'mapp', 'ed', 'ArcGIS', 'visually', 'assess', 'spatial', '17', 'Getis', '-', 'Ord', 'Gi*', 'adopted', 'quantify', 'scale', 'spatial', 'dependence', 'water', 'use', 'House', '-', 'Peters', '2010', '.', 'ArcGIS', 'function', 'global', 'measure', 'spatial', 'autocorrelation', 'possible', 'values', 'positive', 'dispersed', 'negati', 'clustered', '0', 'means', 'perfect', 'random', 'spatial', 'pattern', \"O'Sullivan\", 'Unwin', '2002', '.', 'Getis', '-', 'Ord', 'Gi*', 'another', 'ArcGIS', 'function', 'used', 'recognize', 'hot', 'spots', 'cold', 'spots', 'Z', '-', 'score', 'P', '-', 'value', \"O'Sullivan\", 'Unwin', '2002', '.', '3', '.', '2', 'Study', 'area', 'The', 'City', 'Lincoln', 'Grand', 'Island', 'Sidney', 'chosen', 'case', 'cities', '.', 'The', 'four', 'main', 'reasons', '.', 'First', 'se', 'cities', 'generally', 'located', 'fr', 'om', 'east', 'west', 'across', 'Nebraska', '.', 'They', 'generally', 'represent', 'climate', 'variations', 'across', 'state', 'Figure', '3.2', '.', 'For', 'example', 'precipitation', 'declining', 'ET', '0', 'Penman', 'Evapotranspiration', 'HPRCC', '2010', 'increasing', 'east', 'west', '.', 'Second', 'ground', 'water', 'principal', 'water', 'resource', 'cities', 'one', 'important', 'issues', 'integrated', 'water', 'management', 'Nebraska', '.', 'Third', 'population', 'f', 'case', 'cities', 'varies', '6,500', '25', '0', ',000', 'could', 'represent', 'different', 'city', 'scales', '.', 'Last', 'least', 'municipal', 'departments', 'willing', 'provide', 'meter', 'sale', 'records', '.', 'Smaller', 'towns', 'rarely', 'population', 'lower', '6,000', 'employ', 'mete', 'r', 'techniques', 'water', 'service', 'Nebraska', '.', '18', 'Figure', '3.2', 'Location', 'case', 'cites', 'The', 'City', 'Lincoln', 'capit', 'l', 'second', 'populous', 'city', 'State', 'Nebraska', 'located', 'eastern', 'Nebraska', 'relatively', 'high', 'precipitation', 'state', '.', 'The', 'Grand', 'Island', 'fourth', 'populous', 'city', 'retail', 'hub', 'central', 'Nebraska', 'Grand', 'Island', '2013', '.', 'The', 'Sidney', 'small', 'town', 'western', 'Nebraska', '.', 'It', 'represent', 'relatively', 'arid', 'climate', 'condition', 'state', '.', 'According', 'US', 'censu', 'data', 'City', 'Lincoln', 'Grand', 'Island', 'Sidney', 'expanding', 'population', 'growth', 'rate', 'least', '5.4', '%', 'past', 'two', 'decades', '.', 'Also', 'City', 'Lincoln', 'Grand', 'Island', 'among', 'top', '5', 'fastest', 'growing', 'large', 'cit', 'ies', 'Nebraska', 'Deichert', '2011', '.', 'These', 'cities', 'potentially', 'facing', 'challenge', 'increasing', 'water', 'demand', 'caused', 'growing', 'population', '.', '3.3', 'Data', 'c', 'ollection', 'ources', 'Infor', 'ation', 'collected', 'four', 'major', 'categories', 'water', 'use', 'GIS', 'layers', 'census', 'data', 'climate', 'data', 'specific', 'detail', 'displays', 'Table', '3', '.1', '.', '19', 'Table', '3.1', 'Data', 'resources', 'list', 'We', 'obtained', 'monthly', 'bimonthly', 'water', 'use', 'records', 'address', 'around', 'year', '2010', 'telephone', 'email', 'communications', 'utility', 'departments', 'Table', '3.1', '.', 'More', '81,000', 'meter', 'records', 'received', 'City', 'Lincoln', '.', 'Meanwhile', 'approximately', '16,000', 'records', 'received', 'Grand', 'Island', '1,800', 'records', 'Sidney', '.', 'The', 'sum', 'water', 'use', 'records', 'block', 'one', 'City', 'Data', '2010', 'except', 'p', 'e', 'cific', 'explanation', 'Data', 'Sources', 'City', 'Departments', 'City', 'Lincoln', 'GIS', 'layers', 'parcel', 'current', 'land', 'use', 'z', 'oning', 'Building', 'footprints', 'Planning', 'Department', 'Bimonthly', 'metered', 'water', 'sales', 'Public', 'Works', '/', 'Utilit', 'es', 'Department', 'Grand', 'Island', 'GIS', 'layers', 'p', 'arcel', 'l', 'use', '2003', 'CAD', 'z', 'oning', 'Regional', 'Planning', '/', 'Community', 'Development', 'Department', 'Monthly', 'metered', 'water', 'sales', 'Utility', 'Department', 'Sidney', 'GIS', 'layers', 'p', 'arcel', 'z', 'oning', 'Planning', '/', 'Zoning', 'Department', 'GIS', 'Department', 'Monthly', 'metered', 'water', 'sale', 'Water', 'Department', 'Others', 'Weather', 'data', 'Daily', 'Precipita', 'ion', 'Daily', 'ET', 'High', 'Plain', 'Regional', 'Climate', 'Center', 'HPRCC', 'online', 'data', 'services', 'Automated', 'Weather', 'Data', 'Network', 'AWDN', 'GIS', 'layers', 'census', 'block', 'block', 'groups', 'c', 'ity', 'limits', 'street', 'network', 'U.S.', 'census', 'Bureau', 'NDNR', 'Industrial', 'ischarge', 'National', 'Pollutant', 'Discharge', 'Elimination', 'System', 'NPDES', 'Influen', 'ial', 'factors', 'populati', 'n', 'population', 'density', 'housing', 'units', 'housing', 'density', 'average', 'income', 'years', 'built', 'total', 'housing', 'values', 'building', 'footprints', 'total', 'landscape', 'area', '.', 'US', 'census', '2010', 'SF1', 'Table', 'P1', 'US', 'census', '2010', 'SF1', 'Table', 'H1', 'American', 'Community', 'Survey', '2006', '-', '2010', 'B19001', 'American', 'Community', 'Survey', '2006', '-', '2010', 'B25034', 'American', 'Community', 'Survey', '2006', '-', '2010', 'B25075', 'City', 'Lincoln', 'Planning', 'Department', 'Nebraska', 'Farm', 'Service', 'Agency', 'FSA', '2010', 'Imagery', 'Nebraska', 'Natural', 'Resources', 'GIS', 'Data', 'Banck', '20', 'dependent', 'variable', 'total', 'water', 'usage', 'statistical', 'analysis', 'als', 'used', 'calculate', 'another', 'dependent', 'variable', 'consumptive', 'water', 'use', '.', 'For', 'GIS', 'layers', 'different', 'cities', 'various', 'maintenance', 'strategies', 'land', 'uses', 'parcels', 'information', '.', 'The', 'City', 'Lincoln', 'monthly', 'update', 'current', 'land', 'use', 'oth', 'er', 'cities', 'use', 'zoning', 'map', 'land', 'use', 'information', '.', 'T', 'best', 'available', 'GIS', 'layers', 'data', 'obtained', 'case', 'cities', 'telephone', 'email', 'communication', 'GIS', 'planning', 'departments', 'case', 'study', 'cities', '.', 'The', 'categories', 'water', 'records', 'summarized', 'depend', 'location', '.', 'This', 'means', 'record', 'located', 'residential', 'land', 'use', 'area', 'water', 'use', 'amount', 'summarized', 'residential', 'water', 'use', '.', 'Parcels', 'units', 'property', 'owners', 'meter', 'records', '.', 'Thus', 'whether', 'enough', 'meter', 'records', 'block', 'could', 'examined', 'comparison', 'numbers', 'water', 'meters', 'parcels', 'within', 'block', '.', 'The', 'City', 'Lincoln', 'provides', 'GIS', 'layers', 'building', 'footprints', '2010', '.', 'Total', 'landscape', 'area', 'one', 'independent', 'variables', 'derived', 'Nebraska', 'Farm', 'Service', 'Agency', 'FSA', '2010', 'Imagery', '4', '-', 'band', 'color', '.', 'If', 'NDVI', 'Normalized', 'Difference', 'Vegetation', 'Index', 'index', 'larger', '0.15', 'raster', 'cell', '1m', '2', 'considered', 'total', 'landscape', 'ArcGIS', 'Help', '2013', '.', 'Influential', 'factors', 'independent', 'variables', 'including', 'social', 'demographic', 'economic', 'urban', 'development', 'patterns', 'collected', 'based', 'block', 'block', 'group', 'mostly', '2010', 'census', 'American', 'Community', 'Survey', '.', 'Social', 'factors', 'used', 'block', 'block', 'group', 'level', 'analysis', 'population', 'housing', 'units', 'block', 'area', 'population', 'density', 'housing', 'density', 'Table', '3.1', '.', 'Block', 'area', 'square', 'meter', 'calculated', '21', 'ArcGIS', 'geometry', 'calculation', 'function', 'based', 'projected', 'coordinate', 'system', 'NAD', '1983', 'StatePlane', 'Nebraska', 'FIPS', '2600', 'Feet', '.', 'Population', 'density', 'housing', 'density', 'directly', 'calculated', 'states', 'information', 'using', 'following', 'equations', 'Population', 'density', '=', 'population', '/', 'block', 'area', 'number', 'peopl', 'e/', 'acres', 'Housing', 'densi', 'ty=', 'housing', 'units', '/', 'block', 'area', 'unites/', 'acres', 'Economic', 'factors', 'could', 'obtain', 'ed', 'block', 'group', 'level', 'US', 'census', 'American', 'C', 'ommunity', 'S', 'urvey', '2006', '-', '2010', 'composed', 'average', 'income', 'total', 'housing', 'values', '.', 'For', 'u', 'rban', 'development', 'pattern', 'factors', 'shapefiles', 'building', 'footprints', 'available', 'block', 'block', 'group', 'level', 'GIS', 'planning', 'departments', 'City', 'Lincoln', '.', 'Rooms', 'years', 'built', 'downloaded', 'US', 'census', 'American', 'C', 'ommunity', 'S', 'urvey', '2006', '-', '2010', '.', 'Climate', 'data', 'year', '2010', 'downloaded', 'AWDN', 'Automated', 'Weather', 'Data', 'Network', 'HPRCC', 'High', 'Plain', 'Regional', 'Climate', 'Center', 'could', 'directly', 'used', 'ET', 'calculation', 'input', 'software', 'calculator', 'named', 'REF', '-', 'ET', 'All', 'en', '2013', '.', 'Few', 'industrial', 'discharge', 'records', 'consumptive', 'water', 'use', 'calculation', 'c', 'found', 'NPDES', 'National', 'Pollutant', 'Discharge', 'Elimination', 'System', '.', 'Precipitation', 'industrial', 'discharge', 'water', 'use', 'used', 'outdoor', 'industrial', 'consumptive', 'water', 'use', 'calculation', 'process', '.', '22', 'Figure', '3.3', 'Examples', 'census', 'blocks', 'block', 'group', '3.4', 'Data', 'nalys', 'e', '3', '.', '4', '.1', 'Research', 'u', 'nit', 'Blocks', 'census', 'b', 'locks', 'statistical', 'areas', 'bounded', 'visible', 'features', 'streets', 'roads', 'streams', 'railroad', 'tracks', 'nonvisible', 'boundaries', 'selected', 'property', 'lines', 'city', 'township', 'school', 'district', 'county', 'limits', '2010', 'US', 'census', 'Summary', 'File', '1', '.', 'The', 'mean', 'area', '10', 'acres', 'population', 'around', '45', 'Nebraska', 'cities', '.', 'Block', 'groups', 'BGs', 'statistical', 'divisions', 'census', 'tracts', 'generally', 'defined', 'contain', '600', '3,000', 'people', 'used', 'present', 'data', 'control', 'block', 'numbering', '2010', 'US', 'census', 'Summary', 'File', '1', '.', 'The', 'mean', 'block', 'group', 'area', 'Nebraska', 'approximately', '2693', 'acres', '150', 'acres', 'within', 'city', 'boundary', '.', 'The', 'average', 'population', '1158', 'Nebraska', '.', 'C', 'ensus', 'block', 'main', 'analysis', 'units', 'study', 'defined', 'U.S.', 'census', 'demographics', 'related', 'management', 'Figure', '3.3', '.', 'The', 'reason', 'census', 'block', 'selected', 'block', 'finest', 'unit', 'population', 'summary', 'independent', 'variables', '.', 'O', 'ne', 'objective', 'study', 'investigate', 'statistical', '23', 'relationship', 'influential', 'factors', 'e.', 'g.', 'population', 'total', 'water', 'use', '/', 'consumptive', 'water', 'use', '.', 'B', 'lock', 'group', 'listed', 'assisting', 'unit', 'check', 'could', 'economic', 'related', 'factors', 'significantly', 'influencing', 'total', 'water', 'usage/', 'consumptive', 'water', 'usage', 'census', 'block', 'group', 'level', '.', 'B', 'lock', 'group', 'smallest', 'unit', 'accompanied', 'economy', 'housing', 'conditions', 'data', '.', 'Additionally', 'b', 'lock', 'group', 'maximum', 'unit', 'could', 'accepted', 'study', 'according', 'urban', 'structure', 'Nebraska', '.', 'The', 'census', 'tract', 'p', 'otential', 'unit', 'option', 'analysis', '.', 'It', 'another', 'statistical', 'unit', 'developed', 'US', 'census', 'population', 'around', '4,000', 'within', 'boundary', '2010', 'US', 'census', 'Summary', 'File', '1', '.', 'However', 'difficult', 'find', '70', '90', 'percent', 'single', 'type', 'water', 'users', 'one', 'census', 'tract', 'census', 'tracts', 'single', 'city', 'less', '200,000', 'populations', '.', 'For', 'example', 'approximate', '60', 'census', 'tracts', 'City', 'Lincoln', 'number', '10', 'Grand', 'Island', '2', 'Sidney', '.', 'It', 'impossible', 'test', 'linear', 'regression', 'relationship', 'small', 'sample', 'size', '.', 'Another', 'reason', 'use', 'census', 'block', 'seamless', 'across', 'tate', 'well', 'maintained', 'US', 'census', '.', 'If', 'one', 'category', 'within', 'block', 'wou', 'ld', 'split', 'sub', '-', 'blocks', 'analysis', 'units', '.', 'In', 'blo', 'ck', 'group', 'level', 'analysis', 'hardly', 'single', 'category', 'within', 'one', 'block', 'group', 'analysis', 'would', 'conducted', 'based', 'land', 'use', 'percentage', 'within', 'block', 'group', '.', 'In', 'later', 'analysis', 'either', 'similar', 'relationship', 'block', 'analysis', 'significant', 'relationship', 'foun', 'block', 'group', 'level', '.', 'Thus', 'study', 'keep', 'block', 'level', 'analysis', 'result', 'chapter', '.', '24', '3', '.', '4.2', 'GIS', 'process', 'The', 'first', 'phase', 'study', 'calculate', 'consum', 'ptive', 'water', 'use', 'census', 'block', 'level', 'three', 'major', 'categories', 'residential', 'open', 'space', 'commercial', 'industrial', 'others', 'e.g', '.', 'public', 'office', 'institutions', 'etc', '.', '.', 'The', 'meter', 'records', 'need', 'classified', 'one', 'categories', '.', 'Specifically', 'mete', 'r', 'record', 'location', 'tersected', 'residential', 'land', 'use', 'classified', 'residential', 'category', '.', 'Figure', '3.4', 'Procedure', 'build', 'water', 'use', 'GIS', 'dataset', 'The', 'overall', 'GIS', 'process', 'illustrated', 'Figure', '3.4', '.', 'First', 'census', 'block', 'assigned', 'one', 'three', 'categories', '.', 'GIS', 'layers', 'census', 'blocks', 'land', 'uses', 'c', 'intersected', 'decide', 'categories', 'blocks', '.', 'W', 'hether', 'single', 'category', 'within', 'block', 'could', 'identified', 'attribute', '.', 'If', 'one', 'type', 'categories', 'within', 'block', 'split', 'sub', '-', 'block', 'research', 'unit', 'study', '.', 'The', 'polygons', 'blocks', 'sub', '-', 'blocks', 'category', 'could', 'merged', 'one', 'shapefile', 'using', 'merge', 'tool', '.', 'Thereafter', 'spatial', 'join', 'adopted', 'append', 'point', 'geograph', 'ic', 'layer', 'water', 'meter', 'records', 'classified', 'block', 'polygon', '.', 'The', 'point', 'layer', 'projected', 'table', 'records', 'point', 'feature', 'attribute', 'water', 'use', 'amount', 'Geocoding', '.', '25', 'During', 'process', 'two', 'options', 'transform', 'water', 'mete', 'r', 'records', 'fro', 'spreadsheet', 'GIS', 'shapefiles', '.', 'One', 'way', 'attribute', 'join', 'c', 'link', 'water', 'usage', 'parcel', 'dataset', 'exact', 'match', 'expression', 'address', 'es', '.', 'Attribute', 'join', 'ArcGIS', 'append', 'water', 'usage', 'information', 'parcel', 'data', 'address', 'attribute', 'tables', 'ArcGIS', 'Resources', 'Help', '.', 'However', 'attribute', 'join', 'requires', 'match', 'exact', 'words', 'usually', 'lead', 'lower', 'percentage', 'address', 'match', 'es', '.', 'For', 'example', 'result', 'attribute', 'join', 'C', 'ity', 'Linco', 'ln', 'nearly', 'fifteen', 'percent', 'meter', 'records', 'located', '.', 'Attribute', 'join', 'result', 'could', 'match', 'around', '85', '%', 'total', 'meter', 'records', '.', 'Thereafter', 'geocoding', 'function', 'adopted', 'study', '.', 'Geocoding', 'process', 'transforming', 'water', 'usage', 'addresses', 'geographic', 'features', 'shapefiles', 'points', 'based', 'street', 'network', 'ArcGIS', 'Resources', 'Help', '.', 'This', 'study', 'design', 'three', 'step', 'geocoding', 'process', '.', 'The', 'match', 'ed', 'record', 'number', 'improved', 'significantly', 'process', '.', 'For', 'instance', 'City', 'Lincoln', 'number', 'unmatched', 'address', 'using', 'attribute', 'join', '18,582', 'number', '4,692', 'first', 'step', 'geocoding', 'geocode', 'census', 'street', 'network', '.', 'Purely', 'relying', 'census', 'network', 'matched', 'record', 'number', 'Figure', '3.5', 'City', 'Lincoln', 'geocoding', 'process', '26', 'reach', '95', '%', '.', 'T', 'consecutive', 'two', 'steps', 'transform', 'rest', '5', '%', 'total', 'records', 'Figure', '3.5', '.', 'ArcGIS', 'online', 'network', 'adopted', 'geographic', 'reference', 'system', 'second', 'geocoding', 'proce', 'ss', '.', 'If', 'still', 'unmatched', 'records', 'limited', 'number', 'records', 'found', 'detail', 'ed', 'manual', 'correction', 'based', 'Google', 'map', 'system', '.', 'Very', 'records', 'left', 'three', 'step', 'process', 'would', 'treated', 'invalid', 'data', 'removed', 'calculation', '.', 'The', 'received', 'water', 'meter', 'records', 'city', 'geocoding', 'result', 'based', 'census', 'online', 'network', 'listed', 'Table', '3.2', '.', 'According', 'communication', 'wi', 'th', 'municipal', 'utility', 'departments', 'invalid', 'water', 'records', 'exist', 'billing', 'system', '.', 'Hence', 'three', '-', 'step', 'geocoding', 'reliable', 'accurate', 'way', 'transform', 'water', 'meter', 'records', '.', 'Table', '3.2', 'Water', 'meter', 'records', 'geocoding', 'result', 'three', 'case', 'cities', 'Cities', 'Records', 'received', 'approximately', 'Geocoded', 'result', 'City', 'Lincoln', '81,555', '81,376', 'Grand', 'Island', '15,652', '15,578', 'Sidney', '2,150', '2,150', '3', '.', '4.3', 'Analy', 'tical', 'criteria', 'In', 'order', 'ensure', 'quality', 'analysis', 'result', 'study', 'set', 'several', 'thresholds', 'eliminate', 'unqualified', 'research', 'units', 'census', 'blocks', '.', 'For', 'residential', 'blocks', 'meter', 'numbers', 'need', 'meet', 'ninety', 'percent', 'total', 'housing', 'units', 'parcels', '.', 'M', 'eter', 'data', 'usually', 'equal', 'number', 'parcel', 'n', 'block', 'apartments', 'meter', 'records', 'shall', 'number', 'housing', 'units', 'block', 'single', 'family', 'houses', '.', 'Thus', 'residential', 'block', 'meet', 'either', 'two', 'criteria', 'kept', 'analysis', '.', 'For', 'CIO', 'commercial', 'industrial', 'others', 'category', 'meter', 'record', 'need', 'reflect', 'ninety', 'percent', 'total', 'parcel', 'numbers', 'analysis', '.', 'For', 'open', '27', 'space', 'category', 'least', 'sixty', 'percent', 'total', 'area', 'healthy', 'vegetation', '.', 'Otherwise', 'may', 'abandoned', 'lack', 'irrigation', 'management', '.', 'Table', '3.3', 'Analysis', 'criteria', '3', '.', '4', '.', '4', 'Consumptive', 'water', 'use', 'calculation', 'In', 'study', 'consumptive', 'water', 'use', 'n', 'Nebraska', 'estimated', 'well', '-', 'accepted', 'equation', 'method', 'Dziegielewski', '2000', 'Mayer', '1999', 'Shaffer', 'et', 'al.', '2008', '.', 'Each', 'end', 'use', 'water', 'evaluated', 'determine', 'amount', 'used', 'p', 'ercentage', 'discharg', 'ed', 'water', '.', 'As', 'stated', 'GIS', 'process', 'hree', 'major', 'categories', 'residential', 'CIO', 'commercial', 'industrial', 'others', 'open', 'space', 'ar', 'e', 'assigned', 'research', 'unit', 'census', 'block', '.', 'For', 'major', 'category', 'consumptive', 'water', 'us', 'e', 'calculated', 'equation', 'follow', 'Consumptive', 'water', 'use', 'amount', '=', 'total', 'water', 'use', 'amount', 'discharge', 'water', 'amount', 'Total', 'water', 'use', 'bimonthly', 'monthly', 'water', 'meter', 'sale', 'data', 'aggregated', 'block', 'level', '.', 'Discharge', 'water', 'amount', 'estimate', 'water', 'end', 'use', 'refers', 'specific', 'places', 'water', 'used', 'given', 'area', 'Mayer', '1999', '.', '3', '.', '4', '.', '4', '.1', 'Residential', 'consumptive', 'water', 'use', 'calculation', 'In', 'residential', 'area', 'two', 'major', 'terminals', 'w', 'ater', 'flow', 'buildings', 'landscape', 'area', '.', 'According', 'American', 'Water', 'Works', 'Association', 'Research', 'Foundation', '1999', 'Category', 'Criteria', 'Residential', 'Either', 'eter', 'numbers', '/', 'housing', 'units', '>', '=', '90', '%', 'eter', 'numbers', '/', 'parcels', '>', '=', '90', '%', 'CIO', 'Meter', 'numbers', '/', 'parcels', '>', '=', '90', '%', 'Open', 'Space', 'Vegetation', 'area', '>', '=', '60', '%', 'total', 'block', 'area', '28', 'indoor', 'water', 'u', 'age', 'consist', 'bath', 'clothes', 'washer', 'dish', 'washer', 'faucet', 'shower', 'toilet', 'leak', 'domestic', 'uses', '.', 'Consumptive', 'water', 'use', 'items', 'drinking', 'indoor', 'watering', 'etc', '.', 'less', 'one', 'percent', 'total', 'indoor', 'water', 'use', '.', 'Therefore', 'study', 'indoor', 'consumptive', 'water', 'use', 'ignored', '.', 'Outdoor', 'water', 'usage', 'consist', 'irrigation', 'car', 'wash', 'ing', 'swimming', 'pool', 'others', '.', 'Consumptiv', 'e', 'water', 'use', 'occurs', 'irrigation', 'swimming', 'poo', 'l', 'refers', 'ev', 'aporation', 'water', 'bod', 'ies', 'evapotranspiration', 'plants', '.', 'O', 'utdoor', 'water', 'use', 'activities', 'e.g', '.', 'swimming', 'pools', 'flower', 'garden', 'irrigation', 'irregular', 'except', 'turfgrass', 'irrigation', '.', 'Consequently', 'study', 'assumes', 'outdoor', 'water', 'use', 'la', 'ndscape', 'turfgrass', 'irrigation', 'growing', 'irrigation', 'season', 'outdoor', 'consumptive', 'water', 'use', 'determined', 'actual', 'outdoor', 'water', 'use', 'theoretically', 'required', 'amount', 'water', 'evapotranspiration', 'landscape', 'turfgrass', '.', 'In', 'order', 'estimate', 'amount', 'actual', 'outdoor', 'water', 'use', 'analysis', 'water', 'meter', 'data', 'three', 'cities', 'needed', '.', 'The', 'raw', 'water', 'usage', 'data', 'received', 'municipal', 'utility', 'department', 'spreadsheet', 'address', 'monthly', 'bimonthly', 'water', 'u', 'sage', 'address', '.', 'There', 'separate', 'record', 'indoor', 'outdoor', 'water', 'use', '.', 'The', 'method', 'estimate', 'indoor', 'outdoor', 'water', 'use', 'study', 'way', 'City', 'Lincoln', 'utility', 'department', 'charges', 'waste', 'water', 'bill', '.', 'It', 'collect', 'sewer', 'system', 'fee', 'discharge', 'water', 'consistently', 'whole', 'year', 'based', 'winter', 'water', 'usage', 'City', 'Lincoln', '2013', '.', 'Therefore', 'study', 'assume', 'indoor', 'water', 'use', 'consistent', 'entire', 'year', 'outdoor', 'water', 'use', 'occurs', 'landscape', 'turfgrass', 'irrigation', 'April', '1st', 'October', '31st', '.', 'Indoor', 'water', 'use', 'amount', 'IWU', 'could', 'calculated', 'based', 'winter', 'water', 'usage', 'WWU', '.', 'T', 'complete', 'indoor', 'water', '29', 'usage', 'Dec', 'ember', '21st', '2009', 'Feb', 'ruary', '18th', '2010', 'City', 'Lincoln', 'Dec', 'ember', '1st', 'Feb', 'ruary', '1', 'st', 'Grand', 'Island', 'Sidney', '.', 'These', 'depend', 'different', 'collection', 'time', 'periods', 'three', 'case', 'cities', '.', 'O', 'utdoor', 'water', 'use', 'amount', 'OWU', 'subtraction', 'indoor', 'water', 'usage', 'IWU', 'total', 'water', 'usage', 'IWU', 'annual', '=', '12', 'months', '1', 'year', '*', 'WWU/', 'winter', 'time', 'period', 'OWU', 'annual', '=', 'total', 'water', 'usage', 'IWU', 'annual', '.', 'Since', 'indoor', 'consumptive', 'water', 'use', 'zero', 'residential', 'consumptiv', 'e', 'water', 'use', 'amount', 'RCWU', 'equal', 'outdoor', 'consumptive', 'water', 'use', 'amount', '.', 'The', 'relationship', 'outdoor', 'water', 'use', 'OWU', 'outdoor', 'irrigation', 'demand', 'OID', 'determines', 'actual', 'residential', 'consumptive', 'water', 'use', 'amount', 'RCWU', '.', 'As', 'Figure', '3', '.', '6', 'displays', 'outdoor', 'water', 'use', 'amount', 'larger', 'outdoor', 'irrigation', 'demand', 'irrigation', 'demand', 'part', 'used', 'plant', 'turfgrass', 'evapotranspiration', 'rest', 'part', 'outdoor', 'water', 'use', 'goes', 'back', 'urban', 'environment', '.', 'It', 'means', 'OID', 'equal', 'amount', 'RCWU', '.', 'If', 'outdoor', 'water', 'use', 'less', 'irrigation', 'demand', 'indicates', 'outdoor', 'water', 'use', 'OWU', 'consumed', 'plant', 'turfgrass', 'evapotranspiration', 'equals', 'RCWU', '.', 'The', 'outdoor', 'irrigation', 'demand', 'OID', 'subtra', 'cti', 'precipitation', 'evapotranspiration', 'ET', 'c', '.', 'To', 'transfer', 'length', 'volume', 'equation', 'follow', 'OID', '=', 'Total', 'landscape', 'area', '*', 'ET', 'c', 'precipitation', 'Figure', '3.6', 'Residential', 'consumptive', 'water', 'use', 'determination', 'process', '30', 'Evapotranspiration', 'precipitation', 'often', 'expressed', 'dimension', 'depth', 'time', 'inches', 'per', 'day', 'water', 'usage', 'record', 'utility', 'departments', 'expressed', 'dimension', 'volume', 'cubic', 'feet', 'cubic', 'meters', '.', 'Hence', 'irrigat', 'ed', 'area', 'total', 'landscape', 'area', 'block', 'need', 'calculate', '.', 'Due', 'ti', 'labor', 'limitation', 'research', 'employs', 'general', 'estimation', 'irrigat', 'ed', 'area', 'total', 'landscape', 'area', 'based', 'NDVI', '.', 'Precipitation', 'obtained', 'directly', 'r', 'Data', 'Network', 'AWDN', 'http', '//www.hprcc.unl.edu/awdn/', '.', 'ET', 'c', 'calculated', 'based', 'fundamental', 'data', 'resources', 'software', 'called', 'Ref', '-', 'ET', 'Richard', '2013', '.', 'All', 'units', 'employed', 'study', 'unified', 'meter', 'square', 'meter', 'cubic', 'meter', '.', '1', 'delineation', 'otal', 'landscape', 'area', 'NDVI', 'Normalized', 'Difference', 'Vegetation', 'Index', 'display', 'cell', 'plant', 'area', 'landscape', 'cell', 'non', '-', 'plant', 'area', 'standardized', 'index', 'utilizes', 'contrast', 'features', 'red', 'near', '-', 'infra', 'red', 'bands', '.', 'The', 'contrast', 'derived', 'chlorophyll', 'absorption', 'red', 'band', 'high', 'reflection', 'plants', 'NIR', 'band', 'ArcGIS', 'help', 'Lillesand', 'et', 'al.', '2004', '.', 'Ther', 'efore', 'total', 'landscape', 'area', 'extract', 'ed', 'raster', 'image', 'GIS', '.', 'The', 'equation', 'NDVI', '=', 'Infrared', '-', 'Red', '/', 'Infrared', '+', 'Red', 'Instead', 'achieving', 'NDVI', 'raster', 'data', 'ENVI', 'Er', 'DAS', 'NDVI', 'function', 'calculated', 'ra', 'ster', 'calculator', 'ArcGIS', '.', 'In', 'study', 'Nebraska', 'Farm', 'Service', 'Agency', 'FSA', '2010', 'Imagery', 'basic', 'data', 'total', 'landscape', '31', 'area', 'delineation', '.', 'It', '1', 'meter', 'resolution', 'raster', 'im', 'age', 'ry', 'consists', 'four', 'band', 'blue', 'green', 'red', 'infrared', '.', 'According', 'ESRI', 'resources', '2010', 'NDVI', 'values', 'range', '-', '1', '1', '.', 'Value', '0.1', 'indicate', 'barren', 'area', 'rock', 'sand', 'etc', '.', 'value', '0.2', 'higher', 'represent', 'vegetation', 'shrub', 'grass', 'trees', 'etc', '.', 'In', 'study', 'average', 'v', 'alue', '0.15', 'set', 'threshold', 'define', 'total', 'landscape', 'area', 'within', 'case', 'study', 'city', 'boundary', '.', 'If', 'pixel', 'value', 'higher', '0.15', '1', 'square', 'meter', 'cell', 'landscape', 'vegetation', 'area', '.', 'Thereafter', 'cells', 'NDVI', 'value', 'higher', 'th', '0.15', 'reclassified', 'unique', 'value', 'summarized', 'research', 'unit', 'census', 'block', 'zonal', 'statistics', 'function', 'ArcGIS', '.', '2', 'calculation', 'ET', 'c', 'precipitation', 'Evapotranspiration', 'ET', 'c', 'water', 'consumed', 'plants', 'without', 'returning', 'back', 'sewer', 'system', 'represents', 'water', 'lost', 'soil', 'combination', 'evaporation', 'pla', 'n', 'transpiration', 'Allen', 'et', 'al.', '1998', 'Romero', '2009', '.', 'Ac', 'tual', 'u', 'r', 'fgrass', 'evapotranspiration', 'difficult', 'measure', '.', 'Th', 'us', 'meteorological', 'data', 'computation', 'models', 'utili', 'zed', 'estimate', 'reference', 'evapotranspiration', 'ET', '.', 'ET', 'c', 'calculated', 'multiplying', 'reference', 'evapotranspiration', 'ET', 'coefficient', 'K', 'c', '.', 'The', 'effect', 'different', 'climate', 'condition', 'reflected', 'ET', 'crop', 'characters', 'determine', 'K', 'c', 'Allen', 'et', 'al.', '1998', 'Brown', 'Kopec', '2000', '.', 'The', 'calculation', 'formula', 'written', 'follows', 'ET', 'c', '=', 'K', 'c', '*', 'ET', 'Kc', 'single', 'crop', 'coefficient', 'incorporates', 'crop', 'transpiration', 'soil', 'evaporation', '.', 'In', 'Nebraska', 'The', 'dominant', 'species', 'Kentucky', 'bluegrass', 'across', 'state', '32', 'followed', 'tall', 'fescue', 'bu', 'ffalograss', 'belong', 'cool', 'season', 'turfgrass', '.', 'Under', 'mean', 'maximum', 'plant', 'heights', 'non', '-', 'stressed', 'well', '-', 'managed', 'condition', 'single', 'crop', 'coefficient', 'cool', 'season', 'turfgrass', '0.9', 'use', 'FAO', 'Penman', '-', 'Monteith', 'ET', 'Allen', 'et', 'al.', '1998', '.', 'ET', 'calculated', 'REF', '-', 'ET', 'reference', 'evapotranspiration', 'calculation', 'software', 'FAO', 'ASCE', 'standardized', 'equations', 'developed', 'University', 'Idaho', 'Dr.', 'Richard', 'G.', 'Allen', '.', 'The', 'input', 'data', 'ET', 'calculation', 'downloaded', 'HPRCC', 'High', 'Plain', 'R', 'egional', 'Climate', 'Center', 'AWDN', 'Automated', 'weather', 'data', 'network', 'includ', 'e', 'time', 'max', 'air', 'temperature', 'F', 'min', 'air', 'temperature', 'F', 'average', 'relative', 'humidity', '%', 'average', 'wind', 'speed', 'mile/hour', 'solar', 'radiation', 'w/m', '2', 'precipitation', 'inches', 'anemometer', 'height', 'temperature', 'height', 'weather', 'station', 'elevation', 'latitude', 'longitude', 'degree', '.', 'Additionally', 'parameters', 'set', 'default', 'including', 'default', 'day', 'night', 'wind', 'ratio', '2', 'vegetation', 'height', '0.12m', 'green', 'f', 'etch', 'class', 'A', 'pan', '1000m', '.', 'The', 'specific', 'equation', 'selected', 'ASCE', 'Penman', '-', 'Monteith', 'Standardized', 'form', 'grass', 'referenced', 'ET', 'selected', '.', 'As', 'Table', '3', '.', '4', 'displayed', 'ET', 'ET', 'c', 'represent', 'average', 'grass', 'referenced', 'evapotranspiration', 'three', 'c', 'ase', 'cities', 'actual', 'evapotranspiration', 'calculated', 'ET', 'multiplied', 'crop', 'coefficient', '0.9', '.', 'Additionally', 'evapotranspiration', 'increases', 'east', 'west', 'C', 'ity', 'Lincoln', 'Sidney', '.', 'Table', '3.4', 'Evapotranspiration', 'calculation', 'result', 'City', 'ETo', 'mm/day', 'ETc', 'mm/day', 'Lincoln', '6.88', '6.19', 'Grand', 'Island', '7.19', '6.47', 'Sidney', '7.97', '7.17', '33', 'The', 'meter', 'records', 'provided', 'case', 'cities', 'different', '.', 'For', 'example', 'C', 'ity', 'Lincoln', 'data', 'collected', 'every', 'two', 'months', 'Grand', 'Island', 'Sidney', 'ha', 'monthly', 'cycle', '.', 'In', 'study', 'actual', 'evapotranspiration', 'calculated', 'irrigation', 'season', 'April', '1', 'st', 'Oct', 'ober', '31st', 'non', '-', 'irrigation', 'season', 'evapotranspiration', 'consumes', 'water', 'municipal', 'water', 'supply', 'system', '.', '3', '.', '4', '.', '4', '.2', 'Commercial', 'industrial', 'others', 'CIO', 'consumptive', 'water', 'use', 'calculation', 'In', 'category', 'commercial', 'industrial', 'areas', 'similar', 'end', 'uses', 'residential', '.', 'T', 'water', 'used', 'indoor', 'outdoo', 'r', 'activities', '.', 'Besides', 'commercial', 'industrial', 'users', 'water', 'use', 'activities', 'public', 'schools', 'public', 'offices', 'u', 'ndeveloped', 'land', 'others', 'divergent', 'Dziegielewski', '2000', '.', 'For', 'example', 'schools', 'football', 'fields', 'consume', 'much', 'water', 'water', 'users', 'summer', '.', 'However', 'water', 'users', 'occupy', 'percent', 'large', 'category', '.', 'Therefore', 'water', 'users', 'considered', 'indoor', 'water', 'use', 'outdoor', 'water', 'use', 'commercial', 'industrial', 'users', 'purpose', 'analysis', '.', 'If', 'extra', 'water', 'billed', 'summer', 'water', 'use', 'r', 'conside', 'red', 'indoor', 'water', 'uses', '.', 'The', 'CIO', 'consumptive', 'water', 'use', 'composed', 'indoor', 'consumptive', 'water', 'use', 'outdoor', 'consumptive', 'water', 'use', '.', 'Indoor', 'water', 'use', 'activities', 'diverse', 'CIO', '.', 'A', 'p', 'urified', 'water', 'manufacture', 'may', '90', 'percent', 'consumpt', 'ive', 'water', 'usage', 'restaurant', 'may', '5', '10', 'percent', 'consumptive', 'usage', '.', 'Consumptive', 'water', 'use', 'amount', 'hard', 'estimate', 'due', 'variety', 'users', 'behaviors', '.', 'Therefore', '0.1', 'total', 'indoor', 'water', 'use', '34', 'amount', 'adopted', 'Nebraska', 'indoor', 'consumptive', 'water', 'use', 'amount', 'estimation', 'Shaffer', 'et', 'al.', '2007', '.', 'This', 'percentage', 'median', 'value', 'according', 'summarization', 'ninety', 'studies', 'consumptive', 'water', 'use', 'around', 'Great', 'Lake', 'Basin', 'Fanning', '2007', 'Shaffer', 'et', 'al.', '2008', 'Shaffer', 'et', 'al.', '2007', '.', 'Though', 'climate', 'condition', 'Great', 'Lake', 'Basin', 'Nebraska', 'different', 'indoor', 'water', 'use', 'activity', 'shall', 'similar', '.', 'In', 'conclusion', 'amount', 'indoor', 'consumptive', 'water', 'use', 'ten', 'percent', 'total', 'indoor', 'water', 'use', 'amount', '.', 'There', 'also', 'several', 'industries', 'indoor', 'discharge', 'water', 'use', 'amount', 'recorded', 'NPDES', 'National', 'Pollutant', 'Discharge', 'Elimination', 'System', '.', 'NPDES', 'permit', 'program', 'mana', 'ged', 'US', 'EPA', 'Environment', 'Protect', 'Agency', 'monitor', 'water', 'pollution', 'quality', 'quantity', 'aspects', 'EPA', '2013', '.', 'In', 'category', 'CIO', 'Amount', 'outdoor', 'total', 'water', 'use', 'outdoor', 'consumptive', 'water', 'use', 'calculated', 'way', 'residential', 'outdoor', 'total', 'water', 'use', 'outdoor', 'consumptive', 'water', 'use', '.', 'Indoor', 'water', 'use', 'amount', 'IWU', 'could', 'calculated', 'ba', 'sed', 'winter', 'water', 'usage', 'WWU', 'period', 'Dec', 'ember', '21st', '2009', 'February', '18th', '2010', 'City', 'Lincoln', 'Dec', 'ember', '1st', 'February', '1st', 'City', 'Grand', 'Island', 'City', 'Sidney', '.', 'Outdoor', 'water', 'use', 'amount', 'OWU', 'subtraction', 'indoor', 'water', 'usage', 'IWU', 'total', 'water', 'usage', '.', 'T', 'relationship', 'outdoor', 'water', 'use', 'OWU', 'outdoor', 'irrigation', 'demand', 'OID', 'determines', 'CIO', 'outdoor', 'consumptive', 'water', 'use', 'amount', 'CO', 'CWU', '.', 'Figure', '3.7', 'CIO', 'Outdoor', 'consumptive', 'water', 'use', 'determination', 'process', '35', 'The', 'determination', 'process', 'residential', 'outdoor', 'consumptive', 'water', 'use', '.', 'As', 'Figure', '3', '.', '7', 'displays', 'outdoor', 'water', 'use', 'ount', 'larger', 'outdoor', 'irrigation', 'demand', 'irrigation', 'demand', 'part', 'used', 'plant', 'turfgrass', 'evapotranspiration', 'taining', 'part', 'outdoor', 'water', 'use', 'goes', 'back', 'urban', 'environment', '.', 'It', 'means', 'amount', 'OID', 'equal', 'amount', 'COCWU', '.', 'If', 'outdoor', 'irrigation', 'demand', 'larger', 'outdoor', 'water', 'use', 'indicates', 'outdoor', 'water', 'use', 'consumed', 'plant', 'turfgrass', 'evapotranspiration', 'equals', 'CO', 'CWU', '.', 'The', 'CIO', 'outdoor', 'irrigation', 'demand', 'OID', 'calculated', 'ame', 'way', 'residential', 'outdoor', 'irrigation', 'demand', 'crop', 'coefficient', 'method', '.', 'Therefore', 'CIO', 'consumptive', 'water', 'use', 'amount', 'sum', 'indoor', 'consumptive', 'water', 'use', 'amount', 'outdoor', 'consumptive', 'water', 'use', 'amount', '.', 'Indoor', 'consumptive', 'water', 'use', 'amou', 'nt', 'calculated', 'based', 'empirical', 'coefficient', 'monitored', 'record', '.', 'Calculation', 'process', 'utdoor', 'consumptive', 'water', 'use', 'amount', 'residential', 'consumptive', 'water', 'use', 'similar', 'determined', 'actual', 'outdoor', 'water', 'use', 'theoretical', 'evapotranspiratio', 'n', '.', '3', '.', '4', '.', '4', '.3', 'O', 'pen', 'space', 'consumptive', 'water', 'use', 'calculation', 'In', 'category', 'agricultural', 'water', 'use', 'within', 'urban', 'boundary', 'included', '.', 'However', 'agricultural', 'space', 'often', 'missing', 'water', 'ter', 'data', 'within', 'urban', 'boundary', 'considered', 'landscape', 'turfgrass', 'area', '.', 'Indoor', 'water', 'use', 'indoor', 'consumptive', 'water', 'use', 'considered', 'zero', 'though', 'occasionally', 'management', 'warehouses', 'locate', 'within', 'open', 'space', '.', 'O', 'pen', 'space', 'irrigation', 'water', 'uses', 'include', 'irrigation', 'vari', 'ety', 'landscap', 'e', 'plant', 'species', 'e.g', '.', 'turfgrass', 'flowers', 'trees', 'etc', '.', '.', 'However', 'plant', 'species', 'occur', '36', 'irregularly', 'except', 'turfgrass', '.', 'We', 'assume', 'outdoor', 'water', 'use', 'turfgrass', 'irrigation', 'growing', 'irrigation', 'season', 'outdoor', 'consumptive', 'water', 'u', 'se', 'determined', 'actual', 'outdoor', 'water', 'use', 'theoretically', 'required', 'amount', 'water', 'evapotranspiration', 'landscape', 'turfgrass', '.', 'Most', 'meter', 'records', 'small', 'amounts', 'water', 'consumption', 'winter', 'time', '.', 'Therefore', 'assume', 'year', 'water', 'usage', 'outdoor', 'irrigation', '.', 'T', 'outdoor', 'water', 'usage', 'equals', 'total', 'water', 'usage', '.', 'Since', 'indoor', 'consumptive', 'water', 'use', 'zero', 'open', 'space', 'consumptive', 'water', 'use', 'amount', 'Op', 'CWU', 'equals', 'outdoor', 'consumptive', 'water', 'use', 'amount', '.', 'The', 'relationship', 'outdoor', 'water', 'use', 'OWU', 'outdoor', 'irrigation', 'demand', 'OID', 'determines', 'real', 'open', 'space', 'consumptive', 'water', 'use', 'amount', 'Op', 'CWU', '.', 'As', 'Figure', '3', '.', '8', 'isplays', 'outdoor', 'water', 'use', 'amount', 'larger', 'outdoor', 'irrigation', 'demand', 'irrigation', 'demand', 'part', 'used', 'plant', 'turfgrass', 'evapotranspiration', 'rest', 'part', 'outdoor', 'water', 'use', 'goes', 'back', 'urban', 'environment', '.', 'The', 'open', 'space', 'consumptive', 'water', 'use', 'OpCWU', 'equal', 'irrigation', 'demand', 'OID', '.', 'If', 'outdoor', 'irrigation', 'demand', 'less', 'outdoor', 'water', 'use', 'amount', 'indicates', 'outdoor', 'water', 'use', 'consumed', 'turfgrass', 'evapotranspiration', 'equals', 'OpCWU', '.', 'Figure', '3.8', 'Open', 'space', 'consumptive', 'water', 'use', 'determination', 'process', '37', 'The', 'outdoor', 'irrigation', 'demand', 'OID', 'estimated', 'procedure', 'residential', 'outdoor', 'irrigation', 'demand', 'CIO', 'outdoor', 'irrigation', 'demand', '.', '3', '.', '4', '.', '5', 'Statistical', 'nalys', 'e', 'Bivariate', 'correlation', 'calculated', 'SPSS', 'Statistical', 'Package', 'Social', 'Sciences', 'SPSS', 'Inc.', 'Chicago', 'Illinois', 'investigate', 'relationship', 'independent', 'e.g', '.', 'population', 'housing', 'units', 'dependent', 'water', 'usage', 'consumptive', 'water', 'usage', 'variables', '.', 'This', 'function', 'examine', 'degree', 'relationship', 'two', 'quantitati', 'variables', 'Pearson', 'correlation', 'coefficient', 'Mertler', 'Vannatt', '2002', '.', 'T', 'value', 'Pearson', 'correlation', 'coefficient', 'r', 'varies', '-', '1', '1', 'P', '-', 'value', 'used', 'determine', 'strength', 'relationships', 'higher', 'absolute', 'value', 'r', 'less', '0.05', 'P', '-', 'value', 'stronger', 'relationship', 'exists', 'bet', 'ween', 'two', 'variables', '.', 'Therefore', 'every', 'possible', 'independent', 'dependent', 'variable', 'examined', 'bivariate', 'correlation', 'result', 'used', 'reference', 'linear', 'regression', 'analysis', '.', 'For', 'example', 'Pearson', 'correlation', 'coefficient', '0.9', 'population', 'residential', 'total', 'water', 'usage', 'two', 'parameters', 'variables', 'linear', 'regression', 'models', '.', 'A', 'l', 'inear', 'ordinary', 'least', 'square', 'OLS', 'regression', 'model', 'used', 'esti', 'ate', 'correlation', 'influential', 'factors', 'e.g', '.', 'population', 'total', 'landscape', 'area', 'water', 'use', 'amount', 'total', 'water', 'use', 'consumptive', 'water', 'use', 'amount', 'within', 'blocks', 'SPSS', 'Microsoft', 'E', 'xcel', '.', 'The', 'model', 'provide', 'accurate', 'understanding', 'statistical', 'relationship', 'variables', '.', 'Successful', 'understanding', 'two', 'data', 'sets', 'establish', 'es', 'impetus', 'foundation', 'enhance', 'knowledge', 'drivers', 'small', 'scale', 'water', 'use', 'consumptive', 'water', 'use', 'within', 'urban', 'boundary', '.', '38', '3', '.', '4', '.', '5', '.', '1', 'Residential', 'water', 'use', 'Residential', 'c', 'onsumptive', 'water', 'use', 'calculated', 'outdoor', 'irrigation', 'total', 'landscape', 'area', 'driving', 'force', 'study', '.', 'Therefore', 'hypothesized', 'larger', 'total', 'landscape', 'area', 'contained', 'within', 'block', 'higher', 'consumptive', 'water', 'use', 'analysis', 'unit', '.', 'Total', 'water', 'use', 'much', 'complicated', 'involves', 'human', 'activity', 'customs', 'water', 'saving', 'technologies', 'etc', '.', 'Based', 'literature', 'review', 'data', 'availability', 'study', 'makes', 'co', 'mprehensive', 'investigation', 'f', 'possible', 'influential', 'factor', 'linear', 'regression', 'analysis', 'Table', '3.5', '.', 'The', 'hypothesis', 'population', 'housing', 'units', 'landscape', 'block', 'area', 'positively', 'correlated', 'total', 'water', 'use', 'amount', '.', 'Housing', 'density', 'population', 'density', 'might', 'negatively', 'correlated', 'total', 'water', 'use', 'amount', 'analysis', 'unit', '.', 'In', 'addition', 'block', 'level', 'factors', 'provided', 'census', '2010', 'summary', 'file', '1', 'American', 'Community', 'Survey', '2006', '-', '2010', 'provides', 'social', 'economic', 'indexes', 'block', 'group', 'level', 'listed', 'Table', '3.4', '.', 'The', 'hypothesis', 'increasing', 'indexes', 'total', 'water', 'use', 'amount', 'higher', '.', 'Table', '3.5', 'Influential', 'factors', 'residential', 'water', 'use', 'Dependent', 'variable', 'Independent', 'Block', 'level', 'Independent', 'Block', 'group', 'level', 'Consumptive', 'water', 'use', '2010', '3', 'Total', 'landscape', 'area', '2', 'Water', 'use', '2010', '3', 'Population', 'Housing', 'units', 'Block', 'area', '2', 'Total', 'landscape', 'area', '2', 'Population', 'density', 'person/acre', 'Housing', 'density', 'Units/acre', 'Average', 'income', 'dollars', 'Rooms', 'Values', 'Years', 'structure', 'built', '39', '3', '.', '4', '.', '5', '.', '2', 'Commercial', 'ndustrial', 'others', 'CIO', 'water', 'use', 'CIO', 'consumptive', 'water', 'use', 'calculated', 'based', 'indoor', 'outdoor', 'consumptive', 'water', 'usage', '.', 'Therefore', 'hypothesis', 'total', 'landscape', 'area', 'building', 'area', 'block', 'area', 'positively', 'correlated', 'total', 'water', 'use', 'amount', 'consumptive', 'water', 'use', 'amount', 'based', 'literature', 'available', 'data', '.', 'There', 'block', 'group', 'level', 'analysis', 'CIO', 'category', '.', 'Table', '3', '.', '6', 'CIO', 'nfluential', 'factors', '3', '.', '4', '.', '5', '.', '3', 'O', 'pen', 'space', 'water', 'use', 'Open', 'space', 'consumptive', 'water', 'use', 'calculated', 'based', 'outdoor', 'consumptive', 'water', 'usage', '.', 'Open', 'space', 'outdoor', 'water', 'usage', 'equal', 'total', 'water', 'usage', '.', 'Therefore', 'hypothesis', 'total', 'landscape', 'area', 'block', 'area', 'positively', 'correlated', 'pen', 'space', 'total', 'water', 'use', 'amount', 'consumptive', 'water', 'use', 'amount', 'based', 'literature', 'available', 'data', '.', 'There', 'block', 'group', 'level', 'analysis', 'category', 'Table', '3.7', '.', 'Table', '3', '.', '7', 'Open', 'space', 'influential', 'factors', 'Dependent', 'variable', 'Independent', 'Block', 'level', 'Consumptive', 'water', 'use', '2010', '3', 'Block', 'area', '2', 'Building', 'area', '2', 'City', 'Lincoln', 'Total', 'landscape', 'area', '2', 'Total', 'w', 'ater', 'use', '2010', '3', 'Block', 'area', '2', 'Building', 'area', '2', 'City', 'Lincoln', 'Total', 'landscape', 'area', '2', 'Dependent', 'variable', 'Independent', 'Block', 'level', 'Consumptive', 'water', 'use', '2010', '3', 'Block', 'area', '2', 'Total', 'landscape', 'area', '2', 'Total', 'w', 'ater', 'use', '2010', '3', 'Block', 'area', '2', 'Total', 'landscape', 'area', '2', '40', '3', '.', '4', '.', '6', 'Spatial', 'nalys', 'e', 'With', 'attached', 'total', 'water', 'usage', 'consumptive', 'water', 'usage', 'analysis', 'unit', 'census', 'block', 'next', 'step', 'analyze', 'spatial', 'pattern', 'total', 'water', 'use', 'consumptive', 'water', 'use', 'distribution', 'within', 'sample', 'cities', '.', 'Firstly', 'spatial', 'pattern', 'high', 'low', 'water', 'use', 'blocks', 'total', 'water', 'use', 'consumptive', 'water', 'use', 'visually', 'assessed', '.', 'Then', 'Global', 'Getis', '-', 'Ord', 'Gi*', 'adopted', 'quantify', 'identify', 'scale', 'spatial', 'dependence', 'water', 'use', 'consumptive', 'water', 'use', 'House', '-', 'Peters', '2010', 'calculated', 'ArcGSI', 'global', 'measure', 'spatial', 'autocorrelation', 'possible', 'values', 'ranging', '-', '1', '1', '0', 'means', 'perfect', 'random', 'distributed', \"O'\", 'Sullivan', 'Unwin', '2002', '.', 'Getis', '-', 'Ord', 'Gi*', 'used', 'recognize', 'hot', 'spots', 'cold', 'spots', \"O'Sullivan\", 'Unwin', '2002', '.', '41', 'Chapter', '4', 'Result', '4.1', 'Statistical', 'result', '4', '.1.1', 'Statistics', '4', '.', '1.1.1', 'Total', 'water', 'use', 'consumptive', 'water', 'use', 'three', 'categories', 'Residential', 'water', 'use', 'commonly', 'considered', 'importan', 'consumer', 'within', 'urban', 'boundaries', 'Endter', 'Wada', 'et', 'al.', '2008', '.', 'In', 'study', 'various', 'water', 'users', 'divided', 'three', 'major', 'categories', 'res', 'idential', 'CIO', 'commercial', 'industrial', 'others', 'open', 'space', '.', 'Residential', 'water', 'use', 'consumes', 'water', 'two', 'categories', '.', 'Table', '4', '.1', 'summary', 'water', 'use', 'consumptive', 'water', 'use', 'data', 'meet', 'analysis', 'criteria', 'ans', 'th', 'table', 'reflect', 'actual', 'water', 'use', 'condition', 'case', 'city', '.', 'In', 'C', 'ity', 'Lincoln', 'Grand', 'Island', 'residential', 'water', 'use', 'percentages', 'reach', 'es', '60', 'percent', '.', 'This', 'explains', 'water', 'conservation', 'technology', 'commonly', 'developed', 'residential', 'customers', 'landscape', 'irrigation', 'devices', '.', 'Only', '42', 'percent', 'residential', 'water', 'use', 'occurs', 'Sidney', '.', 'A', '700', 'acres', 'agricultural', 'land', 'within', 'Sidney', 'consumes', 'large', 'amount', 'water', 'used', 'city', '.', 'The', 'percentages', 'open', 'space', 'total', 'water', 'usage', 'C', 'ity', 'Lincoln', 'compared', 'Sidney', 'illustrate', 'population', 'density', 'city', '.', 'Considering', 'geographic', 'location', 'climate', 'condition', 'city', 'east', 'west', 'City', 'Lincoln', 'Grand', 'Island', 'S', 'idney', 'three', 'cities', 'show', 'increasing', 'trend', 'consumptive', 'percentage', 'residential', 'area', '.', 'The', 'consumptive', 'water', 'use', 'percentage', 'residential', 'category', 'changes', '31', 'east', 'City', 'Lincoln', '57', 'west', 'Sidney', '.', 'The', 'higher', 'water', 'demand', 'lead', 'higher', 'consumptive', 'percentage', '.', '42', 'Additionally', 'open', 'space', 'consumptive', 'water', 'use', 'percentages', '100', 'percent', 'three', 'case', 'cities', '.', 'The', 'irrigation', 'management', 'strategies', 'three', 'cities', 'results', 'almost', 'waste', 'turfgrass', 'irrigation', '.', 'Tabl', 'e', '4.1', 'Total', 'water', 'use', 'consumptive', 'water', 'use', 'three', 'categories', 'Category', 'Total', 'water', 'use', 'Total', 'Water', 'use', 'percentage', 'Consumptive', 'water', 'use', 'Consumptive', 'water', 'use/', 'Water', 'Use', 'City', 'Lincoln', 'Residential', '20,662,270', '63', '%', '6,441,145', '31', '%', 'CIO', '11,525,289', '35', '%', '3,088,110', '27', '%', 'Open', 'Space', '681,993', '2', '%', '681,374', '100', '%', 'Overall', '32,869,552', '100', '%', '10,210,629', '31', '%', 'Grand', 'Island', 'Residential', '5,463,336', '65', '%', '1,925,622', '35', '%', 'CIO', '2,416,819', '29', '%', '466,196', '19', '%', 'Open', 'Space', '539,966', '6', '%', '539,754', '100', '%', 'Overall', '8,420,121', '100', '%', '2,931,572', '35', '%', 'Sidney', 'Residential', '424,764', '42', '%', '241,892', '57', '%', 'CIO', '203,886', '20', '%', '53,343', '26', '%', 'Open', 'Space', '377,481', '38', '%', '377,425', '100', '%', 'Overall', '1,006,131', '100', '%', '672,660', '67', '%', 'Note', 'table', 'reflect', 'actual', 'water', 'use', 'condition', 'city', 'summarized', 'data', 'could', 'meet', 'analysis', 'criteria', '.', '4', '.', '1.1.2', 'Per', 'capita', 'otal', 'water', 'use', 'consumptive', 'water', 'use', 'Since', 'residential', 'housing', 'dominant', 'water', 'consumer', 'city', 'study', 'made', 'extra', 'analysis', 'driving', 'ce', 'specific', 'activit', 'ies', 'residential', 'water', 'use', '.', 'daily', 'water', 'need', 'e.g', '.', 'shower', 'faucets', 'drinking', 'etc', '.', 'landscape', 'irrigation', 'two', 'major', 'component', 'water', 'use', 'activities', '.', 'From', 'table', '4', '.2', 'per', 'capita', 'total', 'water', 'usage', 'cons', 'umptive', 'water', 'usage', 'increasing', 'C', 'ity', 'Lincoln', 'Sidney', '.', 'However', 'per', 'capita', 'total', 'landscape', 'area', 'decreasing', '.', 'The', 'analysis', 'study', 'illustrate', 'consumptive', 'water', 'use', 'determined', 'landscape', 'water', 'need', 'climate', 'condi', 'tion', '.', 'The', 'opposite', 'trend', 'per', 'capita', 'consumptive', 'water', 'usage', 'per', 'capita', 'total', 'landscape', 'area', 'prove', 'climate', 'variation', 'cities', '.', 'From', 'east', '43', 'west', 'Nebraska', 'precipitation', 'decreasing', 'humidity', 'tends', 'lower', 'w', 'est', '.', 'Therefore', 'water', 'demand', 'evapotranspiration', 'larger', 'effect', 'area', 'irrigation', '.', 'These', 'facts', 'lead', 'conclusion', 'general', 'climate', 'condition', 'population', 'important', 'determinant', 'factors', 'residential', 'water', 'u', 'se', '.', 'According', 'USGS', 'investigation', 'survey', 'Kenny', '2012', '21', 'sample', 'cities', 'survey', 'shows', 'residential', 'per', 'capita', 'water', 'use', 'ranges', '15,695', '64,605', 'gallons', 'per', 'person', 'per', 'year', 'United', 'States', '.', 'The', 'result', 'similar', 'study', '.', 'Table', '4.2', 'Per', 'capita', 'total', 'water', 'use', 'consumptive', 'water', 'use', 'Cities', 'Per', 'capita', 'Total', 'Water', 'Usage', 'gallons', '/person', 'per', 'year', 'Per', 'capita', 'Consumptive', 'water', 'usage', 'gallons', '/person', 'per', 'year', 'Per', 'capita', 'Total', 'landscape', 'area', '2', '/', 'person', 'City', 'Lincoln', '33', '814', '11', '095', '426', 'Grand', 'Island', '47', '023', '14', '794', '367', 'Sidney', '60', '760', '32', '229', '360', 'Note', 'hese', 'data', 'summarized', 'analyzed', 'data', 'study', 'analyzed', 'population', 'City', 'Lincoln', '172,047', 'Census', 'population', '2010', '258,381', '32', '142', 'Grand', 'Island', 'Census', 'population', '2010', '48,520', '1,861', 'Sidney', 'Census', 'population', '2010', '6,758', '.', '4', '.1.2', 'Linear', 'regression', 'model', '4', '.1.2.1', 'Residential', 'water', 'use', 'As', 'methods', 'section', 'stated', 'bivariate', 'correlation', 'examines', 'degree', 'relationship', 'potential', 'determinant', 'factors', 'dependent', 'variable', 'total', 'water', 'usage', '.', 'Residential', 'consumptive', 'water', 'usage', 'correlates', 'total', 'landscape', 'area', '.', 'If', 'Pears', 'correlation', 'coefficient', 'higher', '0.5', 'usually', 'significant', 'relatio', 'nship', 'two', 'variables', 'http', '//statistics', '-', 'help', '-', '-', 'students.com/', '.', 'The', 'Pearson', 'correlation', 'coefficient', 'otal', 'population', 'total', 'housing', 'units', 'block', 'acres', '44', 'vegetation', 'area', 'total', 'landscape', 'area', '2', 'building', 'footprints', 'C', 'ity', 'Lincoln', 'total', 'water', 'usage', 'higher', '0.5', 'P', '-', 'value', 'less', '0.01', '.', 'The', 'coefficient', 'h', 'ousing', 'unit', 'density', 'population', 'den', 'sity', 'lower', '0.1', '.', 'Therefor', 'e', 'strongest', 'predictors', 'residential', 'total', 'water', 'use', 'total', 'population', 'total', 'housing', 'units', 'block', 'acres', 'vegetation', 'area', 'Appendix', '1', '.', 'Thereafter', 'linear', 'ordinary', 'least', 'square', 'OLS', 'regression', 'model', 'used', 'investigate', 'accurate', 'mathemat', 'ical', 'relationship', 'total', 'population', 'total', 'housing', 'units', 'block', 'acres', 'vegetation', 'area', 'residential', 'total', 'water', 'usage', '.', 'However', 'collinearity', 'diagnostics', 'function', 'shows', 'multicollinearity', 'exists', 'total', 'population', 'total', 'hous', 'ing', 'units', 'block', 'acres', '.', 'Ultimately', 'observed', 'values', '2010', 'annual', 'residential', 'total', 'water', 'usage', 'regressed', 'total', 'population', 'vegetation', 'area', 'determine', 'best', '-', 'fit', 'relationship', '.', 'The', 'empirical', 'relationships', 'follow', 'vari', 'ables', 'statistically', 'significant', '0.01', 'level', 'City', 'Lincoln', 'Residential', 'total', 'water', 'usage', 'cubic', 'meters', 'annual', 'use', 'per', 'census', 'block', '=', '-', '24', '+', '106', '*', 'Population', 'individuals', 'per', 'census', 'block', '+', '0.049', '*', 'Vegetation', 'area', 'square', 'meters', 'per', 'cen', 'sus', 'block', 'R', '2', '=', '0.83', 'P', '<', '0.01', 'N=2720', 'census', 'blocks', 'Grand', 'Island', 'Residential', 'total', 'water', 'usage', '=', '-', '219', '+', '150', '*', 'Population', '+', '0.081', '*', 'Vegetation', 'area', 'R', '2', '=', '0.83', 'P', '<', '0.01', 'N=1253', 'census', 'blocks', 'Sidney', '45', 'Residential', 'total', 'water', 'usage', '=', '-', '1309', '+', '172', '*', 'Population', '+', '0.46', '*', 'Vegetation', 'area', 'R', '2', '=', '0.83', 'P', '<', '0.01', 'N=102', 'census', 'blocks', 'Combination', 'three', 'cities', 'Residential', 'total', 'water', 'usage', '=', '271', '+', '106', '*', 'Population', '+', '0', '.', '057', '*', 'Vegetation', 'area', 'R', '2', '=', '0.8', '1', 'P', '<', '0.01', 'N=', '4075', 'census', 'blocks', 'These', 'linear', 'regression', 'models', 'illustrate', 'per', 'capita', 'water', 'use', 'amount', 'vegetation', 'area', 'water', 'use', 'increasing', 'east', 'west', 'City', 'Lincoln', 'Sidney', '.', 'It', 'explained', 'climate', 'variation', 'population', 'density', 'difference', 'among', '.', 'From', 'future', 'application', 'perspective', 'population', 'data', 'accurate', 'reliable', 'conducted', 'every', 'ten', 'year', 'US', 'census', '.', 'Vegetation', 'area', 'developed', 'based', 'remote', 'sensing', 'image', 'using', 'NDVI', 'index', '.', 'The', 'independent', 'variables', 'accurate', 'achievable', 'wi', 'thout', 'heavy', 'labor', 'input', 'requirement', '.', 'First', 'three', 'models', 'could', 'potentially', 'used', 'predict', 'case', 'cities', 'future', 'total', 'water', 'demand', 'applied', 'surrounding', 'climate', 'similar', 'region', 'water', 'resources', 'management', '.', 'The', 'last', 'combined', 'model', 'could', 'potentia', 'lly', 'used', 'estimate', 'cities', 'residential', 'water', 'usage', 'Nebraska', '.', 'The', 'Pearson', 'correlation', 'coefficients', 'residential', 'consumptive', 'water', 'usage', 'total', 'landscape', 'area', 'lower', '0.7', 'City', 'Lincoln', 'Grand', 'Island', 'though', 'significa', 'ntly', 'correlated', '.', 'Ultim', 'ately', 'significant', 'linear', 'relationship', 'found', 'residential', 'consumptive', 'water', 'usage', 'total', 'landscape', 'area', 'two', 'case', 'cities', '.', 'However', 'Pearson', 'correlation', 'coefficient', '0.85', 'P', '-', 'value', 'less', '46', '0.01', 'Sidney', '.', 'Therefore', 'regression', 'model', 'identified', 'Sidney', '.', 'The', 'empirical', 'relationship', 'follow', 'Residential', 'consumptive', 'water', 'usage', 'cubic', 'meters', 'annual', 'use', 'per', 'census', 'block', '=', '-', '2', '59.632', '+', '0.522*', 'Vegetation', 'area', 'square', 'meters', 'per', 'census', 'block', 'R', '2', '=', '0', '.', '72', 'P', '<', '0.01', 'N=102', 'census', 'blocks', 'The', 'reasons', 'relationship', 'consistent', 'among', 'case', 'cities', 'could', 'accuracy', 'NDVI', 'index', 'threshold', 'variation', 'irrigation', 'management', 'landscape', 'pecies', '.', 'Since', 'NDVI', 'threshold', 'study', 'tell', 'difference', 'vegetation', 'area', 'others', 'tree', 'opy', 'make', 'delineation', 'turfgrass', 'difficult', '.', 'Some', 'barren', 'ground', 'roof', 'might', 'considered', 'vegetation', 'area', 'sin', 'ce', 'tree', 'canopy', 'top', '.', 'Also', 'trees', 'affect', 'evapotranspiration', 'calculation', 'due', 'shade', 'effect', 'turfgrass', 'groundwater', 'abstraction', 'root', '.', 'T', 'study', 'makes', 'general', 'estimation', 'vegetation', 'area', 'due', 'limit', 'bot', 'h', 'time', 'labor', '.', 'The', 'various', 'irrigation', 'habitat', 'devices', 'different', 'residents', 'determine', 'efficiency', 'irrigation', 'garden', 'plant', 'vegetable', 'flowers', 'private', 'pools', 'interfere', 'relationship', 'consumptive', 'water', 'usage', 'total', 'landscape', 'area', '.', '4', '.', '1', '.', '2', '.2', 'Commercial', 'industrial', 'others', 'CIO', 'water', 'use', 'Both', 'CIO', 'total', 'water', 'use', 'consumptive', 'water', 'use', 'failed', 'build', 'relationship', 'potential', 'independent', 'variables', 'block', 'acres', 'total', 'landscape', 'area', 'Appendix', '2', '.', 'Scholars', 'explored', 'commercial', 'industrial', 'end', 'uses', 'water', 'based', 'sample', 'studies', 'found', 'statistical', 'relationships', 'influential', 'factors', 'e.g', '.', '47', 'number', 'employees', 'water', 'use', 'amount', 'Dziegielewski', '2000', 'EPA', '2009', 'Kim', 'McCuen', '1979', 'Mercer', 'Morgan', '1974', 'Morales', '2011', 'Morales', '2009', '.', 'However', 'existing', 'studies', 'mainly', 'sample', 'studies', 'survey', 'historical', 'water', 'use', '.', 'Confidentiality', 'always', 'barrier', 'category', 'studies', '.', 'Though', 'data', 'street', 'level', 'available', 'US', 'census', 'Department', 'Labor', 'Statistics', 'procedure', 'analyze', 'data', 'time', 'consuming', 'labor', 'intensive', '.', 'Therefore', 'based', 'available', 'data', 'online', 'statistical', 'relationship', 'found', 'study', '.', 'The', 'commercial', 'industrial', 'water', 'use', 'relatively', 'consistent', 'time', '.', 'The', 'historical', 'data', 'water', 'use', 'category', 'based', 'land', 'use', 'provide', 'foundation', 'future', 'analysis', 'studies', '.', '4', '.', '1.2', '.', '3', 'Open', 'space', 'water', 'use', 'Ac', 'cording', 'stated', 'result', 'open', 'space', 'total', 'water', 'usage', 'equal', 'consumptive', 'water', 'usage', '.', 'Independent', 'variables', 'block', 'area', 'total', 'landscape', 'area', '.', 'The', 'Pearson', 'correlation', 'coefficients', 'show', 'relationship', 'independent', 'variables', '.', 'Howeve', 'r', 'collinearity', 'diagnostics', 'function', 'shows', 'multicollinearity', 'block', 'area', 'total', 'landscape', 'area', '.', 'Therefore', 'based', 'consumptive', 'water', 'use', 'calculation', 'method', 'designed', 'study', 'linear', 'regression', 'analysis', 'conducted', 'pen', 'space', 'total', 'water', 'usage', 'consumptive', 'water', 'usage', 'total', 'landscape', 'area', '.', 'The', 'following', 'equations', 'variables', 'statistically', 'significant', '0.01', 'level', 'City', 'Lincoln', 'Open', 'space', 'total', 'water', 'usage/consumptive', 'water', 'usage', 'cubic', 'meters', 'annual', 'use', 'per', 'census', 'block', '48', '=', '-', '7880.220', '+', '0.207', '*', 'Vegetation', 'area', 'square', 'meters', 'per', 'census', 'block', 'R', '2', '=', '0', '.', '79', 'P', '<', '0.01', 'N=49', 'census', 'blocks', 'Grand', 'Island', 'Open', 'space', 'total', 'water', 'usage/consumptive', 'water', 'usage', '=', '1921.712', '+', '0', '.084', '*', 'Vegetation', 'area', 'R', '2', '=', '0', '.', '61', 'P', '<', '0.01', 'N=39', 'census', 'blocks', 'Sidney', 'Open', 'space', 'total', 'water', 'usage/consumptive', 'water', 'usage', '=', '1240.438', '+', '0.103', '*', 'Vegetation', 'area', 'R', '2', '=', '0', '.', '57', 'P', '<', '0.01', 'N=19', 'census', 'blocks', 'Combination', 'three', 'cities', 'Open', 'space', 'total', 'water', 'usage/consumptive', 'water', 'usage', '=', '-', '3623', '+', '0.141', '*', 'Vegetation', 'area', 'R', '2', '=', '0', '.', '63', 'P', '<', '0.01', 'N=1', '07', 'census', 'blocks', '4', '.', '2', 'Spatial', 'analysis', 'result', '4', '.', '2', '.1', 'City', 'L', 'ncoln', 'cluster', 'dispersion', 'Chang', '2010', '.', 'A', 'positive', 'index', 'value', 'illustrates', 'clustering', 'trend', 'negative', 'index', 'value', 'illustrates', 'dispers', 'ion', 'ArcGIS', 'resource', 'help', '.', 'The', 'z', '-', 'score', 'p', '-', 'value', 'explains', 'statistical', 'significance', 'similar', 'regression', 'models', '.', 'As', 'Figure', '4.1', 'displays', 'z', '-', 'score', '45.69', 'P', '-', 'value', '49', 'The', 'z', '-', 'score', 'scale', 'corresponding', 'P', '-', 'value', 'scale', 'indicate', 'clustering', 'dispersing', 'condition', '.', 'CIO', 'consumptive', 'water', 'use', 'residential', 'total', 'water', 'use', 'consumptive', 'water', 'use', 'clustered', '.', 'Table', '4.3', 'In', 'order', 'investigate', 'exactly', 'clusters', 'occurs', 'case', 'city', '.', 'Getis', '-', 'Ord', 'Gi*', 'function', 'calculated', 'ArcGIS', 'Figure', '4.3', '4.5', '4.7', '.', 'The', 'Z', '-', 'score', 'cou', 'ld', 'indicate', 'hot', 'spots', 'cold', 'spots', 'distributed', 'within', 'sample', 'cities', '.', 'Hot', 'spots', 'red', 'clusters', 'high', 'water', 'usage', 'blocks', '.', 'Cold', 'spots', 'blue', 'clusters', 'low', 'water', 'usage', 'blocks', '.', 'In', 'City', 'Lincoln', 'suburban', 'residential', 'area', 'near', 'city', 'boundary', 'uses', 'water', 'surrounding', 'downtown', 'residential', 'area', 'Figure', '4.2', '.', 'The', 'blocks', 'higher', 'total', 'water', 'use', 'cluster', 'southern', 'suburban', 'areas', 'Figure', '4.3', '.', 'The', 'blocks', 'higher', 'residential', 'consumptive', 'water', 'use', 'tend', 'closer', 'city', 'boundary', 'Figure', '4.4', '.', 'This', 'illustrated', 'increasing', 'total', 'landscape', 'area', 'core', 'edge', 'city', '.', 'The', 'blocks', 'lower', 'consumptive', 'water', 'use', 'cluster', 'south', 'downtown', 'northern', 'suburban', 'areas', 'higher', 'consumptive', 'water', 'use', 'blocks', 'cluster', 'southern', 'suburban', 'areas', 'Figure', '4.5', '.', 'CIO', 'water', 'use', 'blocks', 'distributed', 'randomly', 'city', '.', 'However', 'higher', 'CIO', 'consumptive', 'water', 'use', 'blocks', 'cluster', 'north', 'city', 'south', '9', 'th', 'street', 'Figure', '4.6', '4.7', '4.8', '.', 'Open', 'space', 'area', 'analyzed', 'study', 'apparently', 'less', 'amount', 'present', 'city', '.', 'This', 'lack', 'meter', 'data', 'blocks', 'Figure', '4.9', '4.10', '.', '50', 'Figure', 'x', 'Table', '4.3', 'Glo', 'City', 'Lincoln', 'Total', 'Water', 'Usage', 'Consumptive', 'Water', 'Usage', 'Global', 'Moran', \"'s\", 'I', 'Index', 'Z', '-', 'score', 'P', '-', 'value', 'Explanat', 'ion', 'Global', 'Moran', \"'s\", 'I', 'Index', 'Z', '-', 'score', 'P', '-', 'value', 'Explanat', 'ion', 'Residentia', 'l', '0.133', '45.68', '7', '<', '0.0', '1', 'Cluster', '0.194', '66.76', '0', '<', '0.0', '1', 'Cluster', 'CIO', '-', '0.007', '-', '0.525', '0.600', 'Random', '0.028', '2.461', '0.014', 'Cluster', 'Open', 'Space', '0.011', '0.454', '0.650', 'Random', '0.011', '0.452', '0.652', 'Random', '51', 'Figure', '4.2', 'City', 'Lincoln', 'r', 'esidential', 'total', 'water', 'use', 'distribution', 'census', 'block', '52', 'Std.Dev', '.', 'stands', 'standard', 'deviation', 'Figure', '4.3', 'City', 'Lincoln', 'r', 'esidential', 'total', 'water', 'use', 'cluster', 'distribution', 'census', 'block', '53', 'Figure', '4', '.', '4', 'City', 'Lincoln', 'r', 'esidential', 'consumptive', 'water', 'use', 'distributio', 'n', 'census', 'block', '54', 'Std.Dev', '.', 'stands', 'standard', 'deviation', 'Figure', '4.5', 'City', 'Lincoln', 'r', 'esidential', 'consumptive', 'water', 'use', 'cluster', 'distribution', 'census', 'block', '55', 'Figure', '4.6', 'City', 'Lincoln', 'CIO', 'total', 'water', 'use', 'distributio', 'n', 'census', 'block', '56', 'Figure', '4.7', 'City', 'Lincoln', 'CIO', 'consumptive', 'water', 'use', 'distribution', 'Figure', '4', '.', '7', 'City', 'Lincoln', 'CIO', 'consumptive', 'water', 'use', 'distribution', 'census', 'block', '57', 'Std.Dev', '.', 'stands', 'standard', 'deviation', 'Figure', '4', '.', '8', 'City', 'Lincoln', 'CIO', 'consumptive', 'water', 'use', 'cluster', 'distribution', 'census', 'block', '58', 'Figure', '4', '.', '9', 'City', 'Lincoln', 'open', 'space', 'total', 'water', 'use', 'istribution', 'census', 'block', '59', 'Figure', '4', '.', '10', 'City', 'Lincoln', 'open', 'space', 'consumptive', 'water', 'use', 'distribution', 'census', 'block', '60', '4', '.', '2', '.2', 'Grand', 'Island', 'Based', 'interpretation', 'Figure', '4.1', 'Grand', 'Island', 'residential', 'total', 'water', 'use', 'consumptive', 'water', 'use', 'ar', 'e', 'overall', 'clustered', 'within', 'Grand', 'Island', 'Table', '4.4', '.', 'In', 'order', 'investigate', 'exactly', 'cluster', 'occurs', 'Grand', 'Island', '.', 'The', 'Getis', '-', 'Ord', 'Gi*', 'function', 'calcu', 'lated', 'ArcGIS', 'Figure', '4.12', '4.14', '.', 'Table', '4.4', 'I', 'index', 'Grand', 'Island', 'Grand', 'Island', 'Total', 'Water', 'Usage', 'Consumptive', 'Water', 'Usage', 'Category', 'Global', 'Moran', \"'s\", 'I', 'Index', 'Z', '-', 'score', 'P', '-', 'value', 'Explanati', 'Global', 'Moran', \"'s\", 'I', 'Index', 'Z', '-', 'score', 'P', '-', 'value', 'Explanat', 'ion', 'Residenti', 'al', '0.139', '3.112', '<', '0.01', 'Cluster', '0.173', '3.903', '<', '0.01', 'Cluster', 'CIO', '0.014', '0.318', '0.751', 'Random', '0.039', '0.419', '0.675', 'Random', 'Open', 'Space', '0.145', '0.707', '0.480', 'Random', '0.144', '0.706', '0.480', 'Random', 'In', 'Grand', 'Island', 'west', 'ern', 'south', 'ern', 'suburban', 'residential', 'area', 'near', 'city', 'boundary', 'use', 'water', 'surrounding', 'downtown', 'residential', 'area', 'Figure', '4', '.', '11', '.', 'T', 'blocks', 'higher', 'total', 'water', 'use', 'within', 'areas', 'well', 'Figure', '4.12', '.', 'The', 'blocks', 'higher', 'residential', 'consumptive', 'water', 'use', 'tend', 'close', 'r', 'city', 'boundary', 'Figure', '4.13', '.', 'The', 'general', 'distribution', 'cluster', 'condition', 'consumptive', 'water', 'use', 'similar', 'residential', 'total', 'water', 'use', 'Figure', '4.13', '4', '.', '14', '.', 'CIO', 'open', 'space', 'water', 'use', 'blocks', 'istribute', 'randomly', 'city', 'Figure', '4', '.', '15', '4', '.', '16', '4.17', '4.18', '.', '61', 'Figure', '4.11', 'Grand', 'Island', 'residential', 'total', 'water', 'use', 'distribution', 'census', 'block', '62', 'Figure', '4.1', '2', 'Grand', 'Island', 'residential', 'total', 'water', 'use', 'cluster', 'distribution', 'census', 'block', '63', 'Figure', '4', '.', '1', '3', 'Grand', 'Island', 'residential', 'consumptive', 'water', 'use', 'distribution', 'census', 'block', '64', 'Figure', '4.1', '4', 'Grand', 'Island', 'residential', 'consumptive', 'water', 'use', 'cluster', 'distribution', 'census', 'block', '65', 'Figure', '4.1', '5', 'Grand', 'Island', 'CIO', 'total', 'water', 'use', 'distribution', 'census', 'block', '66', 'Figure', '4.1', '6', 'Grand', 'Island', 'CIO', 'consumptive', 'water', 'use', 'distribution', 'census', 'block', '67', 'Figure', '4.17', 'Grand', 'Island', 'open', 'space', 'total', 'water', 'use', 'distribution', 'census', 'block', '68', 'Figure', '4.1', '8', 'Grand', 'Island', 'open', 'space', 'consumptive', 'water', 'use', 'distribution', 'census', 'block', '69', '4', '.', '2', '.3', 'Sidney', 'Based', 'interpretation', 'Figure', '4.1', 'residential', 'total', 'water', 'use', 'consumptive', 'water', 'use', 'ar', 'e', 'clustered', 'within', 'Sidney', 'Table', '4.5', '.', 'However', 'cluster', 'residential', 'blocks', 'obvious', 'city', 'f', 'Lincoln', 'Grand', 'Island', '.', 'Therefore', 'Getis', '-', 'Ord', 'Gi*', 'calculation', 'Sidney', '.', 'In', 'Sidney', 'outbound', 'residential', 'area', 'use', 'water', 'surrounding', 'downtown', 'sidential', 'area', 'Figure', '4', '.', '19', '.', 'The', 'blocks', 'higher', 'residential', 'consumptive', 'water', 'use', 'tend', 'closer', 'outbound', 'whole', 'residential', 'area', 'Figure', '4', '.', '20', '.', 'This', 'illustrated', 'increasing', 'total', 'landscape', 'area', 'core', 'edge', 'within', 'city', '.', 'CIO', 'total', 'water', 'use', 'blocks', 'distribute', 'spatially', 'dispersed', 'open', 'space', 'water', 'use', 'blocks', 'distribute', 'randomly', 'city', 'Figure', '4.21', '4.22', '4.23', '4.2', '4', '.', 'The', 'huge', 'block', 'open', 'space', 'category', 'agricultural', 'use', 'within', 'city', 'boundary', '.', 'Sidney', 'Total', 'Water', 'Usage', 'Consumptive', 'Water', 'Usage', 'Category', 'Global', 'Moran', \"'s\", 'I', 'Index', 'Z', '-', 'score', 'P', '-', 'value', 'Explanati', 'Global', 'Moran', \"'s\", 'I', 'Index', 'Z', '-', 'score', 'P', '-', 'value', 'Explanat', 'ion', 'Resident', 'ial', '0.116', '5.202', '<', '0.01', 'Cluster', '0.122', '5.183', '<', '0.01', 'Cluster', 'CIO', '-', '0.111', '-', '2.325', '0.020', 'Disperse', '0.063', '-', '0.687', '0.492', 'Random', 'Open', 'Space', '0.269', '1.678', '0.093', 'Random', '-', '0.063', '-', '0.687', '0.492', 'Random', '70', 'Figure', '4.19', 'Sidney', 'residential', 'total', 'water', 'use', 'distribution', 'census', 'block', '71', 'Figure', '4.20', 'Sidney', 'residential', 'consumptive', 'water', 'use', 'distribution', 'census', 'block', '72', 'Figure', '4.21', 'Sidney', 'CIO', 'total', 'water', 'use', 'distribution', 'census', 'block', '73', 'Figure', '4', '.', '22', 'Sidney', 'CIO', 'consumptive', 'water', 'use', 'distribution', 'census', 'block', '74', 'Figure', '4', '.', '23', 'Sidney', 'open', 'space', 'total', 'water', 'use', 'distribution', 'census', 'block', '75', 'Figure', '4.24', 'Sidney', 'open', 'space', 'consumptive', 'water', 'use', 'distribution', 'census', 'block', '76', 'Chapter', '5', 'Conclusions', 'Discussion', '5.1', 'Key', 'finding', 'discussion', '5.1.1', 'Consumptive', 'water', 'use', 'calculation', 'T', 'study', 'develops', 'novel', 'method', 'ology', 'estimate', 'amount', 'consumptive', 'water', 'use', 'three', 'Nebraska', 'cities', '.', 'B', 'ased', 'end', 'uses', 'water', 'Mayer', '1999', 'applied', 'three', 'major', 'water', 'use', 'categories', 'within', 'urban', 'boundaries', 'residential', 'CIO', 'commercial', 'industrial', 'others', 'open', 'space', '.', 'The', 'first', 'urban', 'consumptive', 'water', 'use', 'calculation', 'method', 'Nebraska', 'delivered', 'new', 'parameter', 'nalyzing', 'urban', 'water', 'suppl', 'ies', 'use', 'case', 'cities', 'provided', '.', '5.1.2', 'Statistical', 'analyses', 'T', 'statistical', 'analys', 'e', 'total', 'water', 'use', 'consumptive', 'water', 'use', 'driving', 'force', 'conducted', 'linear', 'regression', 'models', '.', 'Signific', 'ant', 'results', 'found', 'two', 'categories', 'water', 'use', 'residential', 'open', 'space', '.', 'Conversely', 'linear', 'connection', 'consumptive', 'water', 'use', 'within', 'categories', 'residential', 'CIO', 'poor', 'study', '.', 'T', 'residential', 'total', 'water', 'usage', 'predominantly', 'explained', 'p', 'opulation', 'total', 'landscape', 'area', 'R', '2', '=', '0.83', 'P', '<', '0.01', '.', 'With', 'help', 'regression', 'models', 'population', 'total', 'landscape', 'area', 'used', 'predict', 'consumptive', 'water', 'usage', '.', 'In', 'addition', 'housing', 'units', 'building', 'footprints', 'C', 'Lincoln', 'block', 'area', 'correlate', 'well', 'total', 'water', 'usage', '.', 'In', 'study', 'domain', 'effect', 'total', 'landscape', 'area', 'total', 'water', 'usage', 'increased', 'generally', 'east', 'west', 'Nebra', 'ka', '.', 'Considering', 'major', 'herbaceous', 'plant', 'yard', 'cool', 'season', 'turfgrass', 'climate', 'condition', 'could', '77', 'dominant', 'determin', 'ants', 'amount', 'water', 'need', 'ed', 'outdoor', 'irrigation', 'total', 'water', 'use', 'summer', '.', 'The', 'residential', 'total', 'water', 'usage', 'predominantly', 'explained', 'population', 'total', 'landscape', 'area', 'two', 'correlated', 'coefficients', 'equal', '0.83', '.', 'With', 'help', 'regression', 'models', 'population', 'total', 'landscape', 'area', 'used', 'predict', 'consumptive', 'water', 'usage', '.', 'In', 'addition', 'housing', 'units', 'building', 'footprints', 'city', 'Lincoln', 'block', 'area', 'correlate', 'well', 'total', 'water', 'usage', '.', 'In', 'study', 'domain', 'effect', 'total', 'landscape', 'area', 'total', 'water', 'usage', 'increases', 'generally', 'east', 'west', 'Nebraska', '.', 'Considering', 'major', 'herbaceous', 'plant', 'ard', 'cool', 'season', 'turfgrass', 'climate', 'condition', 'could', 'dominant', 'determinant', 'outdoor', 'irrigation', 'total', 'water', 'use', 'summer', '.', 'The', 'total', 'water', 'use', 'open', 'space', 'equals', 'consumptive', 'water', 'use', 'linearly', 'correlated', 'otal', 'landscape', 'area', '.', 'The', 'correlated', 'coefficients', 'R', '2', 'vary', 'three', 'case', 'cities', '.', 'One', 'possible', 'reasons', 'sample', 'size', 'blocks', 'differs', '19', 'Sidney', '39', 'Grand', 'Island', '49', 'Lincoln', '.', 'Since', 'consumptive', 'water', 'use', 'calculated', 'b', 'ased', 'total', 'landscape', 'area', 'unexpected', 'weak', 'connection', 'among', 'showed', '.', 'Two', 'potential', 'reasons', 'might', 'interfere', 'regression', 'analys', 'e', 'result', '.', 'First', 'uncertainties', 'outdoor', 'water', 'usage', 'significant', 'effects', 'consumptive', 'water', 'use', 'determination', '.', 'Individual', 'irrigation', 'habit', 'various', 'water', 'activities', 'consumption', 'consistent', 'indoor', 'water', 'use', 'throughout', 'year', 'make', 'difficult', 'accurately', 'calculate', 'actual', 'amount', 'outdoor', 'water', 'usage', '.', 'For', 'insta', 'nce', 'water', 'usage', 'shower', 'washing', 'machine', 'likely', 'differ', 'summer', 'winter', 'leads', 'larger', 'estimation', 'outdoor', '78', 'water', 'usage', 'consumptive', 'water', 'us', 'age', '.', 'Second', 'delineation', 'total', 'landscape', 'area', 'vegetatio', 'n', 'cover', 'including', 'trees', 'turfgrasses', 'consumptive', 'water', 'use', 'calculation', 'based', 'turfgrass', 'evapotranspiration', '.', 'The', 'insufficient', 'evapotranspiration', 'calculation', 'plants', 'trees', 'scrubland', 'etc', '.', 'could', 'weaken', 'connection', 'bet', 'ween', 'total', 'landscape', 'area', 'amount', 'consumptive', 'water', 'use', '.', '5.1.3', 'Spatial', 'analyses', 'T', 'spatial', 'analyses', 'result', 'indicate', 'clustering', 'higher', 'water', 'consumer', 'exist', 'residential', 'area', 'cities', '.', 'The', 'suburban', 'residential', 'area', 'higher', 'total', 'consumptive', 'water', 'use', 'amount', 'central', 'p', 'art', 'city', '.', 'T', 'wo', 'potential', 'main', 'reasons', 'proposed', 'f', 'irst', 'reason', 'suburban', 'area', 'possess', 'yard', 'area', 'turfgrass', 'central', 'urba', 'n', 'area', 'resulting', 'increasing', 'amount', 'total', 'water', 'demand', 'consumptive', 'use', '.', 'The', 'second', 'reason', 'central', 'part', 'city', 'likely', 'mature', 'tree', 'ca', 'nopy', 'suburban', 'communities', 'therefore', 'reducing', 'water', 'need', 'turfgra', 'ss', 'evapotranspiration', 'Chang', '2010', '.', 'CIO', 'commercial', 'industrial', 'others', 'open', 'space', 'water', 'use', 'display', 'clear', 'cluster', 'disperse', 'pattern', 'ly', 'caused', 'ir', 'limited', 'number', 'within', 'cities', '.', 'This', 'study', 'provide', 'th', 'e', 'first', 'exploration', 'calculating', 'urban', 'consumptive', 'water', 'use', 'analyzing', 'urban', 'water', 'use', 'statistically', 'spatially', '.', 'With', 'pace', 'growing', 'urban', 'po', 'pulation', 'physical', 'urban', 'boundary', 'results', 'offer', 'better', 'understanding', 'urban', 'water', 'use', 'Nebraska', 'potentially', 'fundame', 'ntal', 'study', 'future', 'urban', 'water', 'resource', 'management', '.', 'The', 'relationship', 'among', 'residential', 'total', 'water', 'use', 'population', 'total', 'landscape', 'area', 'similar', 'established', 'previous', 'stu', 'dies', 'states', '.', 'Besides', 'population', 'lager', 'effect', 'res', 'idential', 'total', 'water', 'usage', '79', 'total', 'landscape', 'area', 'increasing', 'trend', 'total', 'landscape', 'area', 'core', 'part', 'city', 'suburban', 'accompany', 'higher', 'total', 'consumptive', 'water', 'usage', '.', 'Therefore', 'w', 'ater', 'resource', 'land', 'use', 'planners', 'sho', 'uld', 'consider', 'water', 'conservation', 'two', 'ways', '.', 'First', 'improve', 'th', 'e', 'indoor', 'water', 'use', 'efficiency', '.', 'Remodeled', 'redesigned', 'water', 'saving', 'utilities', 'could', 'account', 'around', '50', '-', '70', 'percent', 'total', 'residential', 'water', 'use', '.', 'The', 'suburban', 'water', 'supply', 'need', 'stressed', 'future', 'especially', 'summer', 'Chang', '2010', '.', 'New', 'development', 'higher', 'building', 'density', 'less', 'total', 'landscape', 'area', 'recommended', '.', 'Planting', 'native', 'vegetation', 'another', 'way', 'increase', 'resilience', 'drought', 'condition', 'reduce', 'outdoor', 'water', 'cons', 'umption', '.', '5.2', 'Limitation', 'future', 'studies', 'There', 'five', 'limitations', 'study', '.', 'Firstly', 'ignoring', 'variation', 'water', 'use', 'activities', 'thesis', 'ssum', 'e', 'indoor', 'water', 'use', 'consistent', 'four', 'seasons', '.', 'Secondly', 'l', 'eak', 'age', 'water', 'supply', 'discharge', 'pr', 'ocess', 'disregared', 'analysis', 'process', '.', 'Thirdly', 'rrigation', 'season', 'assumed', 'April', '1st', 'October', '31', 'st', 'actual', 'irrigation', 'period', 'may', 'vary', 'depends', 'irrigation', 'awareness', 'habit', '.', 'Fourthly', 'l', 'ack', 'separation', 'turfgrass', 'trees', 'land', 'cover', 'classification', 'evapotranspiration', 'calculation', 'study', '.', 'Fifthly', 'mixed', 'use', 'area', 'single', 'block', 'reclassified', 'three', 'major', 'land', 'use', 'categories', '.', 'T', 'hey', 'considered', 'single', 'use', 'based', 'dom', 'inant', 'land', 'use', 'type', 'according', 'municipal', 'zoning', 'code', 'land', 'use', 'classification', 'standard', '.', 'Lastly', 'l', 'ack', 'regression', 'models', 'category', 'commercial', 'industrial', 'others', 'study', '.', '80', 'Future', 'research', 'done', 'achieve', 'elaborate', 'calculation', 'method', 'urban', 'consumptive', 'water', 'use', 'outdoor', 'water', 'use', 'perspective', '.', 'For', 'instance', 'study', 'large', 'samples', 'performed', 'including', 'measuring', 'actual', 'outdoor', 'water', 'use', 'monitor', 'ing', 'data', 'leaks', 'water', 'u', 'se', 'process', 'record', 'ing', 'actual', 'outdoor', 'irrigation', 'period', '.', 'In', 'additi', 'sample', 'study', 'detailed', 'delineation', 'land', 'cover', 'evapotranspiration', 'calculation', 'could', 'utilized', 'future', 'study', 'separation', 'trees', 'turfgrass', '.', 'P', 'revious', 'literatures', 'ha', 'found', 'regression', 'relationship', 'esixsting', 'CIO', 'commercial', 'industrial', 'others', 'water', 'use', 'specific', 'classification', 'number', 'employees', 'scale', 'tax', 'information', 'e.g', '.', 'The', 'North', 'American', 'Industry', 'Classification', 'System', '.', 'Similar', 'relationship', 'might', 'exist', 'Nebraska', 'well', '.', 'Moreover', 'study', 'applied', 'extended', 'larger', 'urban', 'area', 'Nebraska', 'long', 'data', 'available', '.', 'The', 'applicability', 'generalizability', 'findings', '-', 'examined', 'hroughout', 'state', 'US', 'cities', '.', 'Additionally', 'sophisticated', 'models', 'may', 'developed', 'utilize', 'water', 'record', 'multiple', 'years', '.', 'A', 'comparison', 'relatively', 'arid', 'years', 'humid', 'years', 'necessary', 'long', '-', 'term', 'climate', 'data', 'incor', 'porated', 'water', 'use', 'study', 'integrated', 'water', 'management', '.', '81', 'References', 'Allen', 'R.G.', 'Pereira', 'L.S.', 'Raes', 'D.', 'Smith', 'M.', '1998', 'Crop', 'evapotranspiration', '-', 'Guidelines', 'computing', 'crop', 'water', 'requirements', '-', 'FAO', 'Irrigation', 'drainage', 'paper', '56', 'FAO', 'Rome', 'v.', '300', 'p.', '6541', '.', 'Balling', 'R.C.', 'Gober', 'P.', '2007', 'Climate', 'variability', 'residential', 'water', 'use', 'city', 'Phoenix', 'Arizona', 'Journal', 'Applied', 'Meteorology', 'Climatology', 'v.', '46', 'p.', '1130', '-', '1137', '.', 'Balling', 'R.C.', 'Gober', 'P.', 'Jones', 'N.', '2008', 'Sensitivity', 'residential', 'water', 'consumption', 'variations', 'climate', 'An', 'intraurban', 'analysis', 'Phoenix', 'Arizona', 'Water', 'Resources', 'Research', 'v.', '44', 'p.', 'n/a', '-', 'n/a', '.', 'Bennett', 'O.L.', 'Doss', 'B.D.', '1960', 'Effect', 'soil', 'moisture', 'level', 'root', 'distribution', 'f', 'cool', '-', 'season', 'forage', 'species', 'Agron', '.', 'J.', 'v.', '52', 'p.', '204', '-', '207', '.', 'Bougadis', 'J.', 'Adamowski', 'K.', 'Diduch', 'R.', '2005', 'Short', '-', 'term', 'municipal', 'water', 'demand', 'forecasting', 'Hydrological', 'Processes', 'v.', '19', 'p.', '137', '-', '148', '.', 'Brown', 'P.', 'Kopec', 'D.', '2000', 'Converting', 'reference', 'ev', 'apotranspiration', 'turf', 'water', 'use', 'College', 'Agriculture', 'Life', 'Sciences', 'University', 'Arizona', 'Tucson', 'AZ', '.', 'Campbell', 'H.E.', 'Johnson', 'R.', 'M.', '&', 'Larson', 'E.', 'H.', '2004', 'Prices', 'devices', 'people', 'rules', 'relative', 'effectiveness', 'policy', 'instruments', 'n', 'water', 'conservation', 'Review', 'Policy', 'Research', 'v.', '21', 'p.', '26p', '.', 'Cassuto', 'A.E.', 'Ryan', 'S.', '1979', 'Effect', 'price', 'residential', 'demand', 'water', 'within', 'agency', 'JAWRA', 'Journal', 'American', 'Water', 'Resources', 'Association', 'v.', '15', 'p.', '345', '-', '353', '.', 'Chang', 'H.', 'S.', 'Vivek', 'Parandvash', 'G.', 'Hossein', '2010', 'Spatial', 'variations', 'single', '-', 'family', 'residential', 'water', 'consumption', 'Portland', 'Oregon', 'Urban', 'Geography', 'v.', '31', 'p.', '953', '-', '972', '.', 'Chavez', 'F.C.D.', '1973', 'A', 'study', 'water', 'used', 'urban', 'landscapes', '18th', 'Annual', 'New', 'Mexico', 'Wate', 'r', 'Conference', 'Volume', 'WRRI', 'Report', 'Las', 'Cruces', 'NM', 'p.', '30', '-', '39', '.', 'Costello', 'L.R.', 'Matheny', 'N.P', '.', 'Clark', 'J.R.', '2000', 'A', 'guide', 'estimating', 'irrigation', 'water', 'needs', 'landscape', 'plantings', 'California.', 'The', 'landscape', 'coefficient', 'method', 'WUCOLS', 'III.', 'Univ', '.', 'Ca', 'lifornia', 'Coop', '.', 'Ext.', 'California', 'Dept', '.', 'Water', 'Resources.', 'U.S.', 'Bur', '.', 'Reclamation', '.', 'Day', 'D.a.H.', 'C.', '2003', 'Forecasting', 'peak', 'demand', '-', 'What', 'need', 'know', '?', 'Water', 'Sci', '.', 'Technol', '.', 'Water', 'Supply', 'v.', '3', 'p.', '177', '184', '.', 'Domene', 'E.', 'Saurí', 'D.', '2006', 'Urbanisation', 'water', 'consumption', 'influencing', 'factors', 'metropolitan', 'region', 'Barcelona', 'Urban', 'Studies', 'v.', '43', 'p.', '1605', '-', '1623', '.', 'Durga', 'Rao', 'K.H.V.', '2005', 'Multi', '-', 'criteria', 'spatial', 'decision', 'analysis', 'forecasting', 'urban', 'water', 'requirements', 'case', 'study', 'Dehradun', 'city', 'India', 'Landscape', 'Urban', 'Planning', 'v.', '71', 'p.', '163', '-', '174', '.', 'Dziegielewski', 'B.', '2000', 'Commercial', 'institutional', 'end', 'uses', 'water.', 'American', 'Water', 'Works', 'Association', '82', 'Endter', 'Wada', 'J.', 'Kurtzman', 'J.', 'Keenan', 'S.P.', 'Kjelgren', 'R.K.', 'Neale', 'C.M.', '2008', 'Si', 'tuational', 'Waste', 'Landscape', 'Watering', 'Residential', 'Business', 'Water', 'Use', 'U', 'rban', 'Utah', 'Community1', 'JAWRA', 'Journal', 'American', 'Water', 'Resources', 'Association', 'v.', '44', 'p.', '902', '-', '920', '.', 'EPA', '2007', 'Water', 'conservation', 'key', 'EPA', \"'s\", 'watersense', 'program', 'ENR', 'Engi', 'neering', 'News', '-', 'Record', 'v.', '259', 'p.', '1p', '.', '2009', 'Water', 'efficiency', 'commercial', 'institutional', 'sector', 'considerations', 'watersense', 'program', '.', 'Falkenmark', 'M.', 'Lannerstad', '2005', 'Consumptive', 'water', 'use', 'feed', 'humanity', 'Hydrology', 'Earth', 'System', 'Sciences', 'v.', '9', 'p.', '15', '28', '.', 'Fanning', 'J.', '2007', 'Consumptive', 'water', 'use', '-', 'critical', 'component', 'Georgia', \"'s\", 'comprehensive', 'statewide', 'water', 'management', 'plan', 'Georgia', 'Water', 'Resources', 'Conference', 'Athens', 'Georgia', '.', 'Ferguson', 'B.K.', '1987', 'Water', 'conservation', 'methods', 'urban', 'lan', 'dscpae', 'irrigation', 'exploratory', 'overview', 'JAWRA', 'Journal', 'American', 'Water', 'Resources', 'Association', 'v.', '23', 'p.', '147', '-', '152', '.', 'Foster', 'H.S.', 'Jr.', 'Beattie', 'B.R.', '1979', 'Urban', 'residential', 'demand', 'water', 'United', 'States', 'Land', 'Economics', 'v.', '55', 'p.', '43', '-', '58', '.', 'Franczyk', 'J.', 'Chang', 'H.', '2009', 'Spatial', 'analysis', 'water', 'use', 'Oregon', 'USA', '1985', '2005', 'Water', 'Resources', 'Management', 'v.', '23', 'p.', '755', '-', '774', '.', 'Harivandi', 'A.B.J.H.J.H.M.S.D.', '2009', 'Managing', 'turfgrass', 'drought', 'ANR', 'Publication', '8395', 'University', 'Californi', 'Divsion', 'Agricultural', 'Natrual', 'Resources', '.', 'Hayes', 'L.H.', 'MA', '2009', 'Methods', 'estimating', 'withdrawal', 'return', 'flow', 'Census', 'block', '2005', '2020', 'New', 'Hampshire', 'Open', '-', 'File', 'Report', '2009', '1168', 'Reston', 'Virginia', 'U.S.', 'Geological', 'Survey', '.', 'Hilaire', 'R.', 'S.', 'M.A', '.', 'Arnold', 'D.C.', 'Wilkerson', 'D.A', '.', 'Devitt', 'B.H', '.', 'Hurd', 'B.J', '.', 'Lesikar', 'V.I', '.', 'Lohr', 'C.A', '.', 'Martin', 'G.V', '.', 'McDonald', 'R.L', '.', 'Morris', 'D.R', '.', 'Pittenger', 'D.A', '.', 'Shaw', 'D.F', '.', 'Zoldoske', '2008', 'Efficient', 'water', 'use', 'residential', 'urban', 'landscapes', 'Hortscience', 'v.', '43', 'p.', '2081', '-', '2', '092', '.', 'Hill', 'T.D.', 'Polsky', 'C.', '2007', 'Suburbanization', 'drought', 'mixed', 'methods', 'vulnerability', 'assessment', 'rainy', 'Massachusetts', 'Environmental', 'Hazards', 'v.', '7', 'p.', '291', '-', '301', '.', 'Hoppel', 'S.V.W.', '1973', 'A', 'linear', 'analysis', 'urban', 'water', 'supply', 'system', 'J', 'Am', 'Wate', 'r', 'Res', 'Assoc', 'v.', '8', 'p.', '304', '-', '311', '.', 'House', '-', 'Peters', 'L.', 'Pratt', 'B', 'Chang', 'H', '2010', 'Effects', 'urban', 'spatial', 'stractural', 'sociodemographics', 'climate', 'residentail', 'water', 'consumption', 'Hillsboro', 'Oregon', 'J', 'American', 'Water', 'Resourse', 'Association', 'v.', '46', 'p.', '461', '-', '472', '.', 'Ken', 'ny', 'J.F.', 'Juracek', 'K.E.', '2012', 'Description', '2005', '10', 'domestic', 'water', 'use', 'selected', 'U.S.', 'cities', 'guidance', 'estimating', 'domestic', 'water', 'use', 'U.S.', 'Geological', 'Survey', 'Scientific', 'Investigations', 'Report', 'Survey', 'U.S.G.', 'ed.', 'U.S.', 'Geological', 'Survey', 'Sci', 'entific', 'Investigations', 'Report', 'Volume', 'U.S.', 'Geological', 'Survey', 'Scientific', 'Investigations', 'Report', 'p.', '31p', '.', '83', 'Kim', 'J.R.', 'McCuen', 'R.H.', '1979', 'Factors', 'predicting', 'commercial', 'water', 'use', 'JAWRA', 'Journal', 'American', 'Water', 'Resources', 'Association', 'v.', '15', 'p.', '1073', '-', '1080', '.', 'Lillesand', 'T.M.', 'Kiefer', 'R.W.', 'Chipman', 'J.W.', '2004', 'Remote', 'sensing', 'image', 'interpretation', 'Chichester', 'John', 'Wiley', '&', 'Sons', 'Ltd', 'xiv', '+', '763', 'pp', '.', 'p.', 'Maddaus', 'W.', 'Maddaus', 'M.', '2004', 'Evaluating', 'water', 'conservation', 'cost', '-', 'effectiveness', 'end', 'us', 'e', 'model', 'Water', 'Sources', 'Conference', 'Volume', '13', 'Austin', 'TX', '.', 'Mayer', 'P.W.D.', 'William', 'B.', '1999', 'Residential', 'end', 'uses', 'water', 'AWWA', 'Research', 'Foundation', 'American', 'Water', 'Works', 'Association', 'Denver', 'CO', '.', 'Mercer', 'L.J.', 'Morgan', 'W.D.', '1974', 'Estimation', 'commercial', 'industrial', 'governmental', 'water', 'use', 'local', 'areas', 'JAWRA', 'Journal', 'American', 'Water', 'Resources', 'Association', 'v.', '10', 'p.', '794', '-', '801', '.', 'Mertler', 'C.A.', 'Vannatta', 'R.A.', '2002', 'Advanced', 'multivariate', 'statistical', 'methods', 'Pyrczak', 'Los', 'Angeles', '.', 'Mi', 'ke', 'L.', '2012', 'Nebraska', 'urban', 'population', 'totals', 'county', 'Volume', '2013', 'Nebraska', 'Department', 'Economic', 'Development', '.', 'Milesi', 'C.', 'Elvidge', 'C.D.', 'Nemani', 'R.R.', 'Running', 'S.W.', '2009', 'Assessing', 'extent', 'urban', 'irrigated', 'areas', 'southeastern', 'United', 'St', 'ates', 'Remote', 'Sensing', 'Global', 'Croplands', 'Food', 'Securitiy', 'NASA', 'Ames', 'Ecological', 'Forecasting', 'Lab', 'p.', '217', '.', 'Milesi', 'C.', 'Running', 'S.', 'Elvidge', 'C.', 'Dietz', 'J.', 'Tuttle', 'B.', 'Nemani', 'R.', '2005', 'Mapping', 'modeling', 'biogeochemical', 'cycling', 'turf', 'grasses', 'United', 'States', 'Environmental', 'Management', 'v.', '36', 'p.', '426', '-', '438', '.', 'Morales', 'M.', 'Heaney', 'J.', 'Friedman', 'K.', 'Martin', 'J.', '2011', 'Estimating', 'commercial', 'industrial', 'institutional', 'water', 'use', 'based', 'heated', 'building', 'area', '.', 'Journal', 'American', 'Water', 'Works', 'Association', 'v.', '106', 'p.', '2', '-', '17', '.', 'Morales', 'M.M.', 'J.', 'Heaney', 'J.', '2009', 'Methods', 'estimating', 'commercial', 'industrial', 'institutional', 'Water', 'Use', 'FSAWWA', 'Fall', 'Conference', 'Orlando', 'Florida', '.', 'Morgan', 'W.D.S.', 'J.C', '1976', 'Climatic', 'indicators', 'estimation', 'mu', 'nicipal', 'water', 'demand', 'Water', 'Resources', 'Bulletin', 'v.', '12', 'p.', '511', '518', '.', 'National', 'Research', 'Council', 'U.', '2002', 'Estimating', 'water', 'use', 'United', 'States', 'new', 'paradigm', 'national', 'water', '-', 'use', 'information', 'program', 'Washington', 'D.C.', 'National', 'Academy', 'Press', 'xiii', '176', 'p.', 'p.', \"O'Sullivan\", 'D.', 'Unwin', 'D.', '2002', 'Geographic', 'Information', 'Analysis', 'Wiley', '.', 'Oad', 'R.', 'Lusk', 'K.', 'Podmore', 'T.', '1997', 'Consumptive', 'use', 'return', 'flows', 'urban', 'lawn', 'water', 'use', 'Journal', 'Irrigation', 'Drainage', 'Engineering', 'v.', '123', 'p.', '62', '-', '69', '.', 'O', 'lmstead', 'S.M.', 'Michael', 'Hanemann', 'W.', 'Stavins', 'R.N.', '2007', 'Water', 'demand', 'alternative', 'price', 'structures', 'Journal', 'Environmental', 'Economics', 'Management', 'v.', '54', 'p.', '181', '-', '198', '.', 'Opitz', 'E.', 'Langowski', 'J.', 'Dziegielewski', 'B.', 'Hanna', '-', 'Somers', 'N.', 'Willet', 'J.', 'Hauer', 'R.', '1998', 'Forecasting', 'urban', 'water', 'use', 'models', 'applications', 'Urban', 'Water', 'Demand', 'Management', 'Planning', 'D.', 'Baumann', 'J.', 'Boland', 'WM', 'Haneman', 'eds.', 'McGraw', '-', 'Hill', 'Inc.', 'New', 'York', 'p.', '95', '-', '135', '.', 'Pittenger', 'D.R.', 'Shaw', 'D.A.', 'Hodel', 'D.R.', 'Holt', 'D.B.', '2001', 'Responses', 'landscape', 'groundcovers', 'minimum', 'irrigation', 'Journal', 'Environmental', 'Horticulture', 'v.', '19', 'p.', '78', '-', '84', '.', '84', 'Romero', 'C.', 'Michael', 'DD.', '2009', 'Turfgrass', 'ornamental', 'plant', 'evapotranspiration', 'crop', 'coefficient', 'literature', 'review', '.', 'Sawyer', 'H.a.', '2004', 'The', 'Tampa', 'Bay', 'water', 'long', '-', 'term', 'demand', 'forecasting', 'model', 'Hazen', 'Sawyer', '.', 'SEI', '2009', 'Water', 'evaluation', 'planning', 'system', 'WEAP', 'Volume', '2013', 'Stockholm', 'Environmental', 'Institute', 'SEI', '.', 'Shaffer', 'K.', 'National', 'Assessment', 'Water', 'Availability', 'Us', 'e', 'Pilot', 'Program', 'Geological', 'Survey', 'U.S.', '2008', 'Consumptive', 'water', 'use', 'Great', 'Lakes', 'basin', 'Reston', 'Va.', 'U.S.', 'Geological', 'Survey', '1', 'folded', 'sheet', '6', 'p.', 'p.', 'Shaffer', 'K.', 'Runkle', 'D.L.', 'National', 'Assessment', 'Water', 'Availability', 'Use', 'Pilot', 'Progr', 'Geological', 'Survey', 'U.S.', '2007', 'Consumptive', 'water', 'use', 'coefficients', 'Great', 'Lakes', 'basin', 'climatically', 'similar', 'areas', 'Scientific', 'investigations', 'report', '2007', '-', '5197', 'Reston', 'Va.', 'U.S.', 'Geological', 'Survey', 'p.', 'viii', '191', 'p.', 'Sovocool', 'K.A.', 'Morgan', 'M.', 'Bennett', 'D.', '2006', 'An', '-', 'depth', 'investigation', 'xeriscape', 'water', 'conservation', 'measure', 'Journal', 'American', 'Water', 'Works', 'Association', 'p.', '82', '-', '93', '.', 'SWFWMD', '2006', 'Regional', 'water', 'supply', 'plan.', 'District', 'S.F.W.M.', 'ed', '.', 'Wentz', 'E.', 'Gober', 'P.', '2007', 'D', 'eterminants', 'small', '-', 'area', 'water', 'consumption', 'City', 'Phoenix', 'Arizona', 'Water', 'Resources', 'Management', 'v.', '21', 'p.', '1849', '-', '1863', '.', 'Wilson', 'B.B.', 'J', '.', 'A.', 'Schloss', 'R.', 'W.', 'Buddemeier', '2000', 'Water', 'usage', 'Survey', 'K.G.', 'ed.', 'An', 'Atlas', 'Kansas', 'High', 'Plains', 'Aquife', 'r', 'Volume', '2013', '.', 'Zazueta', 'F.S.', '2000', 'Reduced', 'irrigation', 'St.', 'Augustinegrass', 'turfgrass', 'Tampa', 'Bay', 'Area', 'University', 'Florida', 'Cooperative', 'Extension', 'Service', 'Institute', 'Food', 'Agriculture', 'Sciences', 'EDIS', '.', 'Zhou', 'S.L.', 'McMahon', 'T.A.', 'Walton', 'A.', 'Lewis', 'J.', '2002', 'Forecasting', 'operational', 'demand', 'urban', 'water', 'supply', 'zone', 'Journal', 'Hydrology', 'v.', '259', 'p.', '189', '-', '202', '.', '85', 'Appendix', '1', 'Pearson', 'C', 'orrelation', 'C', 'oefficient', 'R', 'esidential', 'W', 'ater', 'U', 'e', '1.1', 'Pearson', 'Correlation', 'C', 'oefficient', 'City', 'Lincoln', 'Pearson', 'Correlation', 'Coefficient', '1', '2', '3', '4', '5', '6', '7', '8', '1.Total', 'population', '1', '2', '.', 'Total', 'housing', 'units', '.929', '**', '1', '3', '.', 'Block', 'area', 'acres', '.559', '**', '.493', '**', '1', '4', '.', 'Total', 'landscape', 'area', '2', '.462', '**', '.401', '**', '.978', '**', '1', '5.Building', 'footprint', '2', '.829', '**', '.735', '**', '.747', '**', '.660', '**', '1', '6.Housing', 'density', '.222', '**', '.355', '**', '-', '.183', '**', '-', '.199', '**', '-', '.076', '**', '1', '7.Population', 'density', '.271', '**', '.278', '**', '-', '.215', '**', '-', '.235', '**', '-', '.070', '**', '.861', '**', '1', '8.Total', 'water', 'use', '.899', '**', '.834', '**', '.655', '**', '.564', '**', '.886', '**', '.078', '**', '.078', '**', '1', '**', 'Correlation', 'significant', '0.01', 'level', '2', '-', 'tailed', '.', 'S', 'ample', 'size', '2720', 'blocks', '.', '86', '1', '.', '2', 'Pearson', 'Correlation', 'C', 'oefficients', 'Grand', 'Island', 'Pearson', 'Correlation', 'Coefficient', '1', '2', '3', '4', '5', '6', '7', '1.Total', 'population', '1', '2', '.', 'Total', 'housing', 'units', '.916', '**', '1', '3', '.', 'Block', 'area', 'acres', '.735', '**', '.654', '**', '1', '4', '.', 'Total', 'landscape', 'area', '2', '.711', '**', '.619', '**', '.954', '**', '1', '5.Housing', 'density', '.097', '**', '.230', '**', '-', '.230', '**', '-', '.232', '**', '1', '6.Population', 'density', '.098', '**', '0.051', '-', '.281', '**', '-', '.273', '**', '.738', '**', '1', '7.Total', 'water', 'use', '.895', '**', '.822', '**', '.830', '**', '.757', '**', '-', '.060', '*', '-', '.113', '**', '1', '**', 'Correlation', 'significant', '0.01', 'level', '2', '-', 'tailed', '.', '*', 'Correlation', 'significant', '0.05', 'level', '2', '-', 'tailed', '.', 'Sample', 'size', '1253', 'blocks', '.', '1', '.', '3', 'Pearson', 'Correlation', 'C', 'oefficients', 'Sidney', 'Pearson', 'Correlation', 'Coefficient', '1', '2', '3', '4', '5', '6', '7', '1.Total', 'population', '1', '2', '.', 'Total', 'housing', 'units', '.912', '**', '1', '3', '.', 'Block', 'area', 'acres', '.661', '**', '.538', '**', '1', '4', '.', 'Total', 'landscape', 'area', '2', '.664', '**', '.539', '**', '.928', '**', '1', '5.Housing', 'density', '.470', '**', '.630', '**', '-', '0.155', '-', '0.141', '1', '6.Population', 'density', '.547', '**', '.598', '**', '-', '0.118', '-', '0.099', '.938', '**', '1', '7.Total', 'water', 'use', '.839', '**', '.672', '**', '.800', '**', '.824', '**', '0.05', '0.103', '1', '**', 'Correlation', 'significa', 'nt', '0.01', 'level', '2', '-', 'tailed', 'Sample', 'size', '102', 'blocks', '.', '87', 'Appendix', '2', 'Pearson', 'C', 'orrelation', 'C', 'oefficient', 'C', 'ommercial', 'I', 'ndustrial', 'O', 'thers', 'CIO', 'W', 'ater', 'U', 'se', '2.1', 'Pearson', 'Correlation', 'C', 'oefficients', 'City', 'Lincoln', 'Pearson', 'Correlation', 'Coefficient', '1', '2', '3', '4', '5', '1', '.', 'Block', 'area', 'acres', '1', '2.Building', 'footprint', '2', '.609', '**', '1', '3', '.', 'Total', 'landscape', 'area', '2', '.985', '**', '.549', '**', '1', '4.Consumptive', 'water', 'use', '.390', '**', '.488', '**', '.383', '**', '1', '5', '.Total', 'water', 'use', '.122', '**', '.310', '**', '.104', '**', '.714', '**', '1', '**', 'Correlation', 'significa', 'nt', '0.01', 'level', '2', '-', 'tailed', 'sample', 'size', '624', 'blocks', '.', '2.2', 'Pearson', 'Correlation', 'C', 'oefficients', 'Grand', 'Island', 'Pearson', 'Correlation', 'Coefficient', '1', '2', '3', '4', '1', '.', 'Block', 'area', 'acres', '1', '2', '.', 'Total', 'landscape', 'area', '2', '.781', '**', '1', '3.Consumptive', 'water', 'use', '0.021', '0.038', '1', '4.Total', 'water', 'use', '-', '0.001', '0.004', '.944', '**', '1', '**', 'Correlation', 'significa', 'nt', '0.01', 'level', '2', '-', 'tailed', 'sample', 'size', '405', 'blocks', '.', '88', '2.3', 'Pearson', 'Correlation', 'C', 'oefficients', 'Sidney', 'Pearson', 'Correlation', 'Coefficient', '1', '2', '3', '4', '1', '.', 'Block', 'area', 'acres', '1', '2', '.', 'Total', 'landscape', 'area', '2', '.985', '**', '1', '3.Consumptive', 'water', 'use', '0.106', '-', '0.014', '1', '4.Total', 'water', 'use', '-', '0.069', '-', '0.061', '.444', '**', '1', '**', 'Correlation', 'significa', 'nt', '0.01', 'level', '2', '-', 'tailed', 'sample', 'size', '35', 'blocks', '.', '89', 'Appendix', '3', 'Pearson', 'C', 'orrelation', 'C', 'oefficient', 'O', 'pen', 'S', 'pace', 'W', 'ater', 'U', 'se', '3.1', 'Pearson', 'Correlation', 'C', 'oefficients', 'City', 'Lincoln', 'Pearson', 'Correlation', 'Coefficient', '1', '2', '3', '4', '1', '.', 'Block', 'area', 'acres', '1', '2', '.', 'Total', 'landscape', 'area', '2', '.997', '**', '1', '3.Consumptive', 'water', 'use', '.887', '**', '.891', '**', '1', '4.Total', 'water', 'use', '.887', '**', '.891', '**', '1.000', '**', '1', '**', 'Correlation', 'significant', '0.01', 'level', '2', '-', 'tailed', 'sample', 'size', '49', '3.2', 'Correlations', 'Grand', 'Island', 'Pearson', 'Correlation', 'Coefficient', '1', '2', '3', '4', '1', '.', 'Block', 'area', 'acres', '1', '2', '.', 'Total', 'landscape', 'area', '2', '.972', '**', '1', '3.Consumptive', 'water', 'use', '.715', '**', '.789', '**', '1', '4.Total', 'water', 'use', '.715', '**', '.789', '**', '1.000', '**', '1', '**', 'Correlation', 'significa', 'nt', '0.01', 'level', '2', '-', 'tailed', 'sample', 'size', '39', '3.3', 'Correlations', 'Sidney', 'Pearson', 'Correlation', 'Coefficient', '1', '2', '3', '4', '1', '.', 'Block', 'area', 'acres', '1', '2', '.', 'Total', 'landscape', 'area', '2', '.945', '**', '1', '3.Consumptive', 'water', 'use', '.683', '**', '.752', '**', '1', '4.Total', 'water', 'use', '.683', '**', '.752', '**', '1.000', '**', '1', '**', 'Correlation', 'significa', 'nt', '0.01', 'level', '2', '-', 'tailed', 'sample', 'size', '19', '.', '90', 'Appendix', '4', 'Illustration', 'S', 'A', 'ttributes', 'T', 'able', 'T', 'itles', 'Title', 'Name', 'Explanation', 'Sources', 'Notes', 'FID', 'GIS', 'ID', 'number', 'Esri', 'Shape', '*', 'Polygon', 'Esri', 'GEOID10', 'census', 'ID', 'US', 'census', 'TAPERSONS', 'Total', 'person', 'US', 'census', 'Residential', 'TAHOUSING', 'Total', 'housing', 'units', 'US', 'census', 'Residential', 'AHS', 'Average', 'household', 'size', 'Calculation', 'TAPERSONS/', 'TAHOUSING', 'Residential', 'Landuse', 'LUCODE', 'land', 'use', 'code', '1', '-', 'residential', '2', '-', 'CIO', '3', '-', 'open', 'Acres', 'Block', 'area', 'Esri', 'calculation', 'US', 'Acres', 'Sqm', 'Block', 'area', 'Esri', 'calculation', 'square', 'meters', 'Count_WM', 'Water', 'meter', 'numbers', 'City', 'Lincoln', 'Geocoding', 'result', 'X', 'Centroid', 'Coordinate', 'Esri', 'Calculation', 'US', 'feet', 'Y', 'Centroid', 'Coordinate', 'Esri', 'Calculation', 'US', 'feet', 'Oct_Dec', 'Oct', 'Dec', 'water', 'use,2009', 'City', 'Lincoln', 'cubic', 'meters', 'Dec_Feb', 'Dec', 'Feb', 'water', 'use', '2009', '-', '2010', 'City', 'Lincoln', 'cubic', 'meters', 'Feb_Apr', 'Feb', 'April', 'water', 'use,2010', 'City', 'Lincoln', 'cubic', 'meters', 'Apr_June', 'Apr', 'June', 'water', 'use', '2010', 'City', 'Lincoln', 'cubic', 'meters', 'June_Aug', 'June', 'Aug', 'water', 'use,2010', 'City', 'Lincoln', 'cubic', 'meters', 'Aug_Oct', 'Aug', 'Oct', 'water', 'use,2010', 'City', 'Lincoln', 'cubic', 'meters', 'Total_CM', 'Year', 'water', 'use', 'City', 'Lincoln', 'cubic', 'meters', 'Total_or', 'Year', 'water', 'use', 'City', 'Lincoln', '1', 'unit', '=100', 'cubic', 'feet', 'Total_CF', 'Year', 'water', 'use', 'Grand', 'Island', 'cubic', 'feet', 'Tota_ori', 'Year', 'water', 'use', 'Sidney', '1', 'unit', '=', '1000', 'gallon', 'Parcel_num', 'Parcel', 'numbers', 'within', 'block', 'Esri', 'Calculation', 'Parcel_per', 'meter', 'numbers/parcel', 'numbers', 'Calculation', 'Range', '0', '1', '91', 'HouU_perc', 'meter', 'numbers/housing', 'units', 'Calculation', 'Range', '0', '2', 'Residential', 'Hous_densit', 'Housing', 'density', 'Calculation', 'TAHOUSING/', 'Acres', 'Residential', 'Pop_densit', 'Population', 'density', 'Calculation', 'TAPERSONS/', 'Acres', 'Residential', 'Vege_sqm', 'NDVI', '>', '0.15', 'Esri', 'calculation', 'square', 'meters', 'Vege_perc', 'Vegetation', 'area', 'percentage', 'Calculation', 'Vege_sqm', '/sqm', 'Open', 'space', 'WU_densit', 'Water', 'use', 'density', 'Calculation', 'cubic', 'meters/acres', 'OIDemand', 'Outdoor', 'irrigation', 'demand', 'Calculation', 'cubic', 'meters', 'Etc', '-', 'precipitation', '*Vege_sqm', 'Outwaterus', 'Outdoor', 'water', 'use', 'Calculation', 'April1st', 'Oct', '31st', 'OCWU', 'Outdoor', 'Consumptive', 'use', 'Calculation', 'CIO', 'Commercial', 'industrial', 'others', 'ICWU', 'Indoor', 'Consumptive', 'use', '=', 'Indoor', 'water', 'use', '*', '0.1', 'Calculation', 'CIO', 'CWU', 'Consumptive', 'water', 'use', 'Comparison', 'OID/OWU', 'smaller', 'one', 'Percap_TW', 'U', 'Per', 'capita', 'water', 'use', 'Calculation', 'Total', 'water', 'use', 'Cubic', 'meters', '/', 'TAPERSONS', 'Residential', 'Percap_CW', 'U', 'Per', 'capita', 'consumptive', 'water', 'use', 'Calculation', 'Total', 'water', 'use', 'Cubic', 'meters', '/', 'TAPERSONS', 'Re', 'sidential', 'Percap_veg', 'Parcapita', 'vegetation', 'area', 'Calculation', 'Vegetation', 'area/', 'TAPERSONS', 'R', 'Residential', 'Bf_area', 'Building', 'footprint', 'area', 'City', 'Lincoln', 'US', 'square', 'feet', 'City', 'Lincoln', 'ONLY', 'Percap_bf', 'Per', 'capita', 'building', 'footprints', 'Calculation', 'cubic', 'meters/person', 'City', 'Lincoln', 'ONLY', 'Note', '1.', 'table', 'combines', 'three', 'categories', 'attribute', 'might', 'exist', 'attributes', 'table', 'shapefiles', 'appendix', 'tables', '.', '2', '.', 'For', 'water', 'use', 'bill', 'information', 'City', 'Lincoln', 'bimonthly', 'water', 'billing', 'cycle', 'specific', 'information', 'listed', '.', 'In', 'Grand', 'Island', 'Sidney', 'water', 'billing', 'information', 'charged', 'every', 'month', '.', 'And', 'listed', 'shapefile', 'attribute', 'table', 'abbreviation', 'month', '.']\n"
     ]
    }
   ],
   "source": [
    "import PyPDF2\n",
    "filename = 'D:/thesis/fulltext.pdf' \n",
    "pdfFileObj = open(filename,'rb')\n",
    "pdfReader = PyPDF2.PdfFileReader(pdfFileObj)\n",
    "#number of pages will allow us to parse through all #the pages\n",
    "num_pages = pdfReader.numPages\n",
    "count = 0\n",
    "text = \"\"\n",
    "#The while loop will read each page\n",
    "while count < num_pages:\n",
    "    pageObj = pdfReader.getPage(count)\n",
    "    count +=1\n",
    "    text += pageObj.extractText()\n",
    "#This if statement exists to check if the above library returned #words. It's done because PyPDF2 cannot read scanned files.\n",
    "if text != \"\":\n",
    "   text = text\n",
    "#If the above returns as False, we run the OCR library textract to #convert scanned/image based PDF files into text\n",
    "else:\n",
    "   text = textract.process(fileurl, method='tesseract', language='eng')\n",
    "# Now we have a text variable which contains all the text derived #from our PDF file. Type print(text) to see what it contains. It #likely contains a lot of spaces, possibly junk such as '\\n' etc.\n",
    "# Now, we will clean our text variable, and return it as a list of keywords.\n",
    "\n",
    "#The word_tokenize() function will break our text phrases into #individual words\n",
    "tokens = word_tokenize(text)\n",
    "#we'll create a new list which contains punctuation we wish to clean\n",
    "punctuations = ['(',')',';',':','[',']',',']\n",
    "#We initialize the stopwords variable which is a list of words like #\"The\", \"I\", \"and\", etc. that don't hold much value as keywords\n",
    "stop_words = stopwords.words('english')\n",
    "#We create a list comprehension which only returns a list of words #that are NOT IN stop_words and NOT IN punctuations.\n",
    "keywords = [word for word in tokens if not word in stop_words and not word in punctuations]\n",
    "print(keywords)"
   ]
  },
  {
   "cell_type": "markdown",
   "metadata": {},
   "source": [
    "### > Accessing text from html"
   ]
  },
  {
   "cell_type": "code",
   "execution_count": 21,
   "metadata": {},
   "outputs": [
    {
     "name": "stderr",
     "output_type": "stream",
     "text": [
      "C:\\Users\\honey\\Anaconda3\\lib\\site-packages\\bs4\\__init__.py:181: UserWarning: No parser was explicitly specified, so I'm using the best available HTML parser for this system (\"lxml\"). This usually isn't a problem, but if you run this code on another system, or in a different virtual environment, it may use a different parser and behave differently.\n",
      "\n",
      "The code that caused this warning is on line 193 of the file C:\\Users\\honey\\Anaconda3\\lib\\runpy.py. To get rid of this warning, change code that looks like this:\n",
      "\n",
      " BeautifulSoup(YOUR_MARKUP})\n",
      "\n",
      "to this:\n",
      "\n",
      " BeautifulSoup(YOUR_MARKUP, \"lxml\")\n",
      "\n",
      "  markup_type=markup_type))\n"
     ]
    },
    {
     "data": {
      "text/plain": [
       "['BBC',\n",
       " 'NEWS',\n",
       " '|',\n",
       " 'Health',\n",
       " '|',\n",
       " 'Blondes',\n",
       " \"'to\",\n",
       " 'die',\n",
       " 'out',\n",
       " 'in',\n",
       " '200',\n",
       " \"years'\",\n",
       " 'NEWS',\n",
       " 'SPORT',\n",
       " 'WEATHER',\n",
       " 'WORLD',\n",
       " 'SERVICE',\n",
       " 'A-Z',\n",
       " 'INDEX',\n",
       " 'SEARCH',\n",
       " 'You',\n",
       " 'are',\n",
       " 'in',\n",
       " ':',\n",
       " 'Health',\n",
       " 'News',\n",
       " 'Front',\n",
       " 'Page',\n",
       " 'Africa',\n",
       " 'Americas',\n",
       " 'Asia-Pacific',\n",
       " 'Europe',\n",
       " 'Middle',\n",
       " 'East',\n",
       " 'South',\n",
       " 'Asia',\n",
       " 'UK',\n",
       " 'Business',\n",
       " 'Entertainment',\n",
       " 'Science/Nature',\n",
       " 'Technology',\n",
       " 'Health',\n",
       " 'Medical',\n",
       " 'notes',\n",
       " '--',\n",
       " '--',\n",
       " '--',\n",
       " '--',\n",
       " '--',\n",
       " '--',\n",
       " '-',\n",
       " 'Talking',\n",
       " 'Point',\n",
       " '--',\n",
       " '--',\n",
       " '--',\n",
       " '--',\n",
       " '--',\n",
       " '--',\n",
       " '-',\n",
       " 'Country',\n",
       " 'Profiles',\n",
       " 'In',\n",
       " 'Depth',\n",
       " '--',\n",
       " '--',\n",
       " '--',\n",
       " '--',\n",
       " '--',\n",
       " '--',\n",
       " '-',\n",
       " 'Programmes',\n",
       " '--',\n",
       " '--',\n",
       " '--',\n",
       " '--',\n",
       " '--',\n",
       " '--',\n",
       " '-',\n",
       " 'SERVICES',\n",
       " 'Daily',\n",
       " 'E-mail',\n",
       " 'News',\n",
       " 'Ticker',\n",
       " 'Mobile/PDAs',\n",
       " '--',\n",
       " '--',\n",
       " '--',\n",
       " '--',\n",
       " '--',\n",
       " '--',\n",
       " '-',\n",
       " 'Text',\n",
       " 'Only',\n",
       " 'Feedback',\n",
       " 'Help',\n",
       " 'EDITIONS',\n",
       " 'Change',\n",
       " 'to',\n",
       " 'UK',\n",
       " 'Friday',\n",
       " ',',\n",
       " '27',\n",
       " 'September',\n",
       " ',',\n",
       " '2002',\n",
       " ',',\n",
       " '11:51',\n",
       " 'GMT',\n",
       " '12:51',\n",
       " 'UK',\n",
       " 'Blondes',\n",
       " \"'to\",\n",
       " 'die',\n",
       " 'out',\n",
       " 'in',\n",
       " '200',\n",
       " \"years'\",\n",
       " 'Scientists',\n",
       " 'believe',\n",
       " 'the',\n",
       " 'last',\n",
       " 'blondes',\n",
       " 'will',\n",
       " 'be',\n",
       " 'in',\n",
       " 'Finland',\n",
       " 'The',\n",
       " 'last',\n",
       " 'natural',\n",
       " 'blondes',\n",
       " 'will',\n",
       " 'die',\n",
       " 'out',\n",
       " 'within',\n",
       " '200',\n",
       " 'years',\n",
       " ',',\n",
       " 'scientists',\n",
       " 'believe',\n",
       " '.',\n",
       " 'A',\n",
       " 'study',\n",
       " 'by',\n",
       " 'experts',\n",
       " 'in',\n",
       " 'Germany',\n",
       " 'suggests',\n",
       " 'people',\n",
       " 'with',\n",
       " 'blonde',\n",
       " 'hair',\n",
       " 'are',\n",
       " 'an',\n",
       " 'endangered',\n",
       " 'species',\n",
       " 'and',\n",
       " 'will',\n",
       " 'become',\n",
       " 'extinct',\n",
       " 'by',\n",
       " '2202',\n",
       " '.',\n",
       " 'Researchers',\n",
       " 'predict',\n",
       " 'the',\n",
       " 'last',\n",
       " 'truly',\n",
       " 'natural',\n",
       " 'blonde',\n",
       " 'will',\n",
       " 'be',\n",
       " 'born',\n",
       " 'in',\n",
       " 'Finland',\n",
       " '-',\n",
       " 'the',\n",
       " 'country',\n",
       " 'with',\n",
       " 'the',\n",
       " 'highest',\n",
       " 'proportion',\n",
       " 'of',\n",
       " 'blondes',\n",
       " '.',\n",
       " 'The',\n",
       " 'frequency',\n",
       " 'of',\n",
       " 'blondes',\n",
       " 'may',\n",
       " 'drop',\n",
       " 'but',\n",
       " 'they',\n",
       " 'wo',\n",
       " \"n't\",\n",
       " 'disappear',\n",
       " 'Prof',\n",
       " 'Jonathan',\n",
       " 'Rees',\n",
       " ',',\n",
       " 'University',\n",
       " 'of',\n",
       " 'Edinburgh',\n",
       " 'But',\n",
       " 'they',\n",
       " 'say',\n",
       " 'too',\n",
       " 'few',\n",
       " 'people',\n",
       " 'now',\n",
       " 'carry',\n",
       " 'the',\n",
       " 'gene',\n",
       " 'for',\n",
       " 'blondes',\n",
       " 'to',\n",
       " 'last',\n",
       " 'beyond',\n",
       " 'the',\n",
       " 'next',\n",
       " 'two',\n",
       " 'centuries',\n",
       " '.',\n",
       " 'The',\n",
       " 'problem',\n",
       " 'is',\n",
       " 'that',\n",
       " 'blonde',\n",
       " 'hair',\n",
       " 'is',\n",
       " 'caused',\n",
       " 'by',\n",
       " 'a',\n",
       " 'recessive',\n",
       " 'gene',\n",
       " '.',\n",
       " 'In',\n",
       " 'order',\n",
       " 'for',\n",
       " 'a',\n",
       " 'child',\n",
       " 'to',\n",
       " 'have',\n",
       " 'blonde',\n",
       " 'hair',\n",
       " ',',\n",
       " 'it',\n",
       " 'must',\n",
       " 'have',\n",
       " 'the',\n",
       " 'gene',\n",
       " 'on',\n",
       " 'both',\n",
       " 'sides',\n",
       " 'of',\n",
       " 'the',\n",
       " 'family',\n",
       " 'in',\n",
       " 'the',\n",
       " 'grandparents',\n",
       " \"'\",\n",
       " 'generation',\n",
       " '.',\n",
       " 'Dyed',\n",
       " 'rivals',\n",
       " 'The',\n",
       " 'researchers',\n",
       " 'also',\n",
       " 'believe',\n",
       " 'that',\n",
       " 'so-called',\n",
       " 'bottle',\n",
       " 'blondes',\n",
       " 'may',\n",
       " 'be',\n",
       " 'to',\n",
       " 'blame',\n",
       " 'for',\n",
       " 'the',\n",
       " 'demise',\n",
       " 'of',\n",
       " 'their',\n",
       " 'natural',\n",
       " 'rivals',\n",
       " '.',\n",
       " 'They',\n",
       " 'suggest',\n",
       " 'that',\n",
       " 'dyed-blondes',\n",
       " 'are',\n",
       " 'more',\n",
       " 'attractive',\n",
       " 'to',\n",
       " 'men',\n",
       " 'who',\n",
       " 'choose',\n",
       " 'them',\n",
       " 'as',\n",
       " 'partners',\n",
       " 'over',\n",
       " 'true',\n",
       " 'blondes',\n",
       " '.',\n",
       " 'Bottle-blondes',\n",
       " 'like',\n",
       " 'Ann',\n",
       " 'Widdecombe',\n",
       " 'may',\n",
       " 'be',\n",
       " 'to',\n",
       " 'blame',\n",
       " 'But',\n",
       " 'Jonathan',\n",
       " 'Rees',\n",
       " ',',\n",
       " 'professor',\n",
       " 'of',\n",
       " 'dermatology',\n",
       " 'at',\n",
       " 'the',\n",
       " 'University',\n",
       " 'of',\n",
       " 'Edinburgh',\n",
       " 'said',\n",
       " 'it',\n",
       " 'was',\n",
       " 'unlikely',\n",
       " 'blondes',\n",
       " 'would',\n",
       " 'die',\n",
       " 'out',\n",
       " 'completely',\n",
       " '.',\n",
       " '``',\n",
       " 'Genes',\n",
       " 'do',\n",
       " \"n't\",\n",
       " 'die',\n",
       " 'out',\n",
       " 'unless',\n",
       " 'there',\n",
       " 'is',\n",
       " 'a',\n",
       " 'disadvantage',\n",
       " 'of',\n",
       " 'having',\n",
       " 'that',\n",
       " 'gene',\n",
       " 'or',\n",
       " 'by',\n",
       " 'chance',\n",
       " '.',\n",
       " 'They',\n",
       " 'do',\n",
       " \"n't\",\n",
       " 'disappear',\n",
       " ',',\n",
       " \"''\",\n",
       " 'he',\n",
       " 'told',\n",
       " 'BBC',\n",
       " 'News',\n",
       " 'Online',\n",
       " '.',\n",
       " '``',\n",
       " 'The',\n",
       " 'only',\n",
       " 'reason',\n",
       " 'blondes',\n",
       " 'would',\n",
       " 'disappear',\n",
       " 'is',\n",
       " 'if',\n",
       " 'having',\n",
       " 'the',\n",
       " 'gene',\n",
       " 'was',\n",
       " 'a',\n",
       " 'disadvantage',\n",
       " 'and',\n",
       " 'I',\n",
       " 'do',\n",
       " 'not',\n",
       " 'think',\n",
       " 'that',\n",
       " 'is',\n",
       " 'the',\n",
       " 'case',\n",
       " '.',\n",
       " '``',\n",
       " 'The',\n",
       " 'frequency',\n",
       " 'of',\n",
       " 'blondes',\n",
       " 'may',\n",
       " 'drop',\n",
       " 'but',\n",
       " 'they',\n",
       " 'wo',\n",
       " \"n't\",\n",
       " 'disappear',\n",
       " '.',\n",
       " \"''\",\n",
       " 'See',\n",
       " 'also',\n",
       " ':',\n",
       " '28',\n",
       " 'Mar',\n",
       " '01',\n",
       " '|',\n",
       " 'Education',\n",
       " 'What',\n",
       " 'is',\n",
       " 'it',\n",
       " 'about',\n",
       " 'blondes',\n",
       " '?',\n",
       " '09',\n",
       " 'Apr',\n",
       " '99',\n",
       " '|',\n",
       " 'Health',\n",
       " 'Platinum',\n",
       " 'blondes',\n",
       " 'are',\n",
       " 'labelled',\n",
       " 'as',\n",
       " 'dumb',\n",
       " '17',\n",
       " 'Apr',\n",
       " '02',\n",
       " '|',\n",
       " 'Health',\n",
       " 'Hair',\n",
       " 'dye',\n",
       " 'cancer',\n",
       " 'alert',\n",
       " 'Internet',\n",
       " 'links',\n",
       " ':',\n",
       " 'University',\n",
       " 'of',\n",
       " 'Edinburgh',\n",
       " 'The',\n",
       " 'BBC',\n",
       " 'is',\n",
       " 'not',\n",
       " 'responsible',\n",
       " 'for',\n",
       " 'the',\n",
       " 'content',\n",
       " 'of',\n",
       " 'external',\n",
       " 'internet',\n",
       " 'sites',\n",
       " 'Top',\n",
       " 'Health',\n",
       " 'stories',\n",
       " 'now',\n",
       " ':',\n",
       " 'Heart',\n",
       " 'risk',\n",
       " 'link',\n",
       " 'to',\n",
       " 'big',\n",
       " 'families',\n",
       " 'Back',\n",
       " 'pain',\n",
       " 'drug',\n",
       " \"'may\",\n",
       " 'aid',\n",
       " \"diabetics'\",\n",
       " 'Congo',\n",
       " 'Ebola',\n",
       " 'outbreak',\n",
       " 'confirmed',\n",
       " 'Vegetables',\n",
       " 'ward',\n",
       " 'off',\n",
       " \"Alzheimer's\",\n",
       " 'Polio',\n",
       " 'campaign',\n",
       " 'launched',\n",
       " 'in',\n",
       " 'Iraq',\n",
       " 'Gene',\n",
       " 'defect',\n",
       " 'explains',\n",
       " 'high',\n",
       " 'blood',\n",
       " 'pressure',\n",
       " 'Botox',\n",
       " \"'may\",\n",
       " 'cause',\n",
       " 'new',\n",
       " \"wrinkles'\",\n",
       " 'Alien',\n",
       " \"'abductees\",\n",
       " \"'\",\n",
       " 'show',\n",
       " 'real',\n",
       " 'symptoms',\n",
       " 'Links',\n",
       " 'to',\n",
       " 'more',\n",
       " 'Health',\n",
       " 'stories',\n",
       " 'are',\n",
       " 'at',\n",
       " 'the',\n",
       " 'foot',\n",
       " 'of',\n",
       " 'the',\n",
       " 'page',\n",
       " '.',\n",
       " 'E-mail',\n",
       " 'this',\n",
       " 'story',\n",
       " 'to',\n",
       " 'a',\n",
       " 'friend',\n",
       " 'Links',\n",
       " 'to',\n",
       " 'more',\n",
       " 'Health',\n",
       " 'stories',\n",
       " 'In',\n",
       " 'This',\n",
       " 'Section',\n",
       " 'Heart',\n",
       " 'risk',\n",
       " 'link',\n",
       " 'to',\n",
       " 'big',\n",
       " 'families',\n",
       " 'Back',\n",
       " 'pain',\n",
       " 'drug',\n",
       " \"'may\",\n",
       " 'aid',\n",
       " \"diabetics'\",\n",
       " 'Congo',\n",
       " 'Ebola',\n",
       " 'outbreak',\n",
       " 'confirmed',\n",
       " 'Vegetables',\n",
       " 'ward',\n",
       " 'off',\n",
       " \"Alzheimer's\",\n",
       " 'Polio',\n",
       " 'campaign',\n",
       " 'launched',\n",
       " 'in',\n",
       " 'Iraq',\n",
       " 'Gene',\n",
       " 'defect',\n",
       " 'explains',\n",
       " 'high',\n",
       " 'blood',\n",
       " 'pressure',\n",
       " 'Botox',\n",
       " \"'may\",\n",
       " 'cause',\n",
       " 'new',\n",
       " \"wrinkles'\",\n",
       " 'Alien',\n",
       " \"'abductees\",\n",
       " \"'\",\n",
       " 'show',\n",
       " 'real',\n",
       " 'symptoms',\n",
       " 'How',\n",
       " 'sperm',\n",
       " 'wriggle',\n",
       " 'Bollywood',\n",
       " 'told',\n",
       " 'to',\n",
       " 'stub',\n",
       " 'it',\n",
       " 'out',\n",
       " 'Fears',\n",
       " 'over',\n",
       " 'tuna',\n",
       " 'health',\n",
       " 'risk',\n",
       " 'to',\n",
       " 'babies',\n",
       " 'Public',\n",
       " 'can',\n",
       " 'be',\n",
       " 'taught',\n",
       " 'to',\n",
       " 'spot',\n",
       " 'strokes',\n",
       " '^^',\n",
       " 'Back',\n",
       " 'to',\n",
       " 'top',\n",
       " 'News',\n",
       " 'Front',\n",
       " 'Page',\n",
       " '|',\n",
       " 'Africa',\n",
       " '|',\n",
       " 'Americas',\n",
       " '|',\n",
       " 'Asia-Pacific',\n",
       " '|',\n",
       " 'Europe',\n",
       " '|',\n",
       " 'Middle',\n",
       " 'East',\n",
       " '|',\n",
       " 'South',\n",
       " 'Asia',\n",
       " '|',\n",
       " 'UK',\n",
       " '|',\n",
       " 'Business',\n",
       " '|',\n",
       " 'Entertainment',\n",
       " '|',\n",
       " 'Science/Nature',\n",
       " '|',\n",
       " 'Technology',\n",
       " '|',\n",
       " 'Health',\n",
       " '|',\n",
       " 'Talking',\n",
       " 'Point',\n",
       " '|',\n",
       " 'Country',\n",
       " 'Profiles',\n",
       " '|',\n",
       " 'In',\n",
       " 'Depth',\n",
       " '|',\n",
       " 'Programmes',\n",
       " '--',\n",
       " '--',\n",
       " '--',\n",
       " '--',\n",
       " '--',\n",
       " '--',\n",
       " '--',\n",
       " '--',\n",
       " '--',\n",
       " '--',\n",
       " '--',\n",
       " '--',\n",
       " '--',\n",
       " '--',\n",
       " '--',\n",
       " '--',\n",
       " '--',\n",
       " '--',\n",
       " '--',\n",
       " '--',\n",
       " '--',\n",
       " '--',\n",
       " '--',\n",
       " '--',\n",
       " '--',\n",
       " '--',\n",
       " '--',\n",
       " '--',\n",
       " '--',\n",
       " '--',\n",
       " '--',\n",
       " '--',\n",
       " '--',\n",
       " '--',\n",
       " '--',\n",
       " '--',\n",
       " '--',\n",
       " '--',\n",
       " '--',\n",
       " '--',\n",
       " '--',\n",
       " 'To',\n",
       " 'BBC',\n",
       " 'Sport',\n",
       " '>',\n",
       " '>',\n",
       " '|',\n",
       " 'To',\n",
       " 'BBC',\n",
       " 'Weather',\n",
       " '>',\n",
       " '>',\n",
       " '|',\n",
       " 'To',\n",
       " 'BBC',\n",
       " 'World',\n",
       " 'Service',\n",
       " '>',\n",
       " '>',\n",
       " '--',\n",
       " '--',\n",
       " '--',\n",
       " '--',\n",
       " '--',\n",
       " '--',\n",
       " '--',\n",
       " '--',\n",
       " '--',\n",
       " '--',\n",
       " '--',\n",
       " '--',\n",
       " '--',\n",
       " '--',\n",
       " '--',\n",
       " '--',\n",
       " '--',\n",
       " '--',\n",
       " '--',\n",
       " '--',\n",
       " '--',\n",
       " '--',\n",
       " '--',\n",
       " '--',\n",
       " '--',\n",
       " '--',\n",
       " '--',\n",
       " '--',\n",
       " '--',\n",
       " '--',\n",
       " '--',\n",
       " '--',\n",
       " '--',\n",
       " '--',\n",
       " '--',\n",
       " '--',\n",
       " '--',\n",
       " '--',\n",
       " '--',\n",
       " '--',\n",
       " '--',\n",
       " '©',\n",
       " 'MMIII',\n",
       " '|',\n",
       " 'News',\n",
       " 'Sources',\n",
       " '|',\n",
       " 'Privacy',\n",
       " '<',\n",
       " '!',\n",
       " '--',\n",
       " 'var',\n",
       " 'pCid=',\n",
       " \"''\",\n",
       " 'uk_bbc_0',\n",
       " \"''\",\n",
       " ';',\n",
       " 'var',\n",
       " 'w0=1',\n",
       " ';',\n",
       " 'var',\n",
       " 'refR=escape',\n",
       " '(',\n",
       " 'document.referrer',\n",
       " ')',\n",
       " ';',\n",
       " 'if',\n",
       " '(',\n",
       " 'refR.length',\n",
       " '>',\n",
       " '=252',\n",
       " ')',\n",
       " 'refR=refR.substring',\n",
       " '(',\n",
       " '0,252',\n",
       " ')',\n",
       " '+',\n",
       " \"''\",\n",
       " '...',\n",
       " \"''\",\n",
       " ';',\n",
       " '//',\n",
       " '--',\n",
       " '>',\n",
       " '<',\n",
       " '!',\n",
       " '--',\n",
       " 'var',\n",
       " 'w0=0',\n",
       " ';',\n",
       " '//',\n",
       " '--',\n",
       " '>',\n",
       " '<',\n",
       " '!',\n",
       " '--',\n",
       " 'if',\n",
       " '(',\n",
       " 'w0',\n",
       " ')',\n",
       " '{',\n",
       " 'var',\n",
       " 'imgN=',\n",
       " \"'\",\n",
       " '<',\n",
       " 'img',\n",
       " 'src=',\n",
       " \"''\",\n",
       " 'http',\n",
       " ':',\n",
       " '//server-uk.imrworldwide.com/cgi-bin/count',\n",
       " '?',\n",
       " \"ref='+\",\n",
       " 'refR+',\n",
       " \"'\",\n",
       " '&',\n",
       " \"cid='+pCid+\",\n",
       " \"'\",\n",
       " \"''\",\n",
       " 'width=1',\n",
       " 'height=1',\n",
       " '>',\n",
       " \"'\",\n",
       " ';',\n",
       " 'if',\n",
       " '(',\n",
       " 'navigator.userAgent.indexOf',\n",
       " '(',\n",
       " \"'Mac\",\n",
       " \"'\",\n",
       " ')',\n",
       " '!',\n",
       " '=-1',\n",
       " ')',\n",
       " '{',\n",
       " 'document.write',\n",
       " '(',\n",
       " 'imgN',\n",
       " ')',\n",
       " ';',\n",
       " '}',\n",
       " 'else',\n",
       " '{',\n",
       " 'document.write',\n",
       " '(',\n",
       " \"'\",\n",
       " '<',\n",
       " 'applet',\n",
       " 'code=',\n",
       " \"''\",\n",
       " 'Measure.class',\n",
       " \"''\",\n",
       " \"'+\",\n",
       " \"'codebase=\",\n",
       " \"''\",\n",
       " 'http',\n",
       " ':',\n",
       " '//server-uk.imrworldwide.com/',\n",
       " \"''\",\n",
       " \"'+'width=1\",\n",
       " 'height=2',\n",
       " '>',\n",
       " \"'+\",\n",
       " \"'\",\n",
       " '<',\n",
       " 'param',\n",
       " 'name=',\n",
       " \"''\",\n",
       " 'ref',\n",
       " \"''\",\n",
       " 'value=',\n",
       " \"''\",\n",
       " \"'+refR+\",\n",
       " \"'\",\n",
       " \"''\",\n",
       " '>',\n",
       " \"'+\",\n",
       " \"'\",\n",
       " '<',\n",
       " 'param',\n",
       " 'name=',\n",
       " \"''\",\n",
       " 'cid',\n",
       " \"''\",\n",
       " 'value=',\n",
       " \"''\",\n",
       " \"'+pCid+\",\n",
       " \"'\",\n",
       " \"''\",\n",
       " '>',\n",
       " '<',\n",
       " 'textflow',\n",
       " '>',\n",
       " \"'+imgN+\",\n",
       " \"'\",\n",
       " '<',\n",
       " '/textflow',\n",
       " '>',\n",
       " '<',\n",
       " '/applet',\n",
       " '>',\n",
       " \"'\",\n",
       " ')',\n",
       " ';',\n",
       " '}',\n",
       " '}',\n",
       " 'document.write',\n",
       " '(',\n",
       " '``',\n",
       " '<',\n",
       " 'COMMENT',\n",
       " '>',\n",
       " \"''\",\n",
       " ')',\n",
       " ';',\n",
       " '//',\n",
       " '--',\n",
       " '>',\n",
       " 'var',\n",
       " 'si',\n",
       " '=',\n",
       " 'document.location+',\n",
       " \"''\",\n",
       " \"''\",\n",
       " ';',\n",
       " 'var',\n",
       " 'tsi',\n",
       " '=',\n",
       " 'si.replace',\n",
       " '(',\n",
       " '``',\n",
       " '.stm',\n",
       " \"''\",\n",
       " ',',\n",
       " \"''\",\n",
       " \"''\",\n",
       " ')',\n",
       " '.substr',\n",
       " '(',\n",
       " 'si.length-11',\n",
       " ',',\n",
       " 'si.length',\n",
       " ')',\n",
       " ';',\n",
       " 'if',\n",
       " '(',\n",
       " '!',\n",
       " 'tsi.match',\n",
       " '(',\n",
       " '/\\\\d\\\\d\\\\d\\\\d\\\\d\\\\d\\\\d/',\n",
       " ')',\n",
       " ')',\n",
       " '{',\n",
       " 'tsi',\n",
       " '=',\n",
       " '0',\n",
       " ';',\n",
       " '}',\n",
       " 'document.write',\n",
       " '(',\n",
       " \"'\",\n",
       " '<',\n",
       " 'img',\n",
       " 'src=',\n",
       " \"''\",\n",
       " 'http',\n",
       " ':',\n",
       " '//stats.bbc.co.uk/o.gif',\n",
       " '?',\n",
       " '~RS~s~RS~News~RS~t~RS~HighWeb_Legacy~RS~i~RS~',\n",
       " \"'\",\n",
       " '+',\n",
       " 'tsi',\n",
       " '+',\n",
       " \"'~RS~p~RS~0~RS~u~RS~/2/hi/health/2284783.stm~RS~r~RS~\",\n",
       " '(',\n",
       " 'none',\n",
       " ')',\n",
       " '~RS~a~RS~International~RS~q~RS~~RS~z~RS~13~RS~',\n",
       " \"''\",\n",
       " '>',\n",
       " \"'\",\n",
       " ')',\n",
       " ';']"
      ]
     },
     "execution_count": 21,
     "metadata": {},
     "output_type": "execute_result"
    }
   ],
   "source": [
    "# Dealing with HTML\n",
    "# To get text out of HTML we will use a Python library called BeautifulSoup\n",
    "url = \"http://news.bbc.co.uk/2/hi/health/2284783.stm\"\n",
    "html = request.urlopen(url).read().decode('utf8')\n",
    "html[:10]\n",
    "\n",
    "from bs4 import BeautifulSoup\n",
    "raw = BeautifulSoup(html).get_text()\n",
    "tokens = word_tokenize(raw)\n",
    "tokens"
   ]
  },
  {
   "cell_type": "markdown",
   "metadata": {},
   "source": [
    "# Part 7 - Parsing & NER "
   ]
  },
  {
   "cell_type": "markdown",
   "metadata": {},
   "source": [
    "Information extraction have several steps,  \n",
    "1. First, the raw text of the document is split into sentences using a sentence segmenter\n",
    "2. Each sentence is further subdivided into words using a tokenizer. \n",
    "3. Each sentence is tagged with part-of-speech tags, which will prove very helpful in the next step, named entity detection. In this step, we search for mentions of potentially interesting entities in each sentence. \n",
    "4. Finally, we use relation detection to search for likely relations between different entities in the text.\n",
    " <br/>\n",
    "\n",
    "### > Different types of parsers\n",
    "Shallow parsing is the task of parsing a limited part of the syntactic information from the given text. While deep parsing is required for more complex NLP applications, such as dialogue systems and summarization, shallow parsing is more suited for information extraction and text mining varieties of applications.\n",
    "1. Recursive descent parser\n",
    "2. Shift-reduce parser\n",
    "3. Chart parser\n",
    "4. Regex parser\n",
    "\n"
   ]
  },
  {
   "cell_type": "markdown",
   "metadata": {},
   "source": [
    "### > Chunking\n",
    "Chunking is shallow parsing where instead of reaching out to the deep structure\n",
    "of the sentence, we try to club some chunks of the sentences that constitute some\n",
    "meaning.A chunk can be defined as the minimal unit that can be processed. So, for example, the\n",
    "sentence \"the President speaks about the health care reforms\" can be broken into two\n",
    "chunks, one is \"the President\", which is noun dominated, and hence is called a noun\n",
    "phrase (NP). The remaining part of the sentence is dominated by a verb, hence it is\n",
    "called a verb phrase (VP).Formally, chunking can also be described as a processing interface to identify\n",
    "non-overlapping groups in unrestricted text."
   ]
  }
 ],
 "metadata": {
  "kernelspec": {
   "display_name": "Python 3",
   "language": "python",
   "name": "python3"
  },
  "language_info": {
   "codemirror_mode": {
    "name": "ipython",
    "version": 3
   },
   "file_extension": ".py",
   "mimetype": "text/x-python",
   "name": "python",
   "nbconvert_exporter": "python",
   "pygments_lexer": "ipython3",
   "version": "3.6.5"
  }
 },
 "nbformat": 4,
 "nbformat_minor": 2
}
